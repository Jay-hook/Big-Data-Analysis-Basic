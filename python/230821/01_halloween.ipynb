{
 "cells": [
  {
   "cell_type": "markdown",
   "metadata": {},
   "source": [
    "### 할로윈 투자 전략\n",
    "1. 11월 첫날에 주식을 매수 -> 6개월간 유지 4월 말일에 판매\n",
    "2. 11월 첫날의 시가로 구매\n",
    "3. 4월 마지막날의 종가로 판매\n",
    "4. 수익율 -> (3번과정 - 2번과정) / 2번과정 + 1\n",
    "5. 주식 데이터를 가지고 수익율 계산"
   ]
  },
  {
   "cell_type": "code",
   "execution_count": null,
   "metadata": {},
   "outputs": [],
   "source": [
    "import pandas as pd\n",
    "from datetime import datetime"
   ]
  },
  {
   "cell_type": "code",
   "execution_count": null,
   "metadata": {},
   "outputs": [],
   "source": [
    "df = pd.read_csv(\"../../csv/AMZN.csv\", index_col='Date')\n",
    "df.head(1)"
   ]
  },
  {
   "cell_type": "code",
   "execution_count": null,
   "metadata": {},
   "outputs": [],
   "source": [
    "# index를 시계열 변경\n",
    "df.index = pd.to_datetime(df.index, format='%Y-%m-%d')"
   ]
  },
  {
   "cell_type": "code",
   "execution_count": null,
   "metadata": {},
   "outputs": [],
   "source": [
    "# 2000년 11월 첫날의 데이터 출력(시가)\n",
    "df.loc['2000-11'].iloc[[0]]"
   ]
  },
  {
   "cell_type": "code",
   "execution_count": null,
   "metadata": {},
   "outputs": [],
   "source": [
    "# 2001년 4월 마지막 날의 데이터 출력(종가)\n",
    "df.loc['2001-04'].iloc[-1]['Close']"
   ]
  },
  {
   "cell_type": "code",
   "execution_count": null,
   "metadata": {},
   "outputs": [],
   "source": [
    "# 2000년부터 2019년까지 11월의 첫날의 데이터와 4월의 마지막날의 데이터만 추출하여\n",
    "# 새로운 데이터프레임을 생성\n",
    "\n",
    "# 1. 비어있는 데이터프레임 생성\n",
    "price_df = pd.DataFrame()\n",
    "# 2. 반복문을 이용하여 2000년부터 2019년까지 반복\n",
    "for i in range(2000, 2019):\n",
    "    # 11월 첫날의 데이터를 추출\n",
    "    buy_mon = str(i) + \"-11\"    # 2000-11\n",
    "    buy = df.loc[buy_mon].iloc[[0]]\n",
    "    # 데이터프레임에 결합\n",
    "    price_df = pd.concat([price_df, buy], axis=0)\n",
    "    # 다음 년도의 4월 마지막의 데이터를 추출\n",
    "    sell_mon = str(i+1) + '-04' # 2001-04\n",
    "    sell = df.loc[sell_mon].iloc[[-1]]\n",
    "    # 데이터 프레임에 결합\n",
    "    price_df = pd.concat([price_df, sell], axis=0)\n",
    "\n",
    "price_df\n"
   ]
  },
  {
   "cell_type": "code",
   "execution_count": null,
   "metadata": {},
   "outputs": [],
   "source": [
    "# 시가와 종가 컬럼만 추출\n",
    "price_df = price_df[['Open', 'Close']]\n",
    "price_df.head(2)"
   ]
  },
  {
   "cell_type": "code",
   "execution_count": null,
   "metadata": {},
   "outputs": [],
   "source": [
    "# rtn 컬럼을 생성 데이터는 1\n",
    "price_df['rtn'] = 1\n",
    "price_df.head(2)\n",
    "# 4월 데이터에서 수익율 발생 -> 전행의 시가와 현재행의 종가로 수익율 발생"
   ]
  },
  {
   "cell_type": "code",
   "execution_count": null,
   "metadata": {},
   "outputs": [],
   "source": [
    "# 인덱스가 4월인 조건식?\n",
    "price_df.index.month == 4"
   ]
  },
  {
   "cell_type": "code",
   "execution_count": null,
   "metadata": {},
   "outputs": [],
   "source": [
    "for i in price_df.index:\n",
    "    # i는? -> index\n",
    "    # index가 4월인 경우\n",
    "    if i.month == 4:\n",
    "        # 수익율을 계산 (현재행의 종가 - 전행의 시가) / 전행의 시가 + 1\n",
    "        rtn = (price_df.loc[i, 'Close'] - price_df.shift(1).loc[i, 'Open']) \\\n",
    "        / price_df.shift(1).loc[i, 'Open'] + 1\n",
    "        # 수익율을 rtn에 대입 \n",
    "        price_df.loc[i, 'rtn'] = rtn\n",
    "\n",
    "price_df.head(6)\n"
   ]
  },
  {
   "cell_type": "code",
   "execution_count": null,
   "metadata": {},
   "outputs": [],
   "source": [
    "# 누적 수익율 계산\n",
    "acc_rtn = 1\n",
    "for i in price_df.index:\n",
    "    rtn = price_df.loc[i, 'rtn']\n",
    "    acc_rtn *= rtn\n",
    "\n",
    "acc_rtn"
   ]
  },
  {
   "cell_type": "code",
   "execution_count": null,
   "metadata": {},
   "outputs": [],
   "source": [
    "from dateutil.relativedelta import relativedelta"
   ]
  },
  {
   "cell_type": "code",
   "execution_count": null,
   "metadata": {},
   "outputs": [],
   "source": [
    "# 2000년 11월 1일 시계열 데이터를 생성\n",
    "start = datetime(year=2000, month=11, day=1)\n",
    "start"
   ]
  },
  {
   "cell_type": "code",
   "execution_count": null,
   "metadata": {},
   "outputs": [],
   "source": [
    "# 매도 월 \n",
    "# 시작 시간에서 5개월 뒤 \n",
    "end  = start + relativedelta(months=5)\n",
    "end"
   ]
  },
  {
   "cell_type": "code",
   "execution_count": null,
   "metadata": {},
   "outputs": [],
   "source": [
    "print(start.strftime('%Y-%m'), end.strftime('%Y-%m'))"
   ]
  },
  {
   "cell_type": "code",
   "execution_count": null,
   "metadata": {},
   "outputs": [],
   "source": [
    "def six_month(df, start = 2000, end = 2019, month = 11):\n",
    "    if 'Date' in df.columns:\n",
    "        df.set_index('Date', inplace=True)\n",
    "    # 인덱스를 시계열로 변경\n",
    "    df.index = pd.to_datetime(df.index, format='%Y-%m-%d')\n",
    "\n",
    "    # 누적수익율\n",
    "    acc_rtn = 1\n",
    "\n",
    "    for i in range(start, end):\n",
    "        _start = datetime(year = i, month = month, day = 1)\n",
    "        _end = _start + relativedelta(months=5)\n",
    "\n",
    "        # 구매하는 달\n",
    "        buy_mon = _start.strftime('%Y-%m')\n",
    "        # 판매하는 달\n",
    "        sell_mon = _end.strftime('%Y-%m')\n",
    "\n",
    "        # 구매한 가격 \n",
    "        buy = df.loc[buy_mon].iloc[0]['Open']\n",
    "        # 판매한 가격\n",
    "        sell = df.loc[sell_mon].iloc[-1]['Close']\n",
    "\n",
    "        # rtn = (sell - buy) / buy + 1\n",
    "        rtn = sell / buy\n",
    "\n",
    "        # 누적수익율 계산\n",
    "        acc_rtn *= rtn\n",
    "        \n",
    "    return acc_rtn"
   ]
  },
  {
   "cell_type": "code",
   "execution_count": null,
   "metadata": {},
   "outputs": [],
   "source": [
    "six_month(df)"
   ]
  },
  {
   "cell_type": "code",
   "execution_count": null,
   "metadata": {},
   "outputs": [],
   "source": [
    "# 1월부터 12월까지 반복\n",
    "for i in range(1, 13):\n",
    "    print(f\"{i}월의 누적 수익율 :\", six_month(df, month=i))"
   ]
  },
  {
   "cell_type": "code",
   "execution_count": null,
   "metadata": {},
   "outputs": [],
   "source": [
    "df2 = pd.read_csv(\"../../csv/AAPL.csv\", index_col='Date')"
   ]
  },
  {
   "cell_type": "code",
   "execution_count": null,
   "metadata": {},
   "outputs": [],
   "source": [
    "for i in range(1, 13):\n",
    "    print(f\"{i}월의 누적 수익율 :\", six_month(df2, month=i))"
   ]
  },
  {
   "cell_type": "code",
   "execution_count": 51,
   "metadata": {},
   "outputs": [],
   "source": [
    "import halloween"
   ]
  },
  {
   "cell_type": "code",
   "execution_count": 52,
   "metadata": {},
   "outputs": [
    {
     "data": {
      "text/plain": [
       "8.177103601339539"
      ]
     },
     "execution_count": 52,
     "metadata": {},
     "output_type": "execute_result"
    }
   ],
   "source": [
    "halloween.six_month(df2)"
   ]
  }
 ],
 "metadata": {
  "kernelspec": {
   "display_name": "Python 3",
   "language": "python",
   "name": "python3"
  },
  "language_info": {
   "codemirror_mode": {
    "name": "ipython",
    "version": 3
   },
   "file_extension": ".py",
   "mimetype": "text/x-python",
   "name": "python",
   "nbconvert_exporter": "python",
   "pygments_lexer": "ipython3",
   "version": "3.11.1"
  },
  "orig_nbformat": 4
 },
 "nbformat": 4,
 "nbformat_minor": 2
}
