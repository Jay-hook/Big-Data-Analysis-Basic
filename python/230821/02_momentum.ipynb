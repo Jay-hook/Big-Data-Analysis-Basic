{
 "cells": [
  {
   "cell_type": "code",
   "execution_count": null,
   "metadata": {},
   "outputs": [],
   "source": [
    "import pandas as pd \n",
    "import numpy as np"
   ]
  },
  {
   "cell_type": "markdown",
   "metadata": {},
   "source": [
    "### 절대모멘텀\n",
    "1. 주식 데이터 로드 \n",
    "2. Date를 시계열로 변경\n",
    "3. 파생변수 생성 (년월) -> Date에서 년-월을 추출\n",
    "4. 년, 월 별 마지막 날의 month_last_df 데이터프레임을 하나 생성\n",
    "5. 전월의 종가를 가지는 파생변수를 생성 (month_last_df)\n",
    "6. 전년도의 종가를 가지는 파생변수 생성 (month_last_df)\n",
    "7. 전월, 전년도의 종가를 가지고 거래 내역 생성\n",
    "8. 수익율 계산 \n",
    "9. 누적 수익율 계산"
   ]
  },
  {
   "cell_type": "code",
   "execution_count": null,
   "metadata": {},
   "outputs": [],
   "source": [
    "df = pd.read_csv('../../csv/GDX.csv')\n",
    "df2 = df.copy()"
   ]
  },
  {
   "cell_type": "code",
   "execution_count": null,
   "metadata": {},
   "outputs": [],
   "source": [
    "df2.set_index('Date', inplace=True)"
   ]
  },
  {
   "cell_type": "code",
   "execution_count": null,
   "metadata": {},
   "outputs": [],
   "source": [
    "df['Date'] = pd.to_datetime(df['Date'], format='%Y-%m-%d')\n",
    "df2.index = pd.to_datetime(df2.index, format='%Y-%m-%d')"
   ]
  },
  {
   "cell_type": "code",
   "execution_count": null,
   "metadata": {},
   "outputs": [],
   "source": [
    "# 파생변수 이름은 STD-YM\n",
    "# 년-월 Date 컬럼에서 추출\n",
    "\n",
    "# case1\n",
    "df['Date'].dt.strftime('%Y-%m')"
   ]
  },
  {
   "cell_type": "code",
   "execution_count": null,
   "metadata": {},
   "outputs": [],
   "source": [
    "# case2 (apply() + 일반함수)\n",
    "def change(x):\n",
    "    # x는? -> Date의 value -> type : datetime\n",
    "    result = x.strftime('%Y-%m')\n",
    "    return result\n",
    "\n",
    "df['Date'].apply(change)"
   ]
  },
  {
   "cell_type": "code",
   "execution_count": null,
   "metadata": {},
   "outputs": [],
   "source": [
    "# case3 (apply() + lambda함수)\n",
    "\n",
    "df['STD-YM'] = df['Date'].apply(lambda x : x.strftime('%Y-%m'))\n",
    "df.set_index('Date', inplace=True)"
   ]
  },
  {
   "cell_type": "code",
   "execution_count": null,
   "metadata": {},
   "outputs": [],
   "source": [
    "# 시계열 데이터가 인덱스에 존재할때\n",
    "df2['STD-YM'] = df2.index.strftime('%Y-%m').to_list()"
   ]
  },
  {
   "cell_type": "code",
   "execution_count": null,
   "metadata": {},
   "outputs": [],
   "source": [
    "df.head(3)"
   ]
  },
  {
   "cell_type": "code",
   "execution_count": null,
   "metadata": {},
   "outputs": [],
   "source": [
    "df2.head(3)"
   ]
  },
  {
   "cell_type": "code",
   "execution_count": null,
   "metadata": {},
   "outputs": [],
   "source": [
    "# 말일의 데이터를 모아서 하나의 데이터프레임으로 생성4\n",
    "\n",
    "# case1 (shift사용)\n",
    "flag = df['STD-YM'] != df.shift(-1)['STD-YM']\n",
    "df.loc[flag]"
   ]
  },
  {
   "cell_type": "code",
   "execution_count": null,
   "metadata": {},
   "outputs": [],
   "source": [
    "df.loc[df['STD-YM'] == '2009-01'].tail(1)"
   ]
  },
  {
   "cell_type": "code",
   "execution_count": null,
   "metadata": {},
   "outputs": [],
   "source": [
    "# case2 (for문)\n",
    "\n",
    "month_last_df = pd.DataFrame()\n",
    "\n",
    "\n",
    "# 년월 데이터들들을 필터링 -> 가장 마지막의 데이터를 test_df 추가\n",
    "\n",
    "# STD-YM 중복된 데이터를 없애고 리스트 출력\n",
    "_list = df['STD-YM'].unique()\n",
    "# df['STD-YM'].value_counts().index\n",
    "\n",
    "for i in _list:\n",
    "    last_data = df.loc[df['STD-YM'] == i].iloc[[-1]]\n",
    "    month_last_df = pd.concat([month_last_df, last_data], axis=0)\n",
    "\n",
    "month_last_df\n"
   ]
  },
  {
   "cell_type": "code",
   "execution_count": null,
   "metadata": {},
   "outputs": [],
   "source": [
    "# 파생변수 BF_1M 생성하여 전월의 수정종가(Adj Close)의 값을 대입(결측치는 0으로 대체)\n",
    "month_last_df['BF_1M'] =  month_last_df['Adj Close'].shift(1).replace(np.nan, 0)"
   ]
  },
  {
   "cell_type": "code",
   "execution_count": null,
   "metadata": {},
   "outputs": [],
   "source": [
    "# 파생변수 BF_12M 생성하여 전년도의 수정종가(Adj Close)의 값을 대입(결측치는 0으로 대체)\n",
    "month_last_df['BF_12M'] =  month_last_df['Adj Close'].shift(12).fillna(0)"
   ]
  },
  {
   "cell_type": "code",
   "execution_count": null,
   "metadata": {},
   "outputs": [],
   "source": [
    "month_last_df.iloc[10:15]"
   ]
  },
  {
   "cell_type": "code",
   "execution_count": null,
   "metadata": {},
   "outputs": [],
   "source": [
    "# 거래 내역 추가 (df)\n",
    "df['trade'] = \"\"\n",
    "# 구매 조건 -> ((전월 종가 / 전 년도의 종가) - 1)의 값이 0보다 크고 무한대 아닌 경우\n",
    "for i in month_last_df.index:\n",
    "    # 구매 상태 변수를 생성\n",
    "    signal = \"\"\n",
    "\n",
    "    # 절대 모멘텀을 계산\n",
    "    momentum_index = month_last_df.loc[i, 'BF_1M'] \\\n",
    "        / month_last_df.loc[i, 'BF_12M'] - 1\n",
    "    # print(momentum_index)\n",
    "    # momentum_index가 0보다 크고 무한대가 아닌 경우 signal을 buy\n",
    "    # 조건식 생성\n",
    "    # case1\n",
    "    flag = True if ((momentum_index > 0) and (momentum_index != np.inf) \n",
    "                    and (momentum_index != -np.inf)) else False\n",
    "    # case2\n",
    "    # if (momentum_index > 0) and (momentum_index != np.inf)\\\n",
    "    #       and (momentum_index != -np.inf):\n",
    "    #     flag = True\n",
    "    # else:\n",
    "    #     flag = False\n",
    "\n",
    "    if flag:\n",
    "        signal = 'buy'\n",
    "    \n",
    "    print('날짜 :', i, \"모멘텀 인덱스 :\", momentum_index, \n",
    "          'flag :', flag, 'signal :', signal)\n",
    "    df.loc[i, 'trade'] = signal\n",
    "    "
   ]
  },
  {
   "cell_type": "code",
   "execution_count": null,
   "metadata": {},
   "outputs": [],
   "source": [
    "df['trade'].value_counts()"
   ]
  },
  {
   "cell_type": "markdown",
   "metadata": {},
   "source": [
    "### 수익율 계산\n",
    "1. 파생변수(return) 생성 ->  데이터는 1\n",
    "2. rtn 변수를 생성하여 1 초기값을 지정 \n",
    "3. buy, sell = 0 으로 초기 값을 지정 \n",
    "4. 반복문을 이용하여 현재 행의 trade가 buy이고 전 행의 trade가 \"\"인 경우 구매가에 수정종가를 대입\n",
    "5. 전 행의 trade가 'buy'이고 현재의 행이 ''인 경우 판매가에 수정종가를 대입\n",
    "6. 수익율 계산하여 대입\n",
    "### 누적 수익율 계산\n",
    "1. acc_rtn = 1 생성\n",
    "2. return의 항목들을 누적 곱하여 acc_rtn 컬럼에 대입 \n",
    "3. acc_rtn 출력"
   ]
  },
  {
   "cell_type": "code",
   "execution_count": null,
   "metadata": {},
   "outputs": [],
   "source": [
    "df['return'] = 1\n",
    "rtn = 1\n",
    "buy = 0\n",
    "sell = 0\n",
    "\n",
    "for i in df.index:\n",
    "    # 구매한 날을 체크 \n",
    "    if (df.loc[i, 'trade'] == 'buy') and (df.shift(1).loc[i, 'trade'] == \"\"):\n",
    "        buy = df.loc[i, 'Adj Close']\n",
    "        print('매수일 :', i, \"매수가 :\", buy)\n",
    "    # 판매한 날을 체크\n",
    "    elif (df.loc[i, 'trade'] == \"\") and (df.shift(1).loc[i, 'trade'] == 'buy'):\n",
    "        sell = df.loc[i, 'Adj Close']\n",
    "        # 수익율 계산\n",
    "        rtn = sell / buy\n",
    "        # 수익율을 데이터프레임에 대입\n",
    "        df.loc[i, 'return'] = rtn\n",
    "        print('매도일 :', i, \"매도가 :\", sell, '수익율 :', rtn)"
   ]
  },
  {
   "cell_type": "code",
   "execution_count": null,
   "metadata": {},
   "outputs": [],
   "source": [
    "acc_rtn = 1\n",
    "\n",
    "for i in df.index:\n",
    "    acc_rtn *= df.loc[i, 'return']\n",
    "    df.loc[i, 'acc_rtn'] = acc_rtn\n",
    "\n",
    "print(acc_rtn)"
   ]
  },
  {
   "cell_type": "markdown",
   "metadata": {},
   "source": [
    "### 절대 모멘텀 함수화 \n",
    "1. 첫 번째 함수\n",
    "    - 매개변수 1개 (데이터프레임)\n",
    "    - Date라는 컬럼이 존재하는가? -> 존재하면 Date를 인덱스로 변경\n",
    "    - 수정종가를 제외한 나머지 컬럼을 삭제\n",
    "    - 데이터프레임에서 결측치와 무한대를 제거 \n",
    "    - 인덱스를 시계열 변경 \n",
    "    - 'STD-YM' 파생변수 생성하여 인덱스의 '년-월' 추출하여 대입\n",
    "    - 데이터프레임을 리턴\n",
    "2. 두 번째 함수\n",
    "    - 매개변수 1개 (데이터프레임)\n",
    "    - 새로운 데이터프레임을 생성\n",
    "    - 인자값으로 받아온 데이터프레임에서 년-월별 마지막 데이터를 새로운 데이터프레임에 대입\n",
    "    - 새로운 데이터프레임에 파생변수 2개 생성 \n",
    "        - 'BF_1M' : 전월의 종가, 결측치는 0으로 대체\n",
    "        - 'BF_12M' : 전 년도의 종가, 결측치는 0으로 대체\n",
    "    - 새로운 데이터 프레임을 리턴\n",
    "3. 세 번째 함수\n",
    "    - 매개변수 2개(1번의 결과(df1), 2번 결과(df2))\n",
    "    - df1에 trade 파생변수 생성 -> 데이터는 ''\n",
    "    - df1에 return 파생변수 생성 -> 데이터는 1\n",
    "    - df2의 값들을 이용하여 momentum_index를 구하고 df1에 거래내역을 삽입\n",
    "    - df1의 거래내역을 이용하여 수익율 return에 대입\n",
    "    - return컬럼의 데이터를 가지고 누적 수익율(acc_rtn)에 대입 \n",
    "    - 총 누적 수익율을 출력\n",
    "    - df1을 리턴"
   ]
  },
  {
   "cell_type": "code",
   "execution_count": null,
   "metadata": {},
   "outputs": [],
   "source": [
    "df = pd.read_csv('../../csv/AAPL.csv')"
   ]
  },
  {
   "cell_type": "code",
   "execution_count": null,
   "metadata": {},
   "outputs": [],
   "source": [
    "from datetime import datetime\n",
    "import pandas as pd\n",
    "import numpy as np"
   ]
  },
  {
   "cell_type": "code",
   "execution_count": null,
   "metadata": {},
   "outputs": [],
   "source": [
    "# 첫 번째 함수 \n",
    "def add_col(df, col = 'Close', start=\"20080101\", end = \"20231231\"):\n",
    "    # Date 라는 컬럼이 존재하는가?\n",
    "    if 'Date' in df.columns:\n",
    "        df.set_index('Date', inplace=True)\n",
    "\n",
    "    start = int(start) - 10000\n",
    "    start = datetime.strptime(str(start), '%Y%m%d').isoformat()\n",
    "    end = datetime.strptime(end, '%Y%m%d').isoformat()\n",
    "    \n",
    "    \n",
    "    # 수정종가를 제외한 나머지 컬럼은 제거 \n",
    "    df = df[[col]]\n",
    "\n",
    "    # 결측치와 무한대가 아닌 경우 조건식 생성\n",
    "    flag = ~(df.isin([np.nan, np.inf, -np.inf]).any(axis=1))\n",
    "    df = df.loc[flag]\n",
    "\n",
    "    # 인덱스를 시계열 데이터로 변경 \n",
    "    df.index = pd.to_datetime(df.index, format='%Y-%m-%d')\n",
    "\n",
    "    df = df.loc[start:end]\n",
    "\n",
    "    # 인덱스의 시계열중 '년-월' 추출하여 STD-YM에 대입\n",
    "    df['STD-YM'] = (df.index.strftime('%Y-%m')).to_list()\n",
    "\n",
    "    return df"
   ]
  },
  {
   "cell_type": "code",
   "execution_count": null,
   "metadata": {},
   "outputs": [],
   "source": [
    "momentum_data = add_col(df, 'Adj Close')"
   ]
  },
  {
   "cell_type": "code",
   "execution_count": null,
   "metadata": {},
   "outputs": [],
   "source": [
    "momentum_data"
   ]
  },
  {
   "cell_type": "code",
   "execution_count": null,
   "metadata": {},
   "outputs": [],
   "source": [
    "def add_df(df):\n",
    "    # 기준이 되는 컬럼\n",
    "    col = df.columns[0]\n",
    "    # case1\n",
    "    # 새로운 컬럼을 생성\n",
    "    # df2 = pd.DataFrame()\n",
    "\n",
    "    # # STD-YM데이터의 중복된 데이터를 제거하고 리스트 형태로 변수에 대입\n",
    "    # _list = df['STD-YM'].unique()\n",
    "\n",
    "    # # _list를 기준으로 반복문을 사용\n",
    "    # for i in _list:\n",
    "    #     last_data = df.loc[df['STD-YM'] == i].tail(1)\n",
    "    #     df2 = pd.concat([df2, last_data], axis=0)\n",
    "\n",
    "    # case2 인덱스의 조건식으로 말일의 데이터를 출력(현재행의 STD-YM과 다음 행의 STD-YM이 다른 경우)\n",
    "    flag = df['STD-YM'] != df.shift(-1)['STD-YM']\n",
    "    df2 = df.loc[flag]\n",
    "\n",
    "    # 전월의 종가를 BF_1M에 대입\n",
    "    df2['BF_1M'] = df2.shift(1)[col].fillna(0)\n",
    "    # 전 년도의 종가를 BF_12M에 대입\n",
    "    df2['BF_12M'] = df2.shift(12)[col].fillna(0)\n",
    "\n",
    "    return df2"
   ]
  },
  {
   "cell_type": "code",
   "execution_count": null,
   "metadata": {},
   "outputs": [],
   "source": [
    "momentum_data2 = add_df(momentum_data)"
   ]
  },
  {
   "cell_type": "markdown",
   "metadata": {},
   "source": []
  },
  {
   "cell_type": "code",
   "execution_count": null,
   "metadata": {},
   "outputs": [],
   "source": [
    "momentum_data2"
   ]
  },
  {
   "cell_type": "code",
   "execution_count": null,
   "metadata": {},
   "outputs": [],
   "source": [
    "# 세 번째 함수\n",
    "def add_rtn(df1, df2):\n",
    "    # df1에 trade와 return 추가 \n",
    "    df1['trade'] = \"\"\n",
    "    df1['return'] = 1\n",
    "\n",
    "\n",
    "    # 모멘텀 지수를 이용하여 거래내역을 추가 \n",
    "    for i in df2.index:\n",
    "        signal = \"\"\n",
    "        # 모멘텀 인덱스를 변수에 대입\n",
    "        momentum_index = df2.loc[i, 'BF_1M'] / df2.loc[i, 'BF_12M'] - 1\n",
    "        # 모멘텀 인덱스가 0보다 크고 무한대가 아니라면 구매\n",
    "        flag = True if((momentum_index > 0) and \n",
    "                        (momentum_index != np.inf) and \n",
    "                        (momentum_index != -np.inf)) else False\n",
    "        if flag:\n",
    "            signal = 'buy'\n",
    "        # 모멘텀 인덱스를 기준으로 구매 내역을 추가\n",
    "        df1.loc[i, 'trade'] = signal\n",
    "\n",
    "    # 수익율을 계산 \n",
    "    rtn = 1 \n",
    "    buy = 0 \n",
    "    sell = 0\n",
    "    # 기준이 되는 컬럼의 이름\n",
    "    col = df1.columns[0]\n",
    "    for i in df1.index:\n",
    "        # 구매 한 날이라면? -> 전날의 trade가 \"\"이고 오늘의 trade가 'buy'인 경우\n",
    "        if (df1.loc[i, 'trade'] == 'buy') and (df1.shift(1).loc[i, 'trade'] == ''):\n",
    "            buy = df1.loc[i, col]\n",
    "            print('매수일 : ', i, \"매수가 : \", buy)\n",
    "        # 판매한 날이라면? -> 전날의 trade가 \"buy\"이고 오늘의 trade가 ''인 경우\n",
    "        elif (df1.loc[i, 'trade'] == '') and (df1.shift(1).loc[i, 'trade'] == 'buy'):\n",
    "            sell = df1.loc[i, col]\n",
    "            # 수익율 계산\n",
    "            rtn = sell / buy\n",
    "            print('매도일 : ', i, \"매도가 :\", sell, '수익율 :', rtn)\n",
    "            df1.loc[i, 'return'] = rtn\n",
    "    \n",
    "    # 누적 수익율을 계산\n",
    "    acc_rtn = 1\n",
    "\n",
    "    for i in df1.index:\n",
    "        acc_rtn *= df1.loc[i, 'return']\n",
    "        df1.loc[i, 'acc_rtn'] = acc_rtn\n",
    "    print(acc_rtn)\n",
    "    \n",
    "    return df1"
   ]
  },
  {
   "cell_type": "code",
   "execution_count": null,
   "metadata": {},
   "outputs": [],
   "source": [
    "add_rtn(momentum_data, momentum_data2)"
   ]
  },
  {
   "cell_type": "code",
   "execution_count": 19,
   "metadata": {},
   "outputs": [
    {
     "name": "stderr",
     "output_type": "stream",
     "text": [
      "C:\\Users\\moons\\AppData\\Local\\Temp\\ipykernel_1756\\3872312015.py:3: DeprecationWarning: the imp module is deprecated in favour of importlib and slated for removal in Python 3.12; see the module's documentation for alternative uses\n",
      "  import imp\n"
     ]
    }
   ],
   "source": [
    "import momentum\n",
    "import pandas as pd\n",
    "import imp"
   ]
  },
  {
   "cell_type": "code",
   "execution_count": 20,
   "metadata": {},
   "outputs": [
    {
     "data": {
      "text/plain": [
       "<module 'momentum' from 'c:\\\\Users\\\\moons\\\\Documents\\\\GitHub\\\\ubion-8\\\\python\\\\230821\\\\momentum.py'>"
      ]
     },
     "execution_count": 20,
     "metadata": {},
     "output_type": "execute_result"
    }
   ],
   "source": [
    "imp.reload(momentum)"
   ]
  },
  {
   "cell_type": "code",
   "execution_count": null,
   "metadata": {},
   "outputs": [],
   "source": [
    "df = pd.read_csv(\"../../csv/AAPL.csv\")"
   ]
  },
  {
   "cell_type": "code",
   "execution_count": null,
   "metadata": {},
   "outputs": [],
   "source": [
    "data1 = momentum.add_col(df)"
   ]
  },
  {
   "cell_type": "code",
   "execution_count": null,
   "metadata": {},
   "outputs": [],
   "source": [
    "data2 = momentum.add_df(data1)"
   ]
  },
  {
   "cell_type": "code",
   "execution_count": null,
   "metadata": {},
   "outputs": [],
   "source": [
    "momentum.add_rtn(data1, data2)"
   ]
  },
  {
   "cell_type": "code",
   "execution_count": null,
   "metadata": {},
   "outputs": [],
   "source": []
  }
 ],
 "metadata": {
  "kernelspec": {
   "display_name": "Python 3",
   "language": "python",
   "name": "python3"
  },
  "language_info": {
   "codemirror_mode": {
    "name": "ipython",
    "version": 3
   },
   "file_extension": ".py",
   "mimetype": "text/x-python",
   "name": "python",
   "nbconvert_exporter": "python",
   "pygments_lexer": "ipython3",
   "version": "3.11.1"
  },
  "orig_nbformat": 4
 },
 "nbformat": 4,
 "nbformat_minor": 2
}
