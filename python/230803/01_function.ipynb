{
 "cells": [
  {
   "cell_type": "markdown",
   "metadata": {},
   "source": [
    "### 내장 함수"
   ]
  },
  {
   "cell_type": "code",
   "execution_count": null,
   "metadata": {},
   "outputs": [],
   "source": [
    "a = \"Hello\""
   ]
  },
  {
   "cell_type": "code",
   "execution_count": null,
   "metadata": {},
   "outputs": [],
   "source": [
    "# 문자열의 길이를 출력해주는 함수 \n",
    "print(len(a))"
   ]
  },
  {
   "cell_type": "code",
   "execution_count": null,
   "metadata": {},
   "outputs": [],
   "source": [
    "for i in range(len(a)):\n",
    "    print(a[i])"
   ]
  },
  {
   "cell_type": "code",
   "execution_count": null,
   "metadata": {},
   "outputs": [],
   "source": [
    "# 문자열을 모두 대문자, 소문자 변경\n",
    "print(a.upper())\n",
    "print(a.lower())"
   ]
  },
  {
   "cell_type": "code",
   "execution_count": null,
   "metadata": {},
   "outputs": [],
   "source": [
    "b = 'hEllo woRld'\n",
    "# 문자의 대문자를 소문자로 변경, 소문자를 대문자로 변경\n",
    "print(b.swapcase())\n",
    "# 단어의 첫문자만 대문자로 변경 \n",
    "print(b.title())"
   ]
  },
  {
   "cell_type": "code",
   "execution_count": null,
   "metadata": {},
   "outputs": [],
   "source": [
    "# 좌우의  공백을 제거 하는 함수\n",
    "a = \"   Hello World   \"\n",
    "\n",
    "a"
   ]
  },
  {
   "cell_type": "code",
   "execution_count": null,
   "metadata": {},
   "outputs": [],
   "source": [
    "a.lstrip()"
   ]
  },
  {
   "cell_type": "code",
   "execution_count": null,
   "metadata": {},
   "outputs": [],
   "source": [
    "a.rstrip()"
   ]
  },
  {
   "cell_type": "code",
   "execution_count": null,
   "metadata": {},
   "outputs": [],
   "source": [
    "a.strip()"
   ]
  },
  {
   "cell_type": "code",
   "execution_count": null,
   "metadata": {},
   "outputs": [],
   "source": [
    "b = \".Hello\""
   ]
  },
  {
   "cell_type": "code",
   "execution_count": null,
   "metadata": {},
   "outputs": [],
   "source": [
    "b.lstrip(\".\")"
   ]
  },
  {
   "cell_type": "code",
   "execution_count": null,
   "metadata": {},
   "outputs": [],
   "source": [
    "c = \"$2.$3$\""
   ]
  },
  {
   "cell_type": "code",
   "execution_count": null,
   "metadata": {},
   "outputs": [],
   "source": [
    "print(c.strip('$'))"
   ]
  },
  {
   "cell_type": "code",
   "execution_count": null,
   "metadata": {},
   "outputs": [],
   "source": [
    "# 문자열을 치환하는 함수 \n",
    "a = \"Hello World\"\n",
    "a.replace('Hello', 'Hi')"
   ]
  },
  {
   "cell_type": "code",
   "execution_count": null,
   "metadata": {},
   "outputs": [],
   "source": [
    "b = 'Hello Hello'\n",
    "b.replace('Hello', 'Hi')"
   ]
  },
  {
   "cell_type": "code",
   "execution_count": null,
   "metadata": {},
   "outputs": [],
   "source": [
    "b.replace(\" \", \"\")"
   ]
  },
  {
   "cell_type": "code",
   "execution_count": null,
   "metadata": {},
   "outputs": [],
   "source": [
    "float(c.replace('$', \"\"))"
   ]
  },
  {
   "cell_type": "code",
   "execution_count": null,
   "metadata": {},
   "outputs": [],
   "source": [
    "# 문자열을 특정한 값을 기준으로 나눠주는 함수\n",
    "\n",
    "a = \"1,2,3,4,5\"\n",
    "b = \"1 2 3 4 5\""
   ]
  },
  {
   "cell_type": "code",
   "execution_count": null,
   "metadata": {},
   "outputs": [],
   "source": [
    "# ',' 를 기준으로 문자열 나눠준다. \n",
    "a.split(',')"
   ]
  },
  {
   "cell_type": "code",
   "execution_count": null,
   "metadata": {},
   "outputs": [],
   "source": [
    "b.split()"
   ]
  },
  {
   "cell_type": "code",
   "execution_count": null,
   "metadata": {},
   "outputs": [],
   "source": [
    "c = \"Hello World\"\n",
    "c.split()"
   ]
  },
  {
   "cell_type": "code",
   "execution_count": null,
   "metadata": {},
   "outputs": [],
   "source": [
    "# max() -> 인자값들 중에 최대값을 출력\n",
    "# min() -> 인자값들 중에 최소값을 출력\n",
    "\n",
    "print(max(1, 6, 3, 5))\n",
    "print(min(4, 6, 3, 9))"
   ]
  },
  {
   "cell_type": "markdown",
   "metadata": {},
   "source": [
    "### 일반 함수"
   ]
  },
  {
   "cell_type": "code",
   "execution_count": null,
   "metadata": {},
   "outputs": [],
   "source": [
    "# 매개변수가 존재하지 않는 함수 생성\n",
    "def func_1():\n",
    "    return 'Hello'"
   ]
  },
  {
   "cell_type": "code",
   "execution_count": null,
   "metadata": {},
   "outputs": [],
   "source": [
    "print(func_1())\n",
    "print(func_1())\n",
    "print(func_1())"
   ]
  },
  {
   "cell_type": "code",
   "execution_count": null,
   "metadata": {},
   "outputs": [],
   "source": [
    "# 매개 변수가 존재하는 함수\n",
    "def func_2(x, y):\n",
    "    result = x + y\n",
    "    return result"
   ]
  },
  {
   "cell_type": "code",
   "execution_count": null,
   "metadata": {},
   "outputs": [],
   "source": [
    "print(func_2(1, 3))\n",
    "print(func_2(2, 7))\n",
    "print(func_2(5, 1))"
   ]
  },
  {
   "cell_type": "code",
   "execution_count": null,
   "metadata": {},
   "outputs": [],
   "source": [
    "# 함수의 매개변수의 개수와 함수 호출시 인자의 개수가 다르면\n",
    "func_2(2)"
   ]
  },
  {
   "cell_type": "code",
   "execution_count": null,
   "metadata": {},
   "outputs": [],
   "source": [
    "# 인자의 개수가 가변인 경우\n",
    "def func_3(*args):\n",
    "    # print(args)\n",
    "    for i in args:\n",
    "        print(i)"
   ]
  },
  {
   "cell_type": "code",
   "execution_count": null,
   "metadata": {},
   "outputs": [],
   "source": [
    "func_3(1,2,3,4,5)\n",
    "# func_3(1,2,3)\n",
    "# func_3(7)"
   ]
  },
  {
   "cell_type": "markdown",
   "metadata": {},
   "source": [
    "### 문제 \n",
    "- min() 함수를 생성\n",
    "    1. 인자의 개수가 가변인 함수를 하나 생성\n",
    "    2. 인자의 값들을 하나씩 출력(반복문을 이용)\n",
    "    3. 되돌려줄 변수를 하나 생성\n",
    "    4. 첫번째 인자값과 두번째 인자값을 비교하여 작은 값을 결과 변수에 대입\n",
    "    5. 4번 과정을 인자값의 마지막까지 반복\n",
    "    6. 결과를 리턴"
   ]
  },
  {
   "cell_type": "code",
   "execution_count": 55,
   "metadata": {},
   "outputs": [
    {
     "data": {
      "text/plain": [
       "1"
      ]
     },
     "execution_count": 55,
     "metadata": {},
     "output_type": "execute_result"
    }
   ],
   "source": [
    "def func_4(*args):\n",
    "    result = args[0]\n",
    "    for i in args[1:]:\n",
    "        # print(i)\n",
    "        if result > i:\n",
    "            result = i\n",
    "    return result\n",
    "\n",
    "func_4(1,2,3,4,5)"
   ]
  },
  {
   "cell_type": "code",
   "execution_count": 54,
   "metadata": {},
   "outputs": [
    {
     "data": {
      "text/plain": [
       "2"
      ]
     },
     "execution_count": 54,
     "metadata": {},
     "output_type": "execute_result"
    }
   ],
   "source": [
    "def func_5(*args):\n",
    "    result = 0\n",
    "    for i in range(len(args)-1):\n",
    "        # print(args[i])\n",
    "        if i == 0:\n",
    "            if args[i] < args[i+1]:\n",
    "                result = args[i]\n",
    "            else :\n",
    "                result = args[i+1]\n",
    "        else : \n",
    "            if result > args[i+1]:\n",
    "                result = args[i+1]\n",
    "    return result\n",
    "\n",
    "func_5(4, 3, 7, 9, 2, 6, 4)"
   ]
  },
  {
   "cell_type": "markdown",
   "metadata": {},
   "source": [
    "### 문제 \n",
    "- list 데이터에서 제공하는 sort() 함수 생성 \n",
    "    1. 함수 생성 (매개변수는 1개)\n",
    "    2. 함수를 호출할때 인자값의 데이터의 형태가 list\n",
    "    3. return할 비어있는 리스트 생성\n",
    "    3. 입력받은 list 형태의 데이터의 각 항목들은 출력(반복문)\n",
    "    4. 각 항목들을 비교해서 가장 작은 항목을 출력\n",
    "    5. 리스트의 가장 작은 항목을 비어있는 리스트에 추가\n",
    "    6. 입력받은 list에서 가장 작은 항목을 제거\n",
    "    7. 4번부터 6번과정을 입력받은 리스트의 길이만큼 반복\n",
    "    8. 결과값을 return"
   ]
  },
  {
   "cell_type": "code",
   "execution_count": 65,
   "metadata": {},
   "outputs": [],
   "source": [
    "def func_6(_list):\n",
    "    result = []\n",
    "    # print(_list)\n",
    "    for cnt in range(len(_list)):\n",
    "        list_min = _list[0]\n",
    "        for i in _list[1:]:\n",
    "            if list_min > i :\n",
    "                list_min = i\n",
    "        # print(list_min)\n",
    "        result.append(list_min)\n",
    "        _list.remove(list_min)\n",
    "        print(result)\n",
    "        print(_list)\n",
    "    return result\n"
   ]
  },
  {
   "cell_type": "code",
   "execution_count": 66,
   "metadata": {},
   "outputs": [
    {
     "name": "stdout",
     "output_type": "stream",
     "text": [
      "[2]\n",
      "[4, 3, 6]\n",
      "[2, 3]\n",
      "[4, 6]\n",
      "[2, 3, 4]\n",
      "[6]\n",
      "[2, 3, 4, 6]\n",
      "[]\n"
     ]
    },
    {
     "data": {
      "text/plain": [
       "[2, 3, 4, 6]"
      ]
     },
     "execution_count": 66,
     "metadata": {},
     "output_type": "execute_result"
    }
   ],
   "source": [
    "func_6([4,3,6,2])"
   ]
  },
  {
   "cell_type": "code",
   "execution_count": null,
   "metadata": {},
   "outputs": [],
   "source": []
  }
 ],
 "metadata": {
  "kernelspec": {
   "display_name": "Python 3",
   "language": "python",
   "name": "python3"
  },
  "language_info": {
   "codemirror_mode": {
    "name": "ipython",
    "version": 3
   },
   "file_extension": ".py",
   "mimetype": "text/x-python",
   "name": "python",
   "nbconvert_exporter": "python",
   "pygments_lexer": "ipython3",
   "version": "3.11.1"
  },
  "orig_nbformat": 4
 },
 "nbformat": 4,
 "nbformat_minor": 2
}
