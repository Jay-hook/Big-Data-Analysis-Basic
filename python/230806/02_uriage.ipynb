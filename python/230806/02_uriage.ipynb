{
 "cells": [
  {
   "cell_type": "code",
   "execution_count": null,
   "metadata": {},
   "outputs": [],
   "source": [
    "import pandas as pd"
   ]
  },
  {
   "cell_type": "markdown",
   "metadata": {},
   "source": [
    "1. csv폴더에서 uriage.csv 로드 \n",
    "2. purchase_date 컬럼의 데이터를 시계열데이터로 변경\n",
    "3. item_name 컬럼의 데이터를 모두 대문자로 변경\n",
    "4. item_name 컬럼의 데이터의 공백을 모두 제거 \n",
    "5. item_name을 기준으로 오름차순 \n",
    "6. 기존의 인덱스는 삭제하고 인덱스를 초기화\n",
    "7. 결측치를 채우는 작업"
   ]
  },
  {
   "cell_type": "code",
   "execution_count": null,
   "metadata": {},
   "outputs": [],
   "source": [
    "uriage = pd.read_csv(\"../../csv/uriage.csv\")\n",
    "uriage.head(5)"
   ]
  },
  {
   "cell_type": "code",
   "execution_count": null,
   "metadata": {},
   "outputs": [],
   "source": [
    "#  purchase_date 컬럼의 데이터를 시계열로 변경\n",
    "uriage.info()"
   ]
  },
  {
   "cell_type": "code",
   "execution_count": null,
   "metadata": {},
   "outputs": [],
   "source": [
    "# pandas에서 제공하는 시계열데이터로 변경하는 함수\n",
    "# to_datetime(변경할 데이터, format)\n",
    "# format 매개변수 : 변경할 데이터의 형태\n",
    "t = \"08 08 23\"\n",
    "pd.to_datetime(t) "
   ]
  },
  {
   "cell_type": "code",
   "execution_count": null,
   "metadata": {},
   "outputs": [],
   "source": [
    "uriage['purchase_date'] = \\\n",
    "      pd.to_datetime(\n",
    "          uriage['purchase_date'], format=\"%Y-%m-%d %H:%M\")"
   ]
  },
  {
   "cell_type": "code",
   "execution_count": null,
   "metadata": {},
   "outputs": [],
   "source": [
    "uriage['item_name']"
   ]
  },
  {
   "cell_type": "code",
   "execution_count": null,
   "metadata": {},
   "outputs": [],
   "source": [
    "# item_name의 각 원소들을 대문자로 변경해서 데이터프레임에 대입\n",
    "\n",
    "index_list = uriage.index\n",
    "\n",
    "for i in index_list:\n",
    "    # DataFrame에서 item_name의 값들을 하나씩 추출해서 \n",
    "    # 대문자로 변경하고 출력\n",
    "    uriage.loc[i, 'item_name'] = \\\n",
    "        uriage.loc[i, 'item_name'].upper()\n",
    "uriage.head(5)"
   ]
  },
  {
   "cell_type": "code",
   "execution_count": 80,
   "metadata": {},
   "outputs": [],
   "source": [
    "uriage2 = uriage.copy()"
   ]
  },
  {
   "cell_type": "code",
   "execution_count": null,
   "metadata": {},
   "outputs": [],
   "source": [
    "# index_list를 만든 이유는?\n",
    "# 반복문에서 사용 / 새로운 스리즈에 인덱스로 사용\n",
    "index_list = uriage2.index\n",
    "\n",
    "# 스리즈에 value의 값으로 들어갈 리스트 생성\n",
    "values = []\n",
    "\n",
    "for i in index_list:\n",
    "    values.append(uriage2.loc[i, 'item_name'].upper())\n",
    "\n",
    "pd.Series(values, index=index_list)\n"
   ]
  },
  {
   "cell_type": "code",
   "execution_count": null,
   "metadata": {},
   "outputs": [],
   "source": [
    "# case1 (str 사용)\n",
    "uriage2['item_name'].str.upper()"
   ]
  },
  {
   "cell_type": "code",
   "execution_count": null,
   "metadata": {},
   "outputs": [],
   "source": [
    "# case2 (apply() 함수 + 일반 함수)\n",
    "# 스리즈형태에서 각항목들을 추출해서 함수에 대입\n",
    "\n",
    "def change(x):\n",
    "    # x는 문자열데이터 \n",
    "    return x.upper()\n",
    "\n",
    "uriage2['item_name'].apply(change)"
   ]
  },
  {
   "cell_type": "code",
   "execution_count": null,
   "metadata": {},
   "outputs": [],
   "source": [
    "# case3 (apply() + lambda 함수)\n",
    "\n",
    "uriage2['item_name'].apply(lambda x : x.upper())"
   ]
  },
  {
   "cell_type": "code",
   "execution_count": null,
   "metadata": {},
   "outputs": [],
   "source": [
    "### item_name에 공백을 제거 \n",
    "\n",
    "# case1\n",
    "uriage2['item_name'].str.replace(\" \", \"\")"
   ]
  },
  {
   "cell_type": "code",
   "execution_count": null,
   "metadata": {},
   "outputs": [],
   "source": [
    "# case2 (apply() + 일반 함수)\n",
    "def change(x):\n",
    "    return x.replace(\" \" , \"\")\n",
    "\n",
    "uriage2['item_name'].apply(change)"
   ]
  },
  {
   "cell_type": "code",
   "execution_count": null,
   "metadata": {},
   "outputs": [],
   "source": [
    "# case3 (apply() + lambda함수)\n",
    "\n",
    "uriage2['item_name'].apply(lambda x : x.replace(\" \",\"\"))"
   ]
  },
  {
   "cell_type": "code",
   "execution_count": null,
   "metadata": {},
   "outputs": [],
   "source": [
    "# item_name의 값을 대문자로 변경하고 공백을 제거\n",
    "\n",
    "# case1\n",
    "uriage2['item_name'].str.upper().str.replace(\" \", \"\")   #Series"
   ]
  },
  {
   "cell_type": "code",
   "execution_count": null,
   "metadata": {},
   "outputs": [],
   "source": [
    "# case2 \n",
    "\n",
    "def change(x):\n",
    "    result = x.upper()\n",
    "    result = result.replace(\" \", \"\")\n",
    "    return result\n",
    "\n",
    "uriage2['item_name'].apply(change)"
   ]
  },
  {
   "cell_type": "code",
   "execution_count": 81,
   "metadata": {},
   "outputs": [],
   "source": [
    "# case3 \n",
    "uriage2['item_name'] = \\\n",
    "uriage2['item_name'].apply(lambda x : x.upper().replace(\" \", \"\"))"
   ]
  },
  {
   "cell_type": "code",
   "execution_count": 82,
   "metadata": {},
   "outputs": [
    {
     "data": {
      "text/plain": [
       "array(['상품A', '상품S', '상품Z', '상품V', '상품O', '상품U', '상품L', '상품C', '상품I',\n",
       "       '상품R', '상품X', '상품G', '상품P', '상품Q', '상품Y', '상품N', '상품W', '상품E',\n",
       "       '상품K', '상품B', '상품F', '상품D', '상품M', '상품H', '상품T', '상품J'],\n",
       "      dtype=object)"
      ]
     },
     "execution_count": 82,
     "metadata": {},
     "output_type": "execute_result"
    }
   ],
   "source": [
    "uriage2['item_name'].unique()"
   ]
  },
  {
   "cell_type": "code",
   "execution_count": null,
   "metadata": {},
   "outputs": [],
   "source": [
    "# 상품A 인 제품 출력\n",
    "uriage2.loc[uriage2['item_name'] == '상품A']\n"
   ]
  },
  {
   "cell_type": "code",
   "execution_count": null,
   "metadata": {},
   "outputs": [],
   "source": [
    "# 상품X 인 제품 출력\n",
    "uriage2.query('item_name == \"상품X\"')"
   ]
  },
  {
   "cell_type": "code",
   "execution_count": 63,
   "metadata": {},
   "outputs": [
    {
     "data": {
      "text/html": [
       "<div>\n",
       "<style scoped>\n",
       "    .dataframe tbody tr th:only-of-type {\n",
       "        vertical-align: middle;\n",
       "    }\n",
       "\n",
       "    .dataframe tbody tr th {\n",
       "        vertical-align: top;\n",
       "    }\n",
       "\n",
       "    .dataframe thead th {\n",
       "        text-align: right;\n",
       "    }\n",
       "</style>\n",
       "<table border=\"1\" class=\"dataframe\">\n",
       "  <thead>\n",
       "    <tr style=\"text-align: right;\">\n",
       "      <th></th>\n",
       "      <th>purchase_date</th>\n",
       "      <th>item_name</th>\n",
       "      <th>item_price</th>\n",
       "      <th>customer_name</th>\n",
       "    </tr>\n",
       "  </thead>\n",
       "  <tbody>\n",
       "    <tr>\n",
       "      <th>0</th>\n",
       "      <td>2019-06-13 18:02</td>\n",
       "      <td>상품A</td>\n",
       "      <td>100.0</td>\n",
       "      <td>김가온</td>\n",
       "    </tr>\n",
       "    <tr>\n",
       "      <th>9</th>\n",
       "      <td>2019-01-28 10:47</td>\n",
       "      <td>상품A</td>\n",
       "      <td>100.0</td>\n",
       "      <td>김태윤</td>\n",
       "    </tr>\n",
       "    <tr>\n",
       "      <th>31</th>\n",
       "      <td>2019-06-29 10:01</td>\n",
       "      <td>상품A</td>\n",
       "      <td>100.0</td>\n",
       "      <td>김하민</td>\n",
       "    </tr>\n",
       "    <tr>\n",
       "      <th>35</th>\n",
       "      <td>2019-01-12 3:26</td>\n",
       "      <td>상품A</td>\n",
       "      <td>100.0</td>\n",
       "      <td>김건희</td>\n",
       "    </tr>\n",
       "    <tr>\n",
       "      <th>61</th>\n",
       "      <td>2019-02-11 17:00</td>\n",
       "      <td>상품A</td>\n",
       "      <td>100.0</td>\n",
       "      <td>김성윤</td>\n",
       "    </tr>\n",
       "    <tr>\n",
       "      <th>...</th>\n",
       "      <td>...</td>\n",
       "      <td>...</td>\n",
       "      <td>...</td>\n",
       "      <td>...</td>\n",
       "    </tr>\n",
       "    <tr>\n",
       "      <th>2875</th>\n",
       "      <td>2019-06-03 17:33</td>\n",
       "      <td>상품A</td>\n",
       "      <td>100.0</td>\n",
       "      <td>김서진</td>\n",
       "    </tr>\n",
       "    <tr>\n",
       "      <th>2886</th>\n",
       "      <td>2019-04-25 17:15</td>\n",
       "      <td>상품A</td>\n",
       "      <td>100.0</td>\n",
       "      <td>김강현</td>\n",
       "    </tr>\n",
       "    <tr>\n",
       "      <th>2897</th>\n",
       "      <td>2019-05-20 14:05</td>\n",
       "      <td>상품A</td>\n",
       "      <td>100.0</td>\n",
       "      <td>김지안</td>\n",
       "    </tr>\n",
       "    <tr>\n",
       "      <th>2951</th>\n",
       "      <td>2019-05-06 2:24</td>\n",
       "      <td>상품A</td>\n",
       "      <td>100.0</td>\n",
       "      <td>김주혁</td>\n",
       "    </tr>\n",
       "    <tr>\n",
       "      <th>2973</th>\n",
       "      <td>2019-07-13 21:38</td>\n",
       "      <td>상품A</td>\n",
       "      <td>100.0</td>\n",
       "      <td>김태윤</td>\n",
       "    </tr>\n",
       "  </tbody>\n",
       "</table>\n",
       "<p>117 rows × 4 columns</p>\n",
       "</div>"
      ],
      "text/plain": [
       "         purchase_date item_name  item_price customer_name\n",
       "0     2019-06-13 18:02       상품A       100.0           김가온\n",
       "9     2019-01-28 10:47       상품A       100.0           김태윤\n",
       "31    2019-06-29 10:01       상품A       100.0           김하민\n",
       "35     2019-01-12 3:26       상품A       100.0           김건희\n",
       "61    2019-02-11 17:00       상품A       100.0           김성윤\n",
       "...                ...       ...         ...           ...\n",
       "2875  2019-06-03 17:33       상품A       100.0           김서진\n",
       "2886  2019-04-25 17:15       상품A       100.0           김강현\n",
       "2897  2019-05-20 14:05       상품A       100.0           김지안\n",
       "2951   2019-05-06 2:24       상품A       100.0           김주혁\n",
       "2973  2019-07-13 21:38       상품A       100.0           김태윤\n",
       "\n",
       "[117 rows x 4 columns]"
      ]
     },
     "execution_count": 63,
     "metadata": {},
     "output_type": "execute_result"
    }
   ],
   "source": [
    "### 상품A 인 경우 결측치는 상품A인 데이터의 item_price의 평균값 대체\n",
    "\n",
    "# item_name이 상품A인 데이터를 출력\n",
    "uriage2.loc[uriage2['item_name'] == '상품A']\n",
    "\n",
    "# item_price가 결측치인 데이터를 출력\n",
    "uriage2.loc[uriage2['item_price'].isna()]\n",
    "\n",
    "# item_name이 상품A이고 item_price가 결측치인 데이터를 출력\n",
    "uriage2.loc[\n",
    "    (uriage2['item_name'] == '상품A') & \\\n",
    "    ~(uriage2['item_price'].isna())\n",
    "]"
   ]
  },
  {
   "cell_type": "code",
   "execution_count": 62,
   "metadata": {},
   "outputs": [
    {
     "data": {
      "text/plain": [
       "0        True\n",
       "1       False\n",
       "2       False\n",
       "3        True\n",
       "4       False\n",
       "        ...  \n",
       "2994     True\n",
       "2995     True\n",
       "2996    False\n",
       "2997    False\n",
       "2998     True\n",
       "Name: item_price, Length: 2999, dtype: bool"
      ]
     },
     "execution_count": 62,
     "metadata": {},
     "output_type": "execute_result"
    }
   ],
   "source": [
    "~(uriage2['item_price'].isna())"
   ]
  },
  {
   "cell_type": "code",
   "execution_count": 85,
   "metadata": {},
   "outputs": [],
   "source": [
    "## 상품A이고 item_price가 결측치가 아닌 데이터에서 item_price의 평균 값\n",
    "\n",
    "flag_null = uriage2['item_price'].isna()\n",
    "\n",
    "flag = uriage2['item_name'] == '상품A'\n",
    "\n",
    "a_mean = \\\n",
    "    uriage2.loc[(flag) & ~(flag_null), 'item_price'].mean()"
   ]
  },
  {
   "cell_type": "code",
   "execution_count": 86,
   "metadata": {},
   "outputs": [],
   "source": [
    "# 상품A이고 item_price가 결측치가 아닌 item_price 평균 값을\n",
    "# 상품A의 item_price가 결측치인 곳에 대입\n",
    "\n",
    "# case1 (item_name이 상품A인 데이터에서 결측치를 a_mean 대체)\n",
    "uriage2.loc[flag, 'item_price'] = \\\n",
    "    uriage2.loc[flag, 'item_price'].fillna(a_mean)"
   ]
  },
  {
   "cell_type": "code",
   "execution_count": null,
   "metadata": {},
   "outputs": [],
   "source": [
    "uriage2.loc[(flag) & (flag_null)]"
   ]
  },
  {
   "cell_type": "code",
   "execution_count": 87,
   "metadata": {},
   "outputs": [
    {
     "data": {
      "text/html": [
       "<div>\n",
       "<style scoped>\n",
       "    .dataframe tbody tr th:only-of-type {\n",
       "        vertical-align: middle;\n",
       "    }\n",
       "\n",
       "    .dataframe tbody tr th {\n",
       "        vertical-align: top;\n",
       "    }\n",
       "\n",
       "    .dataframe thead th {\n",
       "        text-align: right;\n",
       "    }\n",
       "</style>\n",
       "<table border=\"1\" class=\"dataframe\">\n",
       "  <thead>\n",
       "    <tr style=\"text-align: right;\">\n",
       "      <th></th>\n",
       "      <th>purchase_date</th>\n",
       "      <th>item_name</th>\n",
       "      <th>item_price</th>\n",
       "      <th>customer_name</th>\n",
       "    </tr>\n",
       "  </thead>\n",
       "  <tbody>\n",
       "  </tbody>\n",
       "</table>\n",
       "</div>"
      ],
      "text/plain": [
       "Empty DataFrame\n",
       "Columns: [purchase_date, item_name, item_price, customer_name]\n",
       "Index: []"
      ]
     },
     "execution_count": 87,
     "metadata": {},
     "output_type": "execute_result"
    }
   ],
   "source": [
    "uriage2.loc[(flag) & (uriage2['item_price'].isna())]"
   ]
  },
  {
   "cell_type": "code",
   "execution_count": 89,
   "metadata": {},
   "outputs": [],
   "source": [
    "flag_null = uriage2['item_price'].isna()\n",
    "\n",
    "flag = uriage2['item_name'] == '상품B'\n",
    "\n",
    "b_mean = \\\n",
    "    uriage2.loc[(flag) & ~(flag_null), 'item_price'].mean()"
   ]
  },
  {
   "cell_type": "code",
   "execution_count": 94,
   "metadata": {},
   "outputs": [],
   "source": [
    "# 결측치를 채우는 방법 \n",
    "# case2 : 상품B이고 item_price가 결측치인 데이터를 추출하여 \n",
    "# item_price의 값을 평균 값으로 변경\n",
    "uriage2.loc[(flag) & (flag_null), 'item_price'] = b_mean"
   ]
  },
  {
   "cell_type": "code",
   "execution_count": 95,
   "metadata": {},
   "outputs": [
    {
     "data": {
      "text/html": [
       "<div>\n",
       "<style scoped>\n",
       "    .dataframe tbody tr th:only-of-type {\n",
       "        vertical-align: middle;\n",
       "    }\n",
       "\n",
       "    .dataframe tbody tr th {\n",
       "        vertical-align: top;\n",
       "    }\n",
       "\n",
       "    .dataframe thead th {\n",
       "        text-align: right;\n",
       "    }\n",
       "</style>\n",
       "<table border=\"1\" class=\"dataframe\">\n",
       "  <thead>\n",
       "    <tr style=\"text-align: right;\">\n",
       "      <th></th>\n",
       "      <th>purchase_date</th>\n",
       "      <th>item_name</th>\n",
       "      <th>item_price</th>\n",
       "      <th>customer_name</th>\n",
       "    </tr>\n",
       "  </thead>\n",
       "  <tbody>\n",
       "  </tbody>\n",
       "</table>\n",
       "</div>"
      ],
      "text/plain": [
       "Empty DataFrame\n",
       "Columns: [purchase_date, item_name, item_price, customer_name]\n",
       "Index: []"
      ]
     },
     "execution_count": 95,
     "metadata": {},
     "output_type": "execute_result"
    }
   ],
   "source": [
    "uriage2.loc[(flag) & (uriage2['item_price'].isna())]"
   ]
  },
  {
   "cell_type": "code",
   "execution_count": 91,
   "metadata": {},
   "outputs": [
    {
     "data": {
      "text/html": [
       "<div>\n",
       "<style scoped>\n",
       "    .dataframe tbody tr th:only-of-type {\n",
       "        vertical-align: middle;\n",
       "    }\n",
       "\n",
       "    .dataframe tbody tr th {\n",
       "        vertical-align: top;\n",
       "    }\n",
       "\n",
       "    .dataframe thead th {\n",
       "        text-align: right;\n",
       "    }\n",
       "</style>\n",
       "<table border=\"1\" class=\"dataframe\">\n",
       "  <thead>\n",
       "    <tr style=\"text-align: right;\">\n",
       "      <th></th>\n",
       "      <th>purchase_date</th>\n",
       "      <th>item_name</th>\n",
       "      <th>item_price</th>\n",
       "      <th>customer_name</th>\n",
       "    </tr>\n",
       "  </thead>\n",
       "  <tbody>\n",
       "    <tr>\n",
       "      <th>0</th>\n",
       "      <td>2019-06-13 18:02</td>\n",
       "      <td>상품A</td>\n",
       "      <td>1000</td>\n",
       "      <td>김가온</td>\n",
       "    </tr>\n",
       "    <tr>\n",
       "      <th>1</th>\n",
       "      <td>2019-07-13 13:05</td>\n",
       "      <td>상 품 S</td>\n",
       "      <td>1000</td>\n",
       "      <td>김우찬</td>\n",
       "    </tr>\n",
       "    <tr>\n",
       "      <th>2</th>\n",
       "      <td>2019-05-11 19:42</td>\n",
       "      <td>상 품 a</td>\n",
       "      <td>1000</td>\n",
       "      <td>김유찬</td>\n",
       "    </tr>\n",
       "    <tr>\n",
       "      <th>3</th>\n",
       "      <td>2019-02-12 23:40</td>\n",
       "      <td>상품Z</td>\n",
       "      <td>1000</td>\n",
       "      <td>김재현</td>\n",
       "    </tr>\n",
       "    <tr>\n",
       "      <th>4</th>\n",
       "      <td>2019-04-22 3:09</td>\n",
       "      <td>상품a</td>\n",
       "      <td>1000</td>\n",
       "      <td>김강현</td>\n",
       "    </tr>\n",
       "    <tr>\n",
       "      <th>5</th>\n",
       "      <td>2019-03-20 19:16</td>\n",
       "      <td>상품S</td>\n",
       "      <td>1000</td>\n",
       "      <td>김우진</td>\n",
       "    </tr>\n",
       "    <tr>\n",
       "      <th>6</th>\n",
       "      <td>2019-05-18 19:16</td>\n",
       "      <td>상품 a</td>\n",
       "      <td>1000</td>\n",
       "      <td>김재준</td>\n",
       "    </tr>\n",
       "    <tr>\n",
       "      <th>7</th>\n",
       "      <td>2019-04-18 0:14</td>\n",
       "      <td>상품V</td>\n",
       "      <td>1000</td>\n",
       "      <td>김민혁</td>\n",
       "    </tr>\n",
       "    <tr>\n",
       "      <th>8</th>\n",
       "      <td>2019-01-10 15:51</td>\n",
       "      <td>상품O</td>\n",
       "      <td>1000</td>\n",
       "      <td>김선우</td>\n",
       "    </tr>\n",
       "    <tr>\n",
       "      <th>9</th>\n",
       "      <td>2019-01-28 10:47</td>\n",
       "      <td>상품A</td>\n",
       "      <td>1000</td>\n",
       "      <td>김태윤</td>\n",
       "    </tr>\n",
       "  </tbody>\n",
       "</table>\n",
       "</div>"
      ],
      "text/plain": [
       "      purchase_date item_name  item_price customer_name\n",
       "0  2019-06-13 18:02       상품A        1000           김가온\n",
       "1  2019-07-13 13:05     상 품 S        1000           김우찬\n",
       "2  2019-05-11 19:42     상 품 a        1000           김유찬\n",
       "3  2019-02-12 23:40       상품Z        1000           김재현\n",
       "4   2019-04-22 3:09       상품a        1000           김강현\n",
       "5  2019-03-20 19:16       상품S        1000           김우진\n",
       "6  2019-05-18 19:16      상품 a        1000           김재준\n",
       "7   2019-04-18 0:14       상품V        1000           김민혁\n",
       "8  2019-01-10 15:51       상품O        1000           김선우\n",
       "9  2019-01-28 10:47       상품A        1000           김태윤"
      ]
     },
     "execution_count": 91,
     "metadata": {},
     "output_type": "execute_result"
    }
   ],
   "source": [
    "# 스리즈형태의 데이터에서 숫자형태의 데이터를 대입 \n",
    "test_data = uriage.copy()\n",
    "\n",
    "test_data['item_price'] = 1000\n",
    "test_data.head(10)"
   ]
  },
  {
   "cell_type": "code",
   "execution_count": 96,
   "metadata": {},
   "outputs": [],
   "source": [
    "# 위에서 결측치를 채우는 코드를 반복적으로 실행 \n",
    "\n",
    "# item_name list 생성\n",
    "_list = uriage2['item_name'].unique()\n",
    "\n",
    "# item_price가 결측치인 조건식 생성\n",
    "flag_null = uriage2['item_price'].isna()\n",
    "\n",
    "for i in _list:\n",
    "    # i는 상품명\n",
    "\n",
    "    # 상품명과 같은 데이터 조건식 생성\n",
    "    flag = uriage2['item_name'] == i\n",
    "\n",
    "    # item_name이 i와 같고 item_price가 결측치가 아닌 데이터에서 \n",
    "    # item_price의 평균값\n",
    "    mean_value = \\\n",
    "        uriage2.loc[(flag) & ~(flag_null), 'item_price'].mean()\n",
    "\n",
    "    # item_name이 i와 같고 \n",
    "    # item_price가 결측치인 \n",
    "    # item_price 스리즈 데이터에 \n",
    "    # mean_value값을 대입\n",
    "    uriage2.loc[(flag) & (flag_null), 'item_price'] = mean_value"
   ]
  },
  {
   "cell_type": "code",
   "execution_count": null,
   "metadata": {},
   "outputs": [],
   "source": [
    "uriage2['item_name'].value_counts()"
   ]
  },
  {
   "cell_type": "code",
   "execution_count": null,
   "metadata": {},
   "outputs": [],
   "source": [
    "uriage2['item_price'].value_counts()"
   ]
  },
  {
   "cell_type": "code",
   "execution_count": null,
   "metadata": {},
   "outputs": [],
   "source": [
    "uriage2.loc[uriage2['item_name'] == '상품B']"
   ]
  },
  {
   "cell_type": "code",
   "execution_count": 105,
   "metadata": {},
   "outputs": [
    {
     "data": {
      "text/html": [
       "<div>\n",
       "<style scoped>\n",
       "    .dataframe tbody tr th:only-of-type {\n",
       "        vertical-align: middle;\n",
       "    }\n",
       "\n",
       "    .dataframe tbody tr th {\n",
       "        vertical-align: top;\n",
       "    }\n",
       "\n",
       "    .dataframe thead th {\n",
       "        text-align: right;\n",
       "    }\n",
       "</style>\n",
       "<table border=\"1\" class=\"dataframe\">\n",
       "  <thead>\n",
       "    <tr style=\"text-align: right;\">\n",
       "      <th></th>\n",
       "      <th>item_price</th>\n",
       "    </tr>\n",
       "    <tr>\n",
       "      <th>item_name</th>\n",
       "      <th></th>\n",
       "    </tr>\n",
       "  </thead>\n",
       "  <tbody>\n",
       "    <tr>\n",
       "      <th>상품A</th>\n",
       "      <td>100.0</td>\n",
       "    </tr>\n",
       "    <tr>\n",
       "      <th>상품B</th>\n",
       "      <td>200.0</td>\n",
       "    </tr>\n",
       "    <tr>\n",
       "      <th>상품C</th>\n",
       "      <td>300.0</td>\n",
       "    </tr>\n",
       "    <tr>\n",
       "      <th>상품D</th>\n",
       "      <td>400.0</td>\n",
       "    </tr>\n",
       "    <tr>\n",
       "      <th>상품E</th>\n",
       "      <td>500.0</td>\n",
       "    </tr>\n",
       "    <tr>\n",
       "      <th>상품F</th>\n",
       "      <td>600.0</td>\n",
       "    </tr>\n",
       "    <tr>\n",
       "      <th>상품G</th>\n",
       "      <td>700.0</td>\n",
       "    </tr>\n",
       "    <tr>\n",
       "      <th>상품H</th>\n",
       "      <td>800.0</td>\n",
       "    </tr>\n",
       "    <tr>\n",
       "      <th>상품I</th>\n",
       "      <td>900.0</td>\n",
       "    </tr>\n",
       "    <tr>\n",
       "      <th>상품J</th>\n",
       "      <td>1000.0</td>\n",
       "    </tr>\n",
       "    <tr>\n",
       "      <th>상품K</th>\n",
       "      <td>1100.0</td>\n",
       "    </tr>\n",
       "    <tr>\n",
       "      <th>상품L</th>\n",
       "      <td>1200.0</td>\n",
       "    </tr>\n",
       "    <tr>\n",
       "      <th>상품M</th>\n",
       "      <td>1300.0</td>\n",
       "    </tr>\n",
       "    <tr>\n",
       "      <th>상품N</th>\n",
       "      <td>1400.0</td>\n",
       "    </tr>\n",
       "    <tr>\n",
       "      <th>상품O</th>\n",
       "      <td>1500.0</td>\n",
       "    </tr>\n",
       "    <tr>\n",
       "      <th>상품P</th>\n",
       "      <td>1600.0</td>\n",
       "    </tr>\n",
       "    <tr>\n",
       "      <th>상품Q</th>\n",
       "      <td>1700.0</td>\n",
       "    </tr>\n",
       "    <tr>\n",
       "      <th>상품R</th>\n",
       "      <td>1800.0</td>\n",
       "    </tr>\n",
       "    <tr>\n",
       "      <th>상품S</th>\n",
       "      <td>1900.0</td>\n",
       "    </tr>\n",
       "    <tr>\n",
       "      <th>상품T</th>\n",
       "      <td>2000.0</td>\n",
       "    </tr>\n",
       "    <tr>\n",
       "      <th>상품U</th>\n",
       "      <td>2100.0</td>\n",
       "    </tr>\n",
       "    <tr>\n",
       "      <th>상품V</th>\n",
       "      <td>2200.0</td>\n",
       "    </tr>\n",
       "    <tr>\n",
       "      <th>상품W</th>\n",
       "      <td>2300.0</td>\n",
       "    </tr>\n",
       "    <tr>\n",
       "      <th>상품X</th>\n",
       "      <td>2400.0</td>\n",
       "    </tr>\n",
       "    <tr>\n",
       "      <th>상품Y</th>\n",
       "      <td>2500.0</td>\n",
       "    </tr>\n",
       "    <tr>\n",
       "      <th>상품Z</th>\n",
       "      <td>2600.0</td>\n",
       "    </tr>\n",
       "  </tbody>\n",
       "</table>\n",
       "</div>"
      ],
      "text/plain": [
       "           item_price\n",
       "item_name            \n",
       "상품A             100.0\n",
       "상품B             200.0\n",
       "상품C             300.0\n",
       "상품D             400.0\n",
       "상품E             500.0\n",
       "상품F             600.0\n",
       "상품G             700.0\n",
       "상품H             800.0\n",
       "상품I             900.0\n",
       "상품J            1000.0\n",
       "상품K            1100.0\n",
       "상품L            1200.0\n",
       "상품M            1300.0\n",
       "상품N            1400.0\n",
       "상품O            1500.0\n",
       "상품P            1600.0\n",
       "상품Q            1700.0\n",
       "상품R            1800.0\n",
       "상품S            1900.0\n",
       "상품T            2000.0\n",
       "상품U            2100.0\n",
       "상품V            2200.0\n",
       "상품W            2300.0\n",
       "상품X            2400.0\n",
       "상품Y            2500.0\n",
       "상품Z            2600.0"
      ]
     },
     "execution_count": 105,
     "metadata": {},
     "output_type": "execute_result"
    }
   ],
   "source": [
    "# 데이터프레임을 item_name을 기준으로 그룹화하여 item_price의 평균 출력\n",
    "uriage2[['item_name', 'item_price']].groupby('item_name').mean()\n",
    "\n",
    "uriage2.loc[:, ['item_name', 'item_price']].groupby('item_name').mean()\n"
   ]
  },
  {
   "cell_type": "code",
   "execution_count": null,
   "metadata": {},
   "outputs": [],
   "source": []
  }
 ],
 "metadata": {
  "kernelspec": {
   "display_name": "Python 3",
   "language": "python",
   "name": "python3"
  },
  "language_info": {
   "codemirror_mode": {
    "name": "ipython",
    "version": 3
   },
   "file_extension": ".py",
   "mimetype": "text/x-python",
   "name": "python",
   "nbconvert_exporter": "python",
   "pygments_lexer": "ipython3",
   "version": "3.11.1"
  },
  "orig_nbformat": 4
 },
 "nbformat": 4,
 "nbformat_minor": 2
}
