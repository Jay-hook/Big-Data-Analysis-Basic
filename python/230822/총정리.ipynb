{
 "cells": [
  {
   "cell_type": "markdown",
   "metadata": {},
   "source": [
    "# 변수 \n",
    "- 데이터를 저장하는 공간의 이름\n",
    "> 전역 변수\n",
    "- 어디서든 사용이 가능한 변수\n",
    "> 지역 변수\n",
    "- 특정한 영역에서만 사용이 가능한 변수 \n",
    "- 해당 영역을 벗어나면 사용이 불가능\n",
    "- 함수 안에서 생성한 변수, 클래스 안에서 만들어진 변수\n",
    "> 매개 변수\n",
    "- 함수를 선언할때 만들어지는 변수\n",
    "- 함수 호출 시 특정한 입력 값(인자)을 받기 위해 만들어지는 변수\n",
    "> 클래스 변수\n",
    "- 같은 클래스에서 독립적이지 않고 서로 공유를 하는 변수\n",
    "> self 변수 \n",
    "- 클래스에서 독립적인 값을 가지고 있는 변수"
   ]
  },
  {
   "cell_type": "markdown",
   "metadata": {},
   "source": [
    "# 경로 \n",
    "> 절대 경로\n",
    "- 절대적인 주소\n",
    "- 환경에 상관 없이 고정된 위치를 표현\n",
    "- ex) 'c:/users/admin/document', 'https://www.google.com'\n",
    "> 상대 경로\n",
    "- 상대적인 주소\n",
    "- 환경에 따라 주소가 변화\n",
    "- 현재 작엊중인 디렉토리에서 이동\n",
    "- ex)\n",
    "    - 현재 디렉토리 : ./\n",
    "    - 부모 디렉토리 : ../\n",
    "    - 하위 디렉토리 : ./폴더명/\n",
    "    - 상위에서 상위로 이동 : ../../"
   ]
  },
  {
   "cell_type": "markdown",
   "metadata": {},
   "source": [
    "# 함수 \n",
    "- 같은 코드를 반복적으로 작성하다보면 생기는 단점\n",
    "    - 오타\n",
    "    - 에러\n",
    "    - 코드의 라인의 증가\n",
    "- 같은 행동을 반복적으로 하는 코드 \n",
    "- 특정한 입력 값을 받아서 결과를 되돌려준다. \n",
    "> 매개변수 \n",
    "- 함수를 선언할때 생성하는 변수\n",
    "- 함수 호출 시 인자 값을 받아서 받아주는 변수\n",
    "> 인자 \n",
    "- 함수를 호출 할때 매개변수에 담아줄 데이터 값\n",
    "- 인자 값을 통해 함수의 결과물이 변형"
   ]
  },
  {
   "cell_type": "markdown",
   "metadata": {},
   "source": [
    "# 조건문 \n",
    "> if문 \n",
    "- 특정한 조건이 참인 경우 코드를 실행 할수 있도록 만들어주는 식\n",
    "- 거짓일 경우 특정한 코드를 실행하려면 else문 생성\n",
    "- 조건식이 여러개인 경우 elif문을 이용하여 조건식을 생성\n",
    "- 하나의 조건에서 조건식이 여러 개인 경우에는 논리 연산자(and, or)를 사용"
   ]
  },
  {
   "cell_type": "markdown",
   "metadata": {},
   "source": [
    "# 반복문 \n",
    "> for문\n",
    "- 기본 형 : for 변수명 in range(시작값, 종료값, 증감값):\n",
    "    - 시작값부터 반복하여 종료값이 될때까지 코드를 반복 실행\n",
    "    - range() : 시작값부터 증감값으로 데이터를 변형 시켜서 종료값이 될때까지 원소들을 자료형 데이터로 생성\n",
    "- 자료형 데이터를 사용하는 경우 : for 변수명 in 자료형 데이터:\n",
    "\n",
    "> while문 \n",
    "- 초기값을 지정하고 while 조건식을 이용하여 조건식이 거짓이 될때까지 반복\n",
    "- 반복 실행하는 코드에 초기값을 증감 시키는 코드를 추가\n",
    "- 반복문을 사용할 때 유의 할 점 : 무한 루프(조건식이 거짓 될 수 있도록 조건식 잘 생성)\n",
    "\n",
    "> continue\n",
    "- continue 밑의 코드를 실행 시키지 않고 반복문으로 되돌어가는 구문\n",
    "- 반복 실행 할 코드의 마지막에서 하는 행동을 코드 중간에서 지정\n",
    "- continue는 코드 마지막에 작성하게 되면 불필요한 코드가 된다. \n",
    "\n",
    "> break \n",
    "- 반복문을 강제로 종료하는 구문"
   ]
  },
  {
   "cell_type": "markdown",
   "metadata": {},
   "source": [
    "# pandas 예제\n",
    "1. sales records.csv 파일 로드 \n",
    "2. Region, Country, Sales Channel, Units Sold, Unit Price, Unit Cost 컬럼만 추출\n",
    "3. 컬럼의 이름을 변경 권역, 국가, 판매채널, 판매개수, 단가, 원가 \n",
    "4. 권역이라는 컬럼의 이름을 대륙 변경\n",
    "4. 총단가, 총원가, 총이윤 이라는 파생변수 생성 (해당하는 데이터들은 소수점 2자리까지 유지하고 반올림)\n",
    "5. 대륙별 총이윤의 평균을 바형 그래프로 표시 \n",
    "6. 대륙, 판매채널에 따른 총이윤의 합계를 바형 그래프 표시 "
   ]
  },
  {
   "cell_type": "code",
   "execution_count": 2,
   "metadata": {},
   "outputs": [],
   "source": [
    "import pandas as pd\n",
    "import matplotlib.pyplot as plt"
   ]
  },
  {
   "cell_type": "code",
   "execution_count": 27,
   "metadata": {},
   "outputs": [],
   "source": [
    "# 경고 메시지 무시하기 \n",
    "import warnings\n",
    "warnings.filterwarnings('ignore')"
   ]
  },
  {
   "cell_type": "code",
   "execution_count": 4,
   "metadata": {},
   "outputs": [
    {
     "data": {
      "text/html": [
       "<div>\n",
       "<style scoped>\n",
       "    .dataframe tbody tr th:only-of-type {\n",
       "        vertical-align: middle;\n",
       "    }\n",
       "\n",
       "    .dataframe tbody tr th {\n",
       "        vertical-align: top;\n",
       "    }\n",
       "\n",
       "    .dataframe thead th {\n",
       "        text-align: right;\n",
       "    }\n",
       "</style>\n",
       "<table border=\"1\" class=\"dataframe\">\n",
       "  <thead>\n",
       "    <tr style=\"text-align: right;\">\n",
       "      <th></th>\n",
       "      <th>Region</th>\n",
       "      <th>Country</th>\n",
       "      <th>Item Type</th>\n",
       "      <th>Sales Channel</th>\n",
       "      <th>Order Priority</th>\n",
       "      <th>Order Date</th>\n",
       "      <th>Order ID</th>\n",
       "      <th>Ship Date</th>\n",
       "      <th>Units Sold</th>\n",
       "      <th>Unit Price</th>\n",
       "      <th>Unit Cost</th>\n",
       "      <th>Total Revenue</th>\n",
       "      <th>Total Cost</th>\n",
       "      <th>Total Profit</th>\n",
       "    </tr>\n",
       "  </thead>\n",
       "  <tbody>\n",
       "    <tr>\n",
       "      <th>0</th>\n",
       "      <td>Sub-Saharan Africa</td>\n",
       "      <td>Chad</td>\n",
       "      <td>Office Supplies</td>\n",
       "      <td>Online</td>\n",
       "      <td>L</td>\n",
       "      <td>1/27/2011</td>\n",
       "      <td>292494523</td>\n",
       "      <td>2/12/2011</td>\n",
       "      <td>4484</td>\n",
       "      <td>651.21</td>\n",
       "      <td>524.96</td>\n",
       "      <td>2920025.64</td>\n",
       "      <td>2353920.64</td>\n",
       "      <td>566105.0</td>\n",
       "    </tr>\n",
       "  </tbody>\n",
       "</table>\n",
       "</div>"
      ],
      "text/plain": [
       "               Region Country        Item Type Sales Channel Order Priority  \\\n",
       "0  Sub-Saharan Africa    Chad  Office Supplies        Online              L   \n",
       "\n",
       "  Order Date   Order ID  Ship Date  Units Sold  Unit Price  Unit Cost  \\\n",
       "0  1/27/2011  292494523  2/12/2011        4484      651.21     524.96   \n",
       "\n",
       "   Total Revenue  Total Cost  Total Profit  \n",
       "0     2920025.64  2353920.64      566105.0  "
      ]
     },
     "execution_count": 4,
     "metadata": {},
     "output_type": "execute_result"
    }
   ],
   "source": [
    "# csv 파일을 로드 하는 함수 read_csv(파일의 경로, encoding=?)\n",
    "# encoding은 기본값이 'utf-8'\n",
    "# 종종 한글이 있는 데이터들은 decodeError 발생하면 encoding을 'euc-kr', 'cp949'로 변경\n",
    "# 파일의 경로는 절대경로, 상대경로 모두 사용이 가능\n",
    "sales = pd.read_csv('../../csv/Sales Records.csv')\n",
    "sales.head(1)"
   ]
  },
  {
   "cell_type": "code",
   "execution_count": null,
   "metadata": {},
   "outputs": [],
   "source": [
    "# 테이블의 구조를 확인 \n",
    "sales.info()"
   ]
  },
  {
   "cell_type": "code",
   "execution_count": 8,
   "metadata": {},
   "outputs": [
    {
     "data": {
      "text/plain": [
       "Region            0\n",
       "Country           0\n",
       "Item Type         0\n",
       "Sales Channel     0\n",
       "Order Priority    0\n",
       "Order Date        0\n",
       "Order ID          0\n",
       "Ship Date         0\n",
       "Units Sold        0\n",
       "Unit Price        0\n",
       "Unit Cost         0\n",
       "Total Revenue     0\n",
       "Total Cost        0\n",
       "Total Profit      0\n",
       "dtype: int64"
      ]
     },
     "execution_count": 8,
     "metadata": {},
     "output_type": "execute_result"
    }
   ],
   "source": [
    "# 결측치를 확인 \n",
    "sales.isna().sum()"
   ]
  },
  {
   "cell_type": "code",
   "execution_count": 9,
   "metadata": {},
   "outputs": [
    {
     "data": {
      "text/html": [
       "<div>\n",
       "<style scoped>\n",
       "    .dataframe tbody tr th:only-of-type {\n",
       "        vertical-align: middle;\n",
       "    }\n",
       "\n",
       "    .dataframe tbody tr th {\n",
       "        vertical-align: top;\n",
       "    }\n",
       "\n",
       "    .dataframe thead th {\n",
       "        text-align: right;\n",
       "    }\n",
       "</style>\n",
       "<table border=\"1\" class=\"dataframe\">\n",
       "  <thead>\n",
       "    <tr style=\"text-align: right;\">\n",
       "      <th></th>\n",
       "      <th>Order ID</th>\n",
       "      <th>Units Sold</th>\n",
       "      <th>Unit Price</th>\n",
       "      <th>Unit Cost</th>\n",
       "      <th>Total Revenue</th>\n",
       "      <th>Total Cost</th>\n",
       "      <th>Total Profit</th>\n",
       "    </tr>\n",
       "  </thead>\n",
       "  <tbody>\n",
       "    <tr>\n",
       "      <th>count</th>\n",
       "      <td>1.000000e+04</td>\n",
       "      <td>10000.000000</td>\n",
       "      <td>10000.000000</td>\n",
       "      <td>10000.000000</td>\n",
       "      <td>1.000000e+04</td>\n",
       "      <td>1.000000e+04</td>\n",
       "      <td>1.000000e+04</td>\n",
       "    </tr>\n",
       "    <tr>\n",
       "      <th>mean</th>\n",
       "      <td>5.498719e+08</td>\n",
       "      <td>5002.855900</td>\n",
       "      <td>268.143139</td>\n",
       "      <td>188.806639</td>\n",
       "      <td>1.333355e+06</td>\n",
       "      <td>9.382658e+05</td>\n",
       "      <td>3.950893e+05</td>\n",
       "    </tr>\n",
       "    <tr>\n",
       "      <th>std</th>\n",
       "      <td>2.607835e+08</td>\n",
       "      <td>2873.246454</td>\n",
       "      <td>217.944092</td>\n",
       "      <td>176.445907</td>\n",
       "      <td>1.465026e+06</td>\n",
       "      <td>1.145914e+06</td>\n",
       "      <td>3.775550e+05</td>\n",
       "    </tr>\n",
       "    <tr>\n",
       "      <th>min</th>\n",
       "      <td>1.000892e+08</td>\n",
       "      <td>2.000000</td>\n",
       "      <td>9.330000</td>\n",
       "      <td>6.920000</td>\n",
       "      <td>1.679400e+02</td>\n",
       "      <td>1.245600e+02</td>\n",
       "      <td>4.338000e+01</td>\n",
       "    </tr>\n",
       "    <tr>\n",
       "      <th>25%</th>\n",
       "      <td>3.218067e+08</td>\n",
       "      <td>2530.750000</td>\n",
       "      <td>109.280000</td>\n",
       "      <td>56.670000</td>\n",
       "      <td>2.885511e+05</td>\n",
       "      <td>1.647855e+05</td>\n",
       "      <td>9.832914e+04</td>\n",
       "    </tr>\n",
       "    <tr>\n",
       "      <th>50%</th>\n",
       "      <td>5.485663e+08</td>\n",
       "      <td>4962.000000</td>\n",
       "      <td>205.700000</td>\n",
       "      <td>117.110000</td>\n",
       "      <td>8.000512e+05</td>\n",
       "      <td>4.816058e+05</td>\n",
       "      <td>2.890990e+05</td>\n",
       "    </tr>\n",
       "    <tr>\n",
       "      <th>75%</th>\n",
       "      <td>7.759981e+08</td>\n",
       "      <td>7472.000000</td>\n",
       "      <td>437.200000</td>\n",
       "      <td>364.690000</td>\n",
       "      <td>1.819143e+06</td>\n",
       "      <td>1.183822e+06</td>\n",
       "      <td>5.664227e+05</td>\n",
       "    </tr>\n",
       "    <tr>\n",
       "      <th>max</th>\n",
       "      <td>9.999342e+08</td>\n",
       "      <td>10000.000000</td>\n",
       "      <td>668.270000</td>\n",
       "      <td>524.960000</td>\n",
       "      <td>6.680027e+06</td>\n",
       "      <td>5.241726e+06</td>\n",
       "      <td>1.738178e+06</td>\n",
       "    </tr>\n",
       "  </tbody>\n",
       "</table>\n",
       "</div>"
      ],
      "text/plain": [
       "           Order ID    Units Sold    Unit Price     Unit Cost  Total Revenue  \\\n",
       "count  1.000000e+04  10000.000000  10000.000000  10000.000000   1.000000e+04   \n",
       "mean   5.498719e+08   5002.855900    268.143139    188.806639   1.333355e+06   \n",
       "std    2.607835e+08   2873.246454    217.944092    176.445907   1.465026e+06   \n",
       "min    1.000892e+08      2.000000      9.330000      6.920000   1.679400e+02   \n",
       "25%    3.218067e+08   2530.750000    109.280000     56.670000   2.885511e+05   \n",
       "50%    5.485663e+08   4962.000000    205.700000    117.110000   8.000512e+05   \n",
       "75%    7.759981e+08   7472.000000    437.200000    364.690000   1.819143e+06   \n",
       "max    9.999342e+08  10000.000000    668.270000    524.960000   6.680027e+06   \n",
       "\n",
       "         Total Cost  Total Profit  \n",
       "count  1.000000e+04  1.000000e+04  \n",
       "mean   9.382658e+05  3.950893e+05  \n",
       "std    1.145914e+06  3.775550e+05  \n",
       "min    1.245600e+02  4.338000e+01  \n",
       "25%    1.647855e+05  9.832914e+04  \n",
       "50%    4.816058e+05  2.890990e+05  \n",
       "75%    1.183822e+06  5.664227e+05  \n",
       "max    5.241726e+06  1.738178e+06  "
      ]
     },
     "execution_count": 9,
     "metadata": {},
     "output_type": "execute_result"
    }
   ],
   "source": [
    "# 데이터프레임에서 통계요약정보 함수\n",
    "sales.describe()"
   ]
  },
  {
   "cell_type": "code",
   "execution_count": 11,
   "metadata": {},
   "outputs": [],
   "source": [
    "# 컬럼을 삭제하는 함수\n",
    "sales.drop(['Item Type'], axis=1, inplace=True)"
   ]
  },
  {
   "cell_type": "code",
   "execution_count": null,
   "metadata": {},
   "outputs": [],
   "source": [
    "# 특정 인덱스를 삭제 \n",
    "sales.drop([1,3], axis=0)"
   ]
  },
  {
   "cell_type": "code",
   "execution_count": 15,
   "metadata": {},
   "outputs": [],
   "source": [
    "# 특정한 컬럼만 추출\n",
    "df = sales[['Region', 'Country', 'Sales Channel', 'Units Sold',\n",
    "       'Unit Price', 'Unit Cost']]"
   ]
  },
  {
   "cell_type": "code",
   "execution_count": 17,
   "metadata": {},
   "outputs": [],
   "source": [
    "# 전체 컬럼의 이름을 변경 \n",
    "df.columns = ['권역', '국가', '판매채널', '판매개수', '단가', '원가']"
   ]
  },
  {
   "cell_type": "code",
   "execution_count": null,
   "metadata": {},
   "outputs": [],
   "source": [
    "df.head()"
   ]
  },
  {
   "cell_type": "code",
   "execution_count": 24,
   "metadata": {},
   "outputs": [
    {
     "name": "stderr",
     "output_type": "stream",
     "text": [
      "C:\\Users\\moons\\AppData\\Local\\Temp\\ipykernel_5188\\1356463009.py:2: SettingWithCopyWarning: \n",
      "A value is trying to be set on a copy of a slice from a DataFrame\n",
      "\n",
      "See the caveats in the documentation: https://pandas.pydata.org/pandas-docs/stable/user_guide/indexing.html#returning-a-view-versus-a-copy\n",
      "  df.rename(columns={\n"
     ]
    }
   ],
   "source": [
    "# 권역이라는 컬럼의 이름을 대륙으로 변경 \n",
    "df.rename(columns={\n",
    "    \"권역\" : '대륙', \n",
    "    '판매채널' : '채널', \n",
    "    '판매개수' : '개수'\n",
    "}, inplace=True)"
   ]
  },
  {
   "cell_type": "code",
   "execution_count": 25,
   "metadata": {},
   "outputs": [
    {
     "data": {
      "text/html": [
       "<div>\n",
       "<style scoped>\n",
       "    .dataframe tbody tr th:only-of-type {\n",
       "        vertical-align: middle;\n",
       "    }\n",
       "\n",
       "    .dataframe tbody tr th {\n",
       "        vertical-align: top;\n",
       "    }\n",
       "\n",
       "    .dataframe thead th {\n",
       "        text-align: right;\n",
       "    }\n",
       "</style>\n",
       "<table border=\"1\" class=\"dataframe\">\n",
       "  <thead>\n",
       "    <tr style=\"text-align: right;\">\n",
       "      <th></th>\n",
       "      <th>대륙</th>\n",
       "      <th>국가</th>\n",
       "      <th>채널</th>\n",
       "      <th>개수</th>\n",
       "      <th>단가</th>\n",
       "      <th>원가</th>\n",
       "    </tr>\n",
       "  </thead>\n",
       "  <tbody>\n",
       "    <tr>\n",
       "      <th>0</th>\n",
       "      <td>Sub-Saharan Africa</td>\n",
       "      <td>Chad</td>\n",
       "      <td>Online</td>\n",
       "      <td>4484</td>\n",
       "      <td>651.21</td>\n",
       "      <td>524.96</td>\n",
       "    </tr>\n",
       "  </tbody>\n",
       "</table>\n",
       "</div>"
      ],
      "text/plain": [
       "                   대륙    국가      채널    개수      단가      원가\n",
       "0  Sub-Saharan Africa  Chad  Online  4484  651.21  524.96"
      ]
     },
     "execution_count": 25,
     "metadata": {},
     "output_type": "execute_result"
    }
   ],
   "source": [
    "df.head(1)"
   ]
  },
  {
   "cell_type": "code",
   "execution_count": 28,
   "metadata": {},
   "outputs": [
    {
     "data": {
      "text/html": [
       "<div>\n",
       "<style scoped>\n",
       "    .dataframe tbody tr th:only-of-type {\n",
       "        vertical-align: middle;\n",
       "    }\n",
       "\n",
       "    .dataframe tbody tr th {\n",
       "        vertical-align: top;\n",
       "    }\n",
       "\n",
       "    .dataframe thead th {\n",
       "        text-align: right;\n",
       "    }\n",
       "</style>\n",
       "<table border=\"1\" class=\"dataframe\">\n",
       "  <thead>\n",
       "    <tr style=\"text-align: right;\">\n",
       "      <th></th>\n",
       "      <th>대륙</th>\n",
       "      <th>국가</th>\n",
       "      <th>채널</th>\n",
       "      <th>개수</th>\n",
       "      <th>단가</th>\n",
       "      <th>원가</th>\n",
       "      <th>총원가</th>\n",
       "      <th>총단가</th>\n",
       "      <th>총이윤</th>\n",
       "    </tr>\n",
       "  </thead>\n",
       "  <tbody>\n",
       "    <tr>\n",
       "      <th>0</th>\n",
       "      <td>Sub-Saharan Africa</td>\n",
       "      <td>Chad</td>\n",
       "      <td>Online</td>\n",
       "      <td>4484</td>\n",
       "      <td>651.21</td>\n",
       "      <td>524.96</td>\n",
       "      <td>2353920.64</td>\n",
       "      <td>2920025.64</td>\n",
       "      <td>566105.0</td>\n",
       "    </tr>\n",
       "  </tbody>\n",
       "</table>\n",
       "</div>"
      ],
      "text/plain": [
       "                   대륙    국가      채널    개수      단가      원가         총원가  \\\n",
       "0  Sub-Saharan Africa  Chad  Online  4484  651.21  524.96  2353920.64   \n",
       "\n",
       "          총단가       총이윤  \n",
       "0  2920025.64  566105.0  "
      ]
     },
     "execution_count": 28,
     "metadata": {},
     "output_type": "execute_result"
    }
   ],
   "source": [
    "# 새로운 파생변수 생성 (소수점 2자리까지 두고 나머지는 반올림)\n",
    "df['총원가'] = (df['개수'] * df['원가']).round(2)\n",
    "df['총단가'] = (df['개수'] * df['단가']).round(2)\n",
    "df['총이윤'] = df['총단가'] - df['총원가']\n",
    "df.head(1)\n"
   ]
  },
  {
   "cell_type": "markdown",
   "metadata": {},
   "source": [
    "# 그룹화\n",
    "> groupby()\n",
    "- 특정한 컬럼을 지정하여 데이터들이 같은 값들을 그룹화\n",
    "- 그룹화된 데이터들의 평균이나 합계, 최대, 최소, 표준편차와 같은 통계량을 생성\n",
    "> pivot_table()\n",
    "- 인덱스, 컬럼, 벨류를 지정하여 그룹화\n",
    "- 그룹화된 데이터들의 통계량을 생성"
   ]
  },
  {
   "cell_type": "code",
   "execution_count": 30,
   "metadata": {},
   "outputs": [],
   "source": [
    "# 대륙별 총이윤의 평균을 바형 그래프로 표시\n",
    "group_data = df[['대륙', '총이윤']].groupby('대륙').mean()"
   ]
  },
  {
   "cell_type": "code",
   "execution_count": 32,
   "metadata": {},
   "outputs": [],
   "source": [
    "import platform"
   ]
  },
  {
   "cell_type": "code",
   "execution_count": 33,
   "metadata": {},
   "outputs": [],
   "source": [
    "if platform.system() == 'Darwin':\n",
    "    plt.rc('font', family='AppleGothic')\n",
    "else:\n",
    "    plt.rc('font', family='Malgun Gothic')"
   ]
  },
  {
   "cell_type": "code",
   "execution_count": null,
   "metadata": {},
   "outputs": [],
   "source": [
    "# 바형그래프를 간단하게 표시 \n",
    "group_data.plot.bar()"
   ]
  },
  {
   "cell_type": "code",
   "execution_count": 35,
   "metadata": {},
   "outputs": [],
   "source": [
    "# pivot_table을 이용하여 \n",
    "# 대륙, 채널별 총이윤의 합계를 바형 그래프로 표시 \n",
    "group_data2 = df[['대륙', '채널', '총이윤']].groupby(['대륙', '채널']).sum()"
   ]
  },
  {
   "cell_type": "code",
   "execution_count": null,
   "metadata": {},
   "outputs": [],
   "source": [
    "group_data2.plot.bar()"
   ]
  },
  {
   "cell_type": "code",
   "execution_count": 39,
   "metadata": {},
   "outputs": [],
   "source": [
    "pivot_data = pd.pivot_table(\n",
    "    df, \n",
    "    index = '대륙', \n",
    "    columns = '채널', \n",
    "    values = '총이윤', \n",
    "    aggfunc= 'sum'\n",
    ")"
   ]
  },
  {
   "cell_type": "code",
   "execution_count": null,
   "metadata": {},
   "outputs": [],
   "source": [
    "pivot_data.plot.bar()"
   ]
  },
  {
   "cell_type": "code",
   "execution_count": 43,
   "metadata": {},
   "outputs": [
    {
     "data": {
      "text/plain": [
       "<AxesSubplot: xlabel='대륙'>"
      ]
     },
     "execution_count": 43,
     "metadata": {},
     "output_type": "execute_result"
    },
    {
     "data": {
      "image/png": "[encoded data removed]",
      "text/plain": [
       "<Figure size 640x480 with 1 Axes>"
      ]
     },
     "metadata": {},
     "output_type": "display_data"
    }
   ],
   "source": [
    "# 인덱스의 값을 컬럼으로 올린다.\n",
    "group_data2.unstack().plot.bar()"
   ]
  }
 ],
 "metadata": {
  "kernelspec": {
   "display_name": "Python 3",
   "language": "python",
   "name": "python3"
  },
  "language_info": {
   "codemirror_mode": {
    "name": "ipython",
    "version": 3
   },
   "file_extension": ".py",
   "mimetype": "text/x-python",
   "name": "python",
   "nbconvert_exporter": "python",
   "pygments_lexer": "ipython3",
   "version": "3.11.1"
  },
  "orig_nbformat": 4
 },
 "nbformat": 4,
 "nbformat_minor": 2
}
