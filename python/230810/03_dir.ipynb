{
 "cells": [
  {
   "cell_type": "code",
   "execution_count": 1,
   "metadata": {},
   "outputs": [],
   "source": [
    "import pandas as pd\n",
    "import os"
   ]
  },
  {
   "cell_type": "code",
   "execution_count": 8,
   "metadata": {},
   "outputs": [],
   "source": [
    "# os 라이브러리를 이용하여 해당하는 경로의 파일 목록 로드\n",
    "path = \"../../csv/2017/\"\n",
    "\n",
    "file_list = os.listdir(path) "
   ]
  },
  {
   "cell_type": "code",
   "execution_count": 12,
   "metadata": {},
   "outputs": [],
   "source": [
    "# 비어있는 데이터프레임 생성\n",
    "result = pd.DataFrame()\n",
    "\n",
    "for i in file_list:\n",
    "    # i는 파일의 이름 \n",
    "    # read_csv()를 이용하여 데이터프레임 12개 로드 \n",
    "    # read_csv()안에 인자값에는 파일의 경로 + 파일의 이름\n",
    "    # path 마지막에 /가 없다면 ../../csv/2017201701_expensive....\n",
    "    df = pd.read_csv(path+i)\n",
    "    # result와 df를 단순한 유니언 결합\n",
    "    result = pd.concat([result, df], axis=0, ignore_index=True)"
   ]
  },
  {
   "cell_type": "code",
   "execution_count": null,
   "metadata": {},
   "outputs": [],
   "source": [
    "result"
   ]
  },
  {
   "cell_type": "markdown",
   "metadata": {},
   "source": [
    "### 경로에 있는 파일을 불러와서 하나의 데이터프레임으로 되돌려 주는 함수 생성\n",
    "1. 일반함수 생성 매개변수 1개 (path)\n",
    "2. 해당하는 경로에 있는 파일의 목록 변수에 대입 \n",
    "3. 비어있는 데이터프레임 생성\n",
    "4. 파일의 목록을 반복문을 이용하여 csv파일을 데이터프레임으로 로드하여 비어있는 데이터프레임에 유니언 결합 \n",
    "5. 결합된 데이터프레임을 되돌려준다. "
   ]
  },
  {
   "cell_type": "code",
   "execution_count": 19,
   "metadata": {},
   "outputs": [],
   "source": [
    "def path_load(path):\n",
    "    # 조건문을 이용하여 path의 마지막이 '/'가 아니라면\n",
    "    if (path[-1] != '/'):\n",
    "    # if not(path.endswith('/')):\n",
    "        #path에 '/'을 추가\n",
    "        path = path + '/'\n",
    "\n",
    "    # 파일의 목록\n",
    "    file_list = os.listdir(path)\n",
    "    # 비어있는 데이터프레임을 생성\n",
    "    result = pd.DataFrame()\n",
    "\n",
    "    # 파일의 목록을 가지고 반복문\n",
    "    for file_name in file_list:\n",
    "        # 해당하는 경로에 있는 파일을 로드 \n",
    "        df = pd.read_csv(path + file_name)\n",
    "        # 불러온 데이터프레임을 result에 유니언 결합\n",
    "        result = pd.concat([result, df], axis=0, ignore_index=True)\n",
    "    \n",
    "    # result을 되돌려준다. \n",
    "    return result"
   ]
  },
  {
   "cell_type": "code",
   "execution_count": null,
   "metadata": {},
   "outputs": [],
   "source": [
    "path_load('../../csv/2018')"
   ]
  },
  {
   "cell_type": "code",
   "execution_count": null,
   "metadata": {},
   "outputs": [],
   "source": [
    "# 2019폴더에 있는 json 파일을 로드 \n",
    "pd.read_json(\"../../csv/2019/201901_expense_list.json\")"
   ]
  },
  {
   "cell_type": "code",
   "execution_count": 3,
   "metadata": {},
   "outputs": [
    {
     "name": "stdout",
     "output_type": "stream",
     "text": [
      "['201901_expense_list.json', '201902_expense_list.json', '201903_expense_list.json', '201904_expense_list.json', '201905_expense_list.json', '201906_expense_list.json', '201907_expense_list.json', '201908_expense_list.json', '201909_expense_list.json', '201910_expense_list.json', '201911_expense_list.json', '201912_expense_list.json']\n"
     ]
    }
   ],
   "source": [
    "path = \"../../csv/2019/\"\n",
    "\n",
    "file_list = os.listdir(path)\n",
    "\n",
    "print(file_list)"
   ]
  },
  {
   "cell_type": "code",
   "execution_count": null,
   "metadata": {},
   "outputs": [],
   "source": [
    "# 비어있는 데이터프레임을 생성\n",
    "result = pd.DataFrame()\n",
    "\n",
    "# file_list를 가지고 반복문을 사용\n",
    "for i in file_list:\n",
    "    # 해당하는 경로에 있는 파일을 하나씩 데이터프레임화\n",
    "    df = pd.read_json(path + i)\n",
    "    result = pd.concat([result, df], axis=0, ignore_index=True)\n",
    "\n",
    "result.info()"
   ]
  },
  {
   "cell_type": "code",
   "execution_count": 6,
   "metadata": {},
   "outputs": [],
   "source": [
    "path = \"../../csv/2020/\"\n",
    "\n",
    "file_list = os.listdir(path)"
   ]
  },
  {
   "cell_type": "code",
   "execution_count": null,
   "metadata": {},
   "outputs": [],
   "source": [
    "pd.read_excel(\"../../csv/2020/202001_expense_list.xlsx\")"
   ]
  },
  {
   "cell_type": "code",
   "execution_count": null,
   "metadata": {},
   "outputs": [],
   "source": [
    "# 엑셀 파일이 에러가 나는 경우 \n",
    "# openpyxl 모듈이 설치가 안되어있기 때문\n",
    "!pip install openpyxl"
   ]
  },
  {
   "cell_type": "code",
   "execution_count": null,
   "metadata": {},
   "outputs": [],
   "source": [
    "result = pd.DataFrame()\n",
    "for i in file_list:\n",
    "    df = pd.read_excel(path+i)\n",
    "    result = pd.concat([result, df], axis=0, ignore_index=True)\n",
    "\n",
    "result.info()"
   ]
  },
  {
   "cell_type": "markdown",
   "metadata": {},
   "source": [
    "1. 2021폴더에는 csv, json, xlsx, xml 확장자가 존재\n",
    "2. 해당하는 폴더에서 csv 파일로만 이루어진 새로운 file_list를 생성"
   ]
  },
  {
   "cell_type": "code",
   "execution_count": 10,
   "metadata": {},
   "outputs": [
    {
     "data": {
      "text/plain": [
       "'202101_expense_list.csv'"
      ]
     },
     "execution_count": 10,
     "metadata": {},
     "output_type": "execute_result"
    }
   ],
   "source": [
    "path = \"../../csv/2021/\"\n",
    "\n",
    "file_list = os.listdir(path)\n",
    "file_list[0]"
   ]
  },
  {
   "cell_type": "code",
   "execution_count": 12,
   "metadata": {},
   "outputs": [
    {
     "data": {
      "text/plain": [
       "'csv'"
      ]
     },
     "execution_count": 12,
     "metadata": {},
     "output_type": "execute_result"
    }
   ],
   "source": [
    "file_list[0].split('.')[-1]"
   ]
  },
  {
   "cell_type": "code",
   "execution_count": 14,
   "metadata": {},
   "outputs": [
    {
     "data": {
      "text/plain": [
       "'csv'"
      ]
     },
     "execution_count": 14,
     "metadata": {},
     "output_type": "execute_result"
    }
   ],
   "source": [
    "file_name = \"a.r.c.f.csv\"\n",
    "file_name.split(\".\")[-1]"
   ]
  },
  {
   "cell_type": "code",
   "execution_count": null,
   "metadata": {},
   "outputs": [],
   "source": [
    "csv_list = []\n",
    "for i in file_list : \n",
    "    # i가 csv 파일이라면?\n",
    "    if i.split('.')[-1] == 'csv':\n",
    "        csv_list.append(i)\n",
    "csv_list"
   ]
  },
  {
   "cell_type": "code",
   "execution_count": null,
   "metadata": {},
   "outputs": [],
   "source": [
    "csv_list = []\n",
    "for i in file_list:\n",
    "    if  i[-4:] == \".xml\":\n",
    "        csv_list.append(i)\n",
    "\n",
    "csv_list"
   ]
  },
  {
   "cell_type": "code",
   "execution_count": 24,
   "metadata": {},
   "outputs": [
    {
     "data": {
      "text/plain": [
       "['202101_expense_list.csv',\n",
       " '202102_expense_list.csv',\n",
       " '202103_expense_list.csv',\n",
       " '202104_expense_list.csv',\n",
       " '202105_expense_list.csv',\n",
       " '202106_expense_list.csv',\n",
       " '202107_expense_list.csv',\n",
       " '202108_expense_list.csv',\n",
       " '202109_expense_list.csv',\n",
       " '202110_expense_list.csv',\n",
       " '202111_expense_list.csv',\n",
       " '202112_expense_list.csv']"
      ]
     },
     "execution_count": 24,
     "metadata": {},
     "output_type": "execute_result"
    }
   ],
   "source": [
    "csv_list = []\n",
    "for i in file_list:\n",
    "    if i.endswith('.csv'):\n",
    "        csv_list.append(i)\n",
    "\n",
    "csv_list"
   ]
  },
  {
   "cell_type": "markdown",
   "metadata": {},
   "source": [
    "### 함수 생성\n",
    "1. 함수의 매개변수 2개(path, end)\n",
    "2. path는 파일의 경로, end 파일의 확장자\n",
    "3. path에 마지막 문자열이 /가 아니라면 /를 붙여준다. \n",
    "4. end에 첫 시작이 .이 아니라면 앞에 .을 붙여준다. \n",
    "5. path에 있는 파일 목록을 로드 \n",
    "6. 새로운 확장자를 담기 위한 비어있는 리스트 변수 생성\n",
    "6. 비어있는 데이터프레임 생성\n",
    "6. 파일 목록중에 end와 같은 확장자를 가진 파일들을 새로운 리스트에 대입\n",
    "7. 6번과정에 생성된 리스트를 이용하여 반복문 생성\n",
    "8. end의 확장자에 따라서 read함수를 사용하는 조건문 생성\n",
    "9. 8번 과정에서 만들어진 데이터프레임을 비어있는 데이터프레임에 유니언 결합\n",
    "10. 데이터프레임을 되돌려준다."
   ]
  },
  {
   "cell_type": "code",
   "execution_count": 25,
   "metadata": {},
   "outputs": [],
   "source": [
    "# 함수 생성하여 매개변수 2개\n",
    "def path_load(path, end):\n",
    "    # path 매개변수에 들어오는 인자 값이 마지막이 /가 아니라면\n",
    "    # if not(path.endswith('/')):\n",
    "    if path[-1] != \"/\":\n",
    "        # path = path + \"/\"\n",
    "        path += \"/\"\n",
    "    # end의 첫글자가 .이 아니라면\n",
    "    # if end[0] != \".\":\n",
    "    if not(end.startswith('.')):\n",
    "        end = '.' + end\n",
    "\n",
    "    # path를 가지고 경로에 있는 파일의 목록을 로드 \n",
    "    file_list = os.listdir(path)\n",
    "\n",
    "    # end 매개변수에 입력된 인자값과 같은 확장자를 가진 파일들을 리스트에 대입\n",
    "    file_list2 = []\n",
    "    # file_list에서 end에서 지정한 확장자인 파일들을 새로운 리스트에 대입\n",
    "    for file_name in file_list:\n",
    "        if file_name.endswith(end):\n",
    "            file_list2.append(file_name)\n",
    "    print(file_list2)\n",
    "\n",
    "    result = pd.DataFrame()\n",
    "\n",
    "    for i in file_list2:\n",
    "        # end의 인자값에 따라서 read함수를 지정\n",
    "        if end == '.csv':\n",
    "            df = pd.read_csv(path+i)\n",
    "        elif end == '.json':\n",
    "            df = pd.read_json(path+i)\n",
    "        # elif (end == '.xlsx') | (end == '.xls'):\n",
    "        elif end in ['.xlsx', 'xls']:\n",
    "            df = pd.read_excel(path+i)\n",
    "        else:\n",
    "            return \"지원이 되지 않는 확장자입니다.\"\n",
    "        # 비어있는 데이터프레임과 로드한 데이터프레임을 유니언 결합\n",
    "        result = pd.concat([result, df], axis=0, ignore_index=True)\n",
    "    \n",
    "\n",
    "    return result\n"
   ]
  },
  {
   "cell_type": "code",
   "execution_count": 31,
   "metadata": {},
   "outputs": [
    {
     "name": "stdout",
     "output_type": "stream",
     "text": [
      "['202101_expense_list.xml', '202102_expense_list.xml', '202103_expense_list.xml', '202104_expense_list.xml', '202105_expense_list.xml', '202106_expense_list.xml', '202107_expense_list.xml', '202108_expense_list.xml', '202109_expense_list.xml', '202110_expense_list.xml', '202111_expense_list.xml', '202112_expense_list.xml']\n"
     ]
    },
    {
     "data": {
      "text/plain": [
       "'지원이 되지 않는 확장자입니다.'"
      ]
     },
     "execution_count": 31,
     "metadata": {},
     "output_type": "execute_result"
    }
   ],
   "source": [
    "path_load('../../csv/2021', 'xml')"
   ]
  },
  {
   "cell_type": "code",
   "execution_count": 32,
   "metadata": {},
   "outputs": [],
   "source": [
    "import path_load as pl"
   ]
  },
  {
   "cell_type": "code",
   "execution_count": 33,
   "metadata": {},
   "outputs": [
    {
     "name": "stdout",
     "output_type": "stream",
     "text": [
      "['202202_expense_list.json', '202203_expense_list.json', '202204_expense_list.json', '202205_expense_list.json']\n"
     ]
    },
    {
     "data": {
      "text/html": [
       "<div>\n",
       "<style scoped>\n",
       "    .dataframe tbody tr th:only-of-type {\n",
       "        vertical-align: middle;\n",
       "    }\n",
       "\n",
       "    .dataframe tbody tr th {\n",
       "        vertical-align: top;\n",
       "    }\n",
       "\n",
       "    .dataframe thead th {\n",
       "        text-align: right;\n",
       "    }\n",
       "</style>\n",
       "<table border=\"1\" class=\"dataframe\">\n",
       "  <thead>\n",
       "    <tr style=\"text-align: right;\">\n",
       "      <th></th>\n",
       "      <th>nid</th>\n",
       "      <th>title</th>\n",
       "      <th>url</th>\n",
       "      <th>dept_nm_lvl_1</th>\n",
       "      <th>dept_nm_lvl_2</th>\n",
       "      <th>dept_nm_lvl_3</th>\n",
       "      <th>dept_nm_lvl_4</th>\n",
       "      <th>dept_nm_lvl_5</th>\n",
       "      <th>exec_yr</th>\n",
       "      <th>exec_month</th>\n",
       "      <th>expense_budget</th>\n",
       "      <th>expense_execution</th>\n",
       "      <th>category</th>\n",
       "      <th>dept_nm_full</th>\n",
       "      <th>exec_dt</th>\n",
       "      <th>exec_loc</th>\n",
       "      <th>exec_purpose</th>\n",
       "      <th>target_nm</th>\n",
       "      <th>payment_method</th>\n",
       "      <th>exec_amount</th>\n",
       "    </tr>\n",
       "  </thead>\n",
       "  <tbody>\n",
       "    <tr>\n",
       "      <th>0</th>\n",
       "      <td>25844143</td>\n",
       "      <td>2022년 2월 사업소 도로사업소 서부도로사업소 업무추진비 - 기관운영 시책추진 부서운영</td>\n",
       "      <td>http://opengov.seoul.go.kr/expense/25844143</td>\n",
       "      <td>사업소</td>\n",
       "      <td>도로사업소</td>\n",
       "      <td>서부도로사업소</td>\n",
       "      <td></td>\n",
       "      <td></td>\n",
       "      <td>2022</td>\n",
       "      <td>2</td>\n",
       "      <td>0</td>\n",
       "      <td>0</td>\n",
       "      <td></td>\n",
       "      <td>서부도로사업소 기전과</td>\n",
       "      <td>2022-02-11 14:52</td>\n",
       "      <td>다농마트(마포구 월드컵로 235)</td>\n",
       "      <td>부서운영 물품구입</td>\n",
       "      <td>기전과장 외 48명</td>\n",
       "      <td>제로페이</td>\n",
       "      <td>230630</td>\n",
       "    </tr>\n",
       "    <tr>\n",
       "      <th>1</th>\n",
       "      <td>25844143</td>\n",
       "      <td>2022년 2월 사업소 도로사업소 서부도로사업소 업무추진비 - 기관운영 시책추진 부서운영</td>\n",
       "      <td>http://opengov.seoul.go.kr/expense/25844143</td>\n",
       "      <td>사업소</td>\n",
       "      <td>도로사업소</td>\n",
       "      <td>서부도로사업소</td>\n",
       "      <td></td>\n",
       "      <td></td>\n",
       "      <td>2022</td>\n",
       "      <td>2</td>\n",
       "      <td>0</td>\n",
       "      <td>0</td>\n",
       "      <td></td>\n",
       "      <td>서부도로사업소 시설보수과</td>\n",
       "      <td>2022-02-14 09:58</td>\n",
       "      <td>다농마트(마포구 월드컵로)</td>\n",
       "      <td>부서운영물품 구입(공무직)</td>\n",
       "      <td>김민철 등 3명</td>\n",
       "      <td>카드</td>\n",
       "      <td>120600</td>\n",
       "    </tr>\n",
       "    <tr>\n",
       "      <th>2</th>\n",
       "      <td>25844143</td>\n",
       "      <td>2022년 2월 사업소 도로사업소 서부도로사업소 업무추진비 - 기관운영 시책추진 부서운영</td>\n",
       "      <td>http://opengov.seoul.go.kr/expense/25844143</td>\n",
       "      <td>사업소</td>\n",
       "      <td>도로사업소</td>\n",
       "      <td>서부도로사업소</td>\n",
       "      <td></td>\n",
       "      <td></td>\n",
       "      <td>2022</td>\n",
       "      <td>2</td>\n",
       "      <td>0</td>\n",
       "      <td>0</td>\n",
       "      <td></td>\n",
       "      <td>서부도로사업소 도로보수과</td>\n",
       "      <td>2022-02-22 14:53</td>\n",
       "      <td>다농마트(마포구 월드컵로)</td>\n",
       "      <td>도로보수과 직원 물품구매</td>\n",
       "      <td>윤옥광외 9명</td>\n",
       "      <td>제로페이</td>\n",
       "      <td>112350</td>\n",
       "    </tr>\n",
       "    <tr>\n",
       "      <th>3</th>\n",
       "      <td>25844143</td>\n",
       "      <td>2022년 2월 사업소 도로사업소 서부도로사업소 업무추진비 - 기관운영 시책추진 부서운영</td>\n",
       "      <td>http://opengov.seoul.go.kr/expense/25844143</td>\n",
       "      <td>사업소</td>\n",
       "      <td>도로사업소</td>\n",
       "      <td>서부도로사업소</td>\n",
       "      <td></td>\n",
       "      <td></td>\n",
       "      <td>2022</td>\n",
       "      <td>2</td>\n",
       "      <td>0</td>\n",
       "      <td>0</td>\n",
       "      <td></td>\n",
       "      <td>서부도로사업소 도로보수과</td>\n",
       "      <td>2022-02-21 14:33</td>\n",
       "      <td>에이스문구센터(서대문구 연희로)</td>\n",
       "      <td>도로보수과 직원 물품구매</td>\n",
       "      <td>윤옥광외 9명</td>\n",
       "      <td>제로페이</td>\n",
       "      <td>12120</td>\n",
       "    </tr>\n",
       "    <tr>\n",
       "      <th>4</th>\n",
       "      <td>25844143</td>\n",
       "      <td>2022년 2월 사업소 도로사업소 서부도로사업소 업무추진비 - 기관운영 시책추진 부서운영</td>\n",
       "      <td>http://opengov.seoul.go.kr/expense/25844143</td>\n",
       "      <td>사업소</td>\n",
       "      <td>도로사업소</td>\n",
       "      <td>서부도로사업소</td>\n",
       "      <td></td>\n",
       "      <td></td>\n",
       "      <td>2022</td>\n",
       "      <td>2</td>\n",
       "      <td>0</td>\n",
       "      <td>0</td>\n",
       "      <td></td>\n",
       "      <td>서부도로사업소</td>\n",
       "      <td>2022-02-28 12:21</td>\n",
       "      <td>시골보쌈&amp;감자옹심이(마포구 월드컵북로)</td>\n",
       "      <td>과적단속 현장근무자 격려 간담회</td>\n",
       "      <td>김영철 등 5명</td>\n",
       "      <td>제로페이</td>\n",
       "      <td>68000</td>\n",
       "    </tr>\n",
       "    <tr>\n",
       "      <th>...</th>\n",
       "      <td>...</td>\n",
       "      <td>...</td>\n",
       "      <td>...</td>\n",
       "      <td>...</td>\n",
       "      <td>...</td>\n",
       "      <td>...</td>\n",
       "      <td>...</td>\n",
       "      <td>...</td>\n",
       "      <td>...</td>\n",
       "      <td>...</td>\n",
       "      <td>...</td>\n",
       "      <td>...</td>\n",
       "      <td>...</td>\n",
       "      <td>...</td>\n",
       "      <td>...</td>\n",
       "      <td>...</td>\n",
       "      <td>...</td>\n",
       "      <td>...</td>\n",
       "      <td>...</td>\n",
       "      <td>...</td>\n",
       "    </tr>\n",
       "    <tr>\n",
       "      <th>19349</th>\n",
       "      <td>26047684</td>\n",
       "      <td>2022년 5월 사업소 중부공원녹지사업소 시설과 업무추진비 - 부서운영</td>\n",
       "      <td>http://opengov.seoul.go.kr/expense/26047684</td>\n",
       "      <td>사업소</td>\n",
       "      <td>중부공원녹지사업소</td>\n",
       "      <td>시설과</td>\n",
       "      <td></td>\n",
       "      <td></td>\n",
       "      <td>2022</td>\n",
       "      <td>5</td>\n",
       "      <td>0</td>\n",
       "      <td>0</td>\n",
       "      <td></td>\n",
       "      <td>시설과</td>\n",
       "      <td>2022-05-25 11:00</td>\n",
       "      <td>㈜그린주의(중량구 봉화산로123)</td>\n",
       "      <td>부서운영 및 민원접대 물품구입(커피 및 다과)</td>\n",
       "      <td>시설과장외 14명</td>\n",
       "      <td>카드</td>\n",
       "      <td>355600</td>\n",
       "    </tr>\n",
       "    <tr>\n",
       "      <th>19350</th>\n",
       "      <td>25993976</td>\n",
       "      <td>2022년 5월 사업소 서울역사박물관 학예연구부 유물관리과 업무추진비 - 부서운영</td>\n",
       "      <td>http://opengov.seoul.go.kr/expense/25993976</td>\n",
       "      <td>사업소</td>\n",
       "      <td>서울역사박물관</td>\n",
       "      <td>학예연구부</td>\n",
       "      <td>유물관리과</td>\n",
       "      <td></td>\n",
       "      <td>2022</td>\n",
       "      <td>5</td>\n",
       "      <td>0</td>\n",
       "      <td>0</td>\n",
       "      <td></td>\n",
       "      <td>유물관리과</td>\n",
       "      <td>2022-05-17 15:41</td>\n",
       "      <td>광화문홈플러스(종로구 새문안로 91)</td>\n",
       "      <td>부서운영에 필요한 물품구입(차종류 등)</td>\n",
       "      <td>유물관리과장 강성희 등 9명</td>\n",
       "      <td>카드</td>\n",
       "      <td>175000</td>\n",
       "    </tr>\n",
       "    <tr>\n",
       "      <th>19351</th>\n",
       "      <td>25974709</td>\n",
       "      <td>2022년 5월 사업소 도시기반시설본부 시설국 안전관리과 업무추진비 - 부서운영</td>\n",
       "      <td>http://opengov.seoul.go.kr/expense/25974709</td>\n",
       "      <td>사업소</td>\n",
       "      <td>도시기반시설본부</td>\n",
       "      <td>시설국</td>\n",
       "      <td>안전관리과</td>\n",
       "      <td></td>\n",
       "      <td>2022</td>\n",
       "      <td>5</td>\n",
       "      <td>0</td>\n",
       "      <td>0</td>\n",
       "      <td></td>\n",
       "      <td>도시기반시설본부 안전관리과</td>\n",
       "      <td>2022-05-12 12:30</td>\n",
       "      <td>손가명가</td>\n",
       "      <td>안전관리방안 모색을 위한 간담회 개최</td>\n",
       "      <td>안전관리과장 외 8명</td>\n",
       "      <td>제로페이</td>\n",
       "      <td>250000</td>\n",
       "    </tr>\n",
       "    <tr>\n",
       "      <th>19352</th>\n",
       "      <td>25947326</td>\n",
       "      <td>2022년 5월 사업소 서울역사박물관 학예연구부 교육대외협력과 업무추진비 - 부서운영</td>\n",
       "      <td>http://opengov.seoul.go.kr/expense/25947326</td>\n",
       "      <td>사업소</td>\n",
       "      <td>서울역사박물관</td>\n",
       "      <td>학예연구부</td>\n",
       "      <td>교육대외협력과</td>\n",
       "      <td></td>\n",
       "      <td>2022</td>\n",
       "      <td>5</td>\n",
       "      <td>0</td>\n",
       "      <td>0</td>\n",
       "      <td></td>\n",
       "      <td>서울역사박물관 교육대외협력과</td>\n",
       "      <td>2022-05-10 15:29</td>\n",
       "      <td>홈플러스 익스프레스 광화문점 (서울시 종로구 새문안로 91)</td>\n",
       "      <td>교육대외협력과 부서운영물품 구매비</td>\n",
       "      <td>교육대외협력과장 등 7명</td>\n",
       "      <td>카드</td>\n",
       "      <td>175000</td>\n",
       "    </tr>\n",
       "    <tr>\n",
       "      <th>19353</th>\n",
       "      <td>25938308</td>\n",
       "      <td>2022년 5월 사업소 서울역사박물관 학예연구부 보존과학과 업무추진비 - 부서운영</td>\n",
       "      <td>http://opengov.seoul.go.kr/expense/25938308</td>\n",
       "      <td>사업소</td>\n",
       "      <td>서울역사박물관</td>\n",
       "      <td>학예연구부</td>\n",
       "      <td>보존과학과</td>\n",
       "      <td></td>\n",
       "      <td>2022</td>\n",
       "      <td>5</td>\n",
       "      <td>0</td>\n",
       "      <td>0</td>\n",
       "      <td></td>\n",
       "      <td>서울역사박물관 학예연구부 보존과학과</td>\n",
       "      <td>2022-05-09 13:34</td>\n",
       "      <td>홈플러스 광화문점 (종로구 새문안로 91)</td>\n",
       "      <td>부서운영에 필요한 물품 (커피 및 음료수 등) 구매</td>\n",
       "      <td>보존과학과장 등 6명</td>\n",
       "      <td>카드</td>\n",
       "      <td>175000</td>\n",
       "    </tr>\n",
       "  </tbody>\n",
       "</table>\n",
       "<p>19354 rows × 20 columns</p>\n",
       "</div>"
      ],
      "text/plain": [
       "            nid                                              title  \\\n",
       "0      25844143  2022년 2월 사업소 도로사업소 서부도로사업소 업무추진비 - 기관운영 시책추진 부서운영   \n",
       "1      25844143  2022년 2월 사업소 도로사업소 서부도로사업소 업무추진비 - 기관운영 시책추진 부서운영   \n",
       "2      25844143  2022년 2월 사업소 도로사업소 서부도로사업소 업무추진비 - 기관운영 시책추진 부서운영   \n",
       "3      25844143  2022년 2월 사업소 도로사업소 서부도로사업소 업무추진비 - 기관운영 시책추진 부서운영   \n",
       "4      25844143  2022년 2월 사업소 도로사업소 서부도로사업소 업무추진비 - 기관운영 시책추진 부서운영   \n",
       "...         ...                                                ...   \n",
       "19349  26047684            2022년 5월 사업소 중부공원녹지사업소 시설과 업무추진비 - 부서운영   \n",
       "19350  25993976      2022년 5월 사업소 서울역사박물관 학예연구부 유물관리과 업무추진비 - 부서운영   \n",
       "19351  25974709       2022년 5월 사업소 도시기반시설본부 시설국 안전관리과 업무추진비 - 부서운영   \n",
       "19352  25947326    2022년 5월 사업소 서울역사박물관 학예연구부 교육대외협력과 업무추진비 - 부서운영   \n",
       "19353  25938308      2022년 5월 사업소 서울역사박물관 학예연구부 보존과학과 업무추진비 - 부서운영   \n",
       "\n",
       "                                               url dept_nm_lvl_1  \\\n",
       "0      http://opengov.seoul.go.kr/expense/25844143           사업소   \n",
       "1      http://opengov.seoul.go.kr/expense/25844143           사업소   \n",
       "2      http://opengov.seoul.go.kr/expense/25844143           사업소   \n",
       "3      http://opengov.seoul.go.kr/expense/25844143           사업소   \n",
       "4      http://opengov.seoul.go.kr/expense/25844143           사업소   \n",
       "...                                            ...           ...   \n",
       "19349  http://opengov.seoul.go.kr/expense/26047684           사업소   \n",
       "19350  http://opengov.seoul.go.kr/expense/25993976           사업소   \n",
       "19351  http://opengov.seoul.go.kr/expense/25974709           사업소   \n",
       "19352  http://opengov.seoul.go.kr/expense/25947326           사업소   \n",
       "19353  http://opengov.seoul.go.kr/expense/25938308           사업소   \n",
       "\n",
       "      dept_nm_lvl_2 dept_nm_lvl_3 dept_nm_lvl_4 dept_nm_lvl_5  exec_yr  \\\n",
       "0             도로사업소       서부도로사업소                                 2022   \n",
       "1             도로사업소       서부도로사업소                                 2022   \n",
       "2             도로사업소       서부도로사업소                                 2022   \n",
       "3             도로사업소       서부도로사업소                                 2022   \n",
       "4             도로사업소       서부도로사업소                                 2022   \n",
       "...             ...           ...           ...           ...      ...   \n",
       "19349     중부공원녹지사업소           시설과                                 2022   \n",
       "19350       서울역사박물관         학예연구부         유물관리과                   2022   \n",
       "19351      도시기반시설본부           시설국         안전관리과                   2022   \n",
       "19352       서울역사박물관         학예연구부       교육대외협력과                   2022   \n",
       "19353       서울역사박물관         학예연구부         보존과학과                   2022   \n",
       "\n",
       "       exec_month  expense_budget  expense_execution category  \\\n",
       "0               2               0                  0            \n",
       "1               2               0                  0            \n",
       "2               2               0                  0            \n",
       "3               2               0                  0            \n",
       "4               2               0                  0            \n",
       "...           ...             ...                ...      ...   \n",
       "19349           5               0                  0            \n",
       "19350           5               0                  0            \n",
       "19351           5               0                  0            \n",
       "19352           5               0                  0            \n",
       "19353           5               0                  0            \n",
       "\n",
       "              dept_nm_full           exec_dt  \\\n",
       "0              서부도로사업소 기전과  2022-02-11 14:52   \n",
       "1            서부도로사업소 시설보수과  2022-02-14 09:58   \n",
       "2            서부도로사업소 도로보수과  2022-02-22 14:53   \n",
       "3            서부도로사업소 도로보수과  2022-02-21 14:33   \n",
       "4                  서부도로사업소  2022-02-28 12:21   \n",
       "...                    ...               ...   \n",
       "19349                  시설과  2022-05-25 11:00   \n",
       "19350                유물관리과  2022-05-17 15:41   \n",
       "19351       도시기반시설본부 안전관리과  2022-05-12 12:30   \n",
       "19352      서울역사박물관 교육대외협력과  2022-05-10 15:29   \n",
       "19353  서울역사박물관 학예연구부 보존과학과  2022-05-09 13:34   \n",
       "\n",
       "                                exec_loc                  exec_purpose  \\\n",
       "0                     다농마트(마포구 월드컵로 235)                     부서운영 물품구입   \n",
       "1                         다농마트(마포구 월드컵로)                부서운영물품 구입(공무직)   \n",
       "2                         다농마트(마포구 월드컵로)                 도로보수과 직원 물품구매   \n",
       "3                      에이스문구센터(서대문구 연희로)                 도로보수과 직원 물품구매   \n",
       "4                  시골보쌈&감자옹심이(마포구 월드컵북로)             과적단속 현장근무자 격려 간담회   \n",
       "...                                  ...                           ...   \n",
       "19349                 ㈜그린주의(중량구 봉화산로123)     부서운영 및 민원접대 물품구입(커피 및 다과)   \n",
       "19350               광화문홈플러스(종로구 새문안로 91)         부서운영에 필요한 물품구입(차종류 등)   \n",
       "19351                               손가명가          안전관리방안 모색을 위한 간담회 개최   \n",
       "19352  홈플러스 익스프레스 광화문점 (서울시 종로구 새문안로 91)            교육대외협력과 부서운영물품 구매비   \n",
       "19353            홈플러스 광화문점 (종로구 새문안로 91)  부서운영에 필요한 물품 (커피 및 음료수 등) 구매   \n",
       "\n",
       "             target_nm payment_method  exec_amount  \n",
       "0           기전과장 외 48명           제로페이       230630  \n",
       "1             김민철 등 3명             카드       120600  \n",
       "2              윤옥광외 9명           제로페이       112350  \n",
       "3              윤옥광외 9명           제로페이        12120  \n",
       "4             김영철 등 5명           제로페이        68000  \n",
       "...                ...            ...          ...  \n",
       "19349        시설과장외 14명             카드       355600  \n",
       "19350  유물관리과장 강성희 등 9명             카드       175000  \n",
       "19351      안전관리과장 외 8명           제로페이       250000  \n",
       "19352    교육대외협력과장 등 7명             카드       175000  \n",
       "19353      보존과학과장 등 6명             카드       175000  \n",
       "\n",
       "[19354 rows x 20 columns]"
      ]
     },
     "execution_count": 33,
     "metadata": {},
     "output_type": "execute_result"
    }
   ],
   "source": [
    "pl.path_load('../../csv/2022/', 'json')"
   ]
  }
 ],
 "metadata": {
  "kernelspec": {
   "display_name": "Python 3",
   "language": "python",
   "name": "python3"
  },
  "language_info": {
   "codemirror_mode": {
    "name": "ipython",
    "version": 3
   },
   "file_extension": ".py",
   "mimetype": "text/x-python",
   "name": "python",
   "nbconvert_exporter": "python",
   "pygments_lexer": "ipython3",
   "version": "3.11.1"
  },
  "orig_nbformat": 4
 },
 "nbformat": 4,
 "nbformat_minor": 2
}
