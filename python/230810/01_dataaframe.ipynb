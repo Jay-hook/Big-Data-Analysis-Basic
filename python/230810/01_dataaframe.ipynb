{
 "cells": [
  {
   "cell_type": "code",
   "execution_count": null,
   "metadata": {},
   "outputs": [],
   "source": [
    "import pandas as pd"
   ]
  },
  {
   "cell_type": "markdown",
   "metadata": {},
   "source": [
    "### 데이터프레임의 결합\n",
    "1. 단순한 행, 열 결합 (유니언 결합)\n",
    "    - concat([데이터프레임, ..])\n",
    "        - 데이터프레임을 결합하는 함수\n",
    "        - 매개변수 axis -> 행을 추가할것인가 열을 추가할것인지 지정\n",
    "        - 단순하게 행이나 열을 결합\n",
    "        - ignore_index -> 기본값 False, 인덱스를 재지정 할것인가\n",
    "2. 특정한 조건에 맞춰서 열 결합 (조인 결합)\n",
    "    - merge(데이터프레임명1, 데이터프레임명2)\n",
    "        - 데이터프레임을 결합하는 함수\n",
    "        - 특정한 조건에 맞춰서 결합 (SQL에서 JOIN과 같은 역할)\n",
    "        - 매개변수 on -> 특정한 조건\n",
    "        - 매개변수 how -> 데이터프레임 기준점(left, right, inner, outer)"
   ]
  },
  {
   "cell_type": "code",
   "execution_count": null,
   "metadata": {},
   "outputs": [],
   "source": [
    "# 단순한 데이터프레임의 결합\n",
    "df = pd.DataFrame(\n",
    "    {\n",
    "        'S1' : [1,2,3,4], \n",
    "        'S2' : [5,6,7,8]\n",
    "    }\n",
    ")"
   ]
  },
  {
   "cell_type": "code",
   "execution_count": null,
   "metadata": {},
   "outputs": [],
   "source": [
    "df2 = pd.DataFrame([1,2])"
   ]
  },
  {
   "cell_type": "code",
   "execution_count": null,
   "metadata": {},
   "outputs": [],
   "source": [
    "df"
   ]
  },
  {
   "cell_type": "code",
   "execution_count": null,
   "metadata": {},
   "outputs": [],
   "source": [
    "df2"
   ]
  },
  {
   "cell_type": "code",
   "execution_count": null,
   "metadata": {},
   "outputs": [],
   "source": [
    "# 단순하게 행을 추가하는 함수\n",
    "pd.concat([df, df2], axis=0, ignore_index=True)"
   ]
  },
  {
   "cell_type": "code",
   "execution_count": null,
   "metadata": {},
   "outputs": [],
   "source": [
    "df3 = pd.DataFrame([1,2], columns=['S1'])\n",
    "df3"
   ]
  },
  {
   "cell_type": "code",
   "execution_count": null,
   "metadata": {},
   "outputs": [],
   "source": [
    "pd.concat([df, df3], axis=0).reset_index(drop=True)"
   ]
  },
  {
   "cell_type": "code",
   "execution_count": null,
   "metadata": {},
   "outputs": [],
   "source": [
    "# 단순하게 열을 추가\n",
    "pd.concat([df, df2], axis=1)"
   ]
  },
  {
   "cell_type": "code",
   "execution_count": null,
   "metadata": {},
   "outputs": [],
   "source": [
    "df3.index = [6, 7]\n",
    "df3"
   ]
  },
  {
   "cell_type": "code",
   "execution_count": null,
   "metadata": {},
   "outputs": [],
   "source": [
    "pd.concat([df, df3], axis='columns', ignore_index=True)"
   ]
  },
  {
   "cell_type": "code",
   "execution_count": null,
   "metadata": {},
   "outputs": [],
   "source": [
    "data = [\n",
    "    ['전기전자', '005930', '삼성전자', 74400], \n",
    "    ['화학', '051910', 'LG화학', 896000], \n",
    "    ['전기전자', '000660', 'SK하이닉스', 101500]\n",
    "]\n",
    "col = ['업종', '종목코드', '종목명', '현재가']\n",
    "\n",
    "df = pd.DataFrame(data, columns=col)\n",
    "df"
   ]
  },
  {
   "cell_type": "code",
   "execution_count": null,
   "metadata": {},
   "outputs": [],
   "source": [
    "data = [\n",
    "    ['은행', 2.92], \n",
    "    ['보험', 0.37], \n",
    "    ['화학', 0.06], \n",
    "    ['전기전자', -2.43]\n",
    "]\n",
    "col = ['업종', '등락률']\n",
    "df2 = pd.DataFrame(data, columns=col)\n",
    "df2"
   ]
  },
  {
   "cell_type": "code",
   "execution_count": null,
   "metadata": {},
   "outputs": [],
   "source": [
    "# 특정한 조건에 맞춰서 열을 추가하는 결합\n",
    "pd.merge(df, df2, on = '업종', how='inner')"
   ]
  },
  {
   "cell_type": "code",
   "execution_count": null,
   "metadata": {},
   "outputs": [],
   "source": [
    "df3 = pd.DataFrame(\n",
    "    {\n",
    "        '업종' : ['서비스업'], \n",
    "        '종목코드' : ['035720'], \n",
    "        '종목명' : ['카카오'], \n",
    "        '현재가' : [121500]\n",
    "    }\n",
    ")\n",
    "df3"
   ]
  },
  {
   "cell_type": "code",
   "execution_count": null,
   "metadata": {},
   "outputs": [],
   "source": [
    "# df, df3 같은 테이블의 구조 \n",
    "# 두개의 데이터프레임을 결합하려면 concat()\n",
    "df4 = pd.concat([df, df3], axis=0, ignore_index=True)\n",
    "df4"
   ]
  },
  {
   "cell_type": "code",
   "execution_count": null,
   "metadata": {},
   "outputs": [],
   "source": [
    "# 왼쪽의 데이터프레임을 기준으로 조인 결합\n",
    "pd.merge(df4, df2, on='업종', how='left')"
   ]
  },
  {
   "cell_type": "code",
   "execution_count": null,
   "metadata": {},
   "outputs": [],
   "source": [
    "# 오른쪽의 데이터프레임을 기준으로 조인 결합\n",
    "pd.merge(df4, df2, on='업종', how='right')"
   ]
  },
  {
   "cell_type": "code",
   "execution_count": null,
   "metadata": {},
   "outputs": [],
   "source": [
    "# 두개의 데이터프레임의 교집합\n",
    "pd.merge(df4, df2, on='업종', how='inner')"
   ]
  },
  {
   "cell_type": "code",
   "execution_count": null,
   "metadata": {},
   "outputs": [],
   "source": [
    "# 두개의 데이터프레임의 합집합\n",
    "pd.merge(df4, df2, on='업종', how='outer')"
   ]
  }
 ],
 "metadata": {
  "kernelspec": {
   "display_name": "Python 3",
   "language": "python",
   "name": "python3"
  },
  "language_info": {
   "codemirror_mode": {
    "name": "ipython",
    "version": 3
   },
   "file_extension": ".py",
   "mimetype": "text/x-python",
   "name": "python",
   "nbconvert_exporter": "python",
   "pygments_lexer": "ipython3",
   "version": "3.11.1"
  },
  "orig_nbformat": 4
 },
 "nbformat": 4,
 "nbformat_minor": 2
}
