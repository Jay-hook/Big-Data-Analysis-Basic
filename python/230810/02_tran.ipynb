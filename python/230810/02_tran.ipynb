{
 "cells": [
  {
   "cell_type": "code",
   "execution_count": null,
   "metadata": {},
   "outputs": [],
   "source": [
    "import pandas as pd"
   ]
  },
  {
   "cell_type": "markdown",
   "metadata": {},
   "source": [
    "### 예제 문제 \n",
    "1. csv 폴더 안에 있는 tran_1, tran_2 파일 로드 \n",
    "2. 두개의 데이터프레임을 단순하게 행을 추가하는 결합\n",
    "3. csv 폴더 안에 있는 tran_d_1, tran_d_2 파일 로드 \n",
    "4. 두개의 데이터프레임을 단순하게 행을 추가하는 결합 \n",
    "5. 2번 과정에서 나온 데이터프레임과 4번 과정에서 나온 데이터프레임을 특정한 조건에 맞춰서 열을 결합 기준은 2번 데이터프레임을 기준으로 결합"
   ]
  },
  {
   "cell_type": "code",
   "execution_count": null,
   "metadata": {},
   "outputs": [],
   "source": [
    "# tran_1, tran_2 로드해서 유니언 결합\n",
    "tran_1 = pd.read_csv(\"../../csv/tran_1.csv\")\n",
    "tran_2 = pd.read_csv(\"../../csv/tran_2.csv\")\n",
    "print(tran_1.head(1))\n",
    "print(tran_2.head(1))"
   ]
  },
  {
   "cell_type": "code",
   "execution_count": null,
   "metadata": {},
   "outputs": [],
   "source": [
    "tran = pd.concat([tran_1, tran_2], axis=0, ignore_index=True)"
   ]
  },
  {
   "cell_type": "code",
   "execution_count": null,
   "metadata": {},
   "outputs": [],
   "source": [
    "tran_d_1 = pd.read_csv('../../csv/tran_d_1.csv')\n",
    "tran_d_2 = pd.read_csv('../../csv/tran_d_2.csv')\n",
    "print(tran_d_1.head(1))\n",
    "print(tran_d_2.head(1))"
   ]
  },
  {
   "cell_type": "code",
   "execution_count": null,
   "metadata": {},
   "outputs": [],
   "source": [
    "tran_d = pd.concat([tran_d_1, tran_d_2], axis=0, ignore_index=True)"
   ]
  },
  {
   "cell_type": "code",
   "execution_count": null,
   "metadata": {},
   "outputs": [],
   "source": [
    "print(tran.head(1))\n",
    "print(tran_d.head(1))"
   ]
  },
  {
   "cell_type": "code",
   "execution_count": null,
   "metadata": {},
   "outputs": [],
   "source": [
    "# tran, tran_d 두개의 데이터프레임을 조인결합 \n",
    "tran = pd.merge(tran, tran_d, on = 'transaction_id', how = 'inner')"
   ]
  },
  {
   "cell_type": "code",
   "execution_count": null,
   "metadata": {},
   "outputs": [],
   "source": [
    "tran_d['transaction_id'].value_counts()"
   ]
  },
  {
   "cell_type": "markdown",
   "metadata": {},
   "source": [
    "1. csv폴더에서 customer_master, item_master 파일 로드 \n",
    "2. 4개의 데이터프레임이 결합되어 있는 tran 데이터프레임에 조인 결합"
   ]
  },
  {
   "cell_type": "code",
   "execution_count": null,
   "metadata": {},
   "outputs": [],
   "source": [
    "customer = pd.read_csv(\"../../csv/customer_master.csv\")\n",
    "customer.head(1)"
   ]
  },
  {
   "cell_type": "code",
   "execution_count": null,
   "metadata": {},
   "outputs": [],
   "source": [
    "tran.head(1)"
   ]
  },
  {
   "cell_type": "code",
   "execution_count": null,
   "metadata": {},
   "outputs": [],
   "source": [
    "tran = pd.merge(tran, customer, on='customer_id', how='left')"
   ]
  },
  {
   "cell_type": "code",
   "execution_count": null,
   "metadata": {},
   "outputs": [],
   "source": [
    "item = pd.read_csv('../../csv/item_master.csv')\n",
    "item.head(1)"
   ]
  },
  {
   "cell_type": "code",
   "execution_count": null,
   "metadata": {},
   "outputs": [],
   "source": [
    "tran.head(1)"
   ]
  },
  {
   "cell_type": "code",
   "execution_count": null,
   "metadata": {},
   "outputs": [],
   "source": [
    "df = pd.merge(tran, item, on='item_id', how='left')"
   ]
  },
  {
   "cell_type": "code",
   "execution_count": null,
   "metadata": {},
   "outputs": [],
   "source": [
    "df.info()"
   ]
  },
  {
   "cell_type": "code",
   "execution_count": null,
   "metadata": {},
   "outputs": [],
   "source": [
    "df[['price', 'quantity', 'item_price']]"
   ]
  },
  {
   "cell_type": "markdown",
   "metadata": {},
   "source": [
    "1. 거래금액이 가장 큰 데이터는 무엇인가?\n",
    "2. 거래가 가장 많이 된 물품의 상위 1개를 출력"
   ]
  },
  {
   "cell_type": "code",
   "execution_count": null,
   "metadata": {},
   "outputs": [],
   "source": [
    "df['price'].max()"
   ]
  },
  {
   "cell_type": "code",
   "execution_count": null,
   "metadata": {},
   "outputs": [],
   "source": [
    "# price를 기준으로 내림차순 -> 상위 5개 \n",
    "df.sort_values('price', ascending=False).head(5)"
   ]
  },
  {
   "cell_type": "code",
   "execution_count": null,
   "metadata": {},
   "outputs": [],
   "source": [
    "## 거래가 가장 많이 된 물품을 확인 \n",
    "# 1. 아이템을 기준으로 그룹화 -> quantity의 합계\n",
    "group_data = df[['item_id', 'quantity']].groupby('item_id').sum()\n",
    "# group_data에서 quantity를 기준으로 내림차순 정렬 -> 상위 3개\n",
    "group_data.sort_values('quantity', ascending=False).head(3)"
   ]
  },
  {
   "cell_type": "code",
   "execution_count": null,
   "metadata": {},
   "outputs": [],
   "source": [
    "df2 = df.drop('price', axis=1)"
   ]
  },
  {
   "cell_type": "markdown",
   "metadata": {},
   "source": [
    "1. df2에서 total_price를 생성\n",
    "2. total_price는 tracsaction_id를 기준으로 거래 금액의 합계\n",
    "3. price -> item_price * quantity 파생변수 생성\n",
    "4. transaction_id를 기준으로 그룹화 price의 합계\n",
    "5. 그룹화 데이터의 컬럼의 이름을 total_price 변경\n",
    "6. 그룹화한 데이터의 price를 df2 조인결합을 이용해서 열 결합"
   ]
  },
  {
   "cell_type": "code",
   "execution_count": null,
   "metadata": {},
   "outputs": [],
   "source": [
    "df2['price'] = df2['item_price'] * df2['quantity']"
   ]
  },
  {
   "cell_type": "code",
   "execution_count": null,
   "metadata": {},
   "outputs": [],
   "source": [
    "# df2[['transaction_id', 'price']].groupby('transaction_id').sum()\n",
    "group_data = df2.groupby('transaction_id').sum()[['price']]"
   ]
  },
  {
   "cell_type": "code",
   "execution_count": null,
   "metadata": {},
   "outputs": [],
   "source": [
    "# group_data의 컬럼의 이름을 total_price 변경\n",
    "group_data.columns = ['total_price']\n",
    "group_data.head(1)"
   ]
  },
  {
   "cell_type": "code",
   "execution_count": null,
   "metadata": {},
   "outputs": [],
   "source": [
    "group_data.reset_index(inplace=True)"
   ]
  },
  {
   "cell_type": "code",
   "execution_count": null,
   "metadata": {},
   "outputs": [],
   "source": [
    "df2 = pd.merge(df2, \n",
    "         group_data, \n",
    "         on = 'transaction_id',\n",
    "         how='left')"
   ]
  },
  {
   "cell_type": "code",
   "execution_count": null,
   "metadata": {},
   "outputs": [],
   "source": [
    "df.head(10)"
   ]
  },
  {
   "cell_type": "code",
   "execution_count": null,
   "metadata": {},
   "outputs": [],
   "source": [
    "df2.head(10)"
   ]
  },
  {
   "cell_type": "code",
   "execution_count": null,
   "metadata": {},
   "outputs": [],
   "source": [
    "(df['price'] == df2['total_price']).value_counts()"
   ]
  },
  {
   "cell_type": "code",
   "execution_count": 62,
   "metadata": {},
   "outputs": [
    {
     "data": {
      "text/html": [
       "<div>\n",
       "<style scoped>\n",
       "    .dataframe tbody tr th:only-of-type {\n",
       "        vertical-align: middle;\n",
       "    }\n",
       "\n",
       "    .dataframe tbody tr th {\n",
       "        vertical-align: top;\n",
       "    }\n",
       "\n",
       "    .dataframe thead th {\n",
       "        text-align: right;\n",
       "    }\n",
       "</style>\n",
       "<table border=\"1\" class=\"dataframe\">\n",
       "  <thead>\n",
       "    <tr style=\"text-align: right;\">\n",
       "      <th></th>\n",
       "      <th>transaction_id</th>\n",
       "      <th>price</th>\n",
       "      <th>payment_date</th>\n",
       "      <th>customer_id</th>\n",
       "      <th>detail_id</th>\n",
       "      <th>item_id</th>\n",
       "      <th>quantity</th>\n",
       "      <th>name</th>\n",
       "      <th>class</th>\n",
       "      <th>gender</th>\n",
       "      <th>start_date</th>\n",
       "      <th>end_date</th>\n",
       "      <th>campaign_id</th>\n",
       "      <th>is_deleted</th>\n",
       "      <th>item_name</th>\n",
       "      <th>item_price</th>\n",
       "    </tr>\n",
       "  </thead>\n",
       "  <tbody>\n",
       "    <tr>\n",
       "      <th>7139</th>\n",
       "      <td>T0000006894</td>\n",
       "      <td>180000</td>\n",
       "      <td>2019-07-31 21:20:44</td>\n",
       "      <td>HI400734</td>\n",
       "      <td>7139</td>\n",
       "      <td>S004</td>\n",
       "      <td>1</td>\n",
       "      <td>NaN</td>\n",
       "      <td>NaN</td>\n",
       "      <td>NaN</td>\n",
       "      <td>NaN</td>\n",
       "      <td>NaN</td>\n",
       "      <td>NaN</td>\n",
       "      <td>NaN</td>\n",
       "      <td>PC-D</td>\n",
       "      <td>180000</td>\n",
       "    </tr>\n",
       "    <tr>\n",
       "      <th>7140</th>\n",
       "      <td>T0000006895</td>\n",
       "      <td>85000</td>\n",
       "      <td>2019-07-31 21:52:48</td>\n",
       "      <td>AS339451</td>\n",
       "      <td>7140</td>\n",
       "      <td>S002</td>\n",
       "      <td>1</td>\n",
       "      <td>XXXXX</td>\n",
       "      <td>C01</td>\n",
       "      <td>M</td>\n",
       "      <td>2016-07-01 00:00:00</td>\n",
       "      <td>NaN</td>\n",
       "      <td>CA2</td>\n",
       "      <td>0.0</td>\n",
       "      <td>PC-B</td>\n",
       "      <td>85000</td>\n",
       "    </tr>\n",
       "    <tr>\n",
       "      <th>7141</th>\n",
       "      <td>T0000006896</td>\n",
       "      <td>100000</td>\n",
       "      <td>2019-07-31 23:35:25</td>\n",
       "      <td>OA027325</td>\n",
       "      <td>7141</td>\n",
       "      <td>S001</td>\n",
       "      <td>2</td>\n",
       "      <td>XX</td>\n",
       "      <td>C03</td>\n",
       "      <td>F</td>\n",
       "      <td>2018-12-02 00:00:00</td>\n",
       "      <td>NaN</td>\n",
       "      <td>CA3</td>\n",
       "      <td>0.0</td>\n",
       "      <td>PC-A</td>\n",
       "      <td>50000</td>\n",
       "    </tr>\n",
       "    <tr>\n",
       "      <th>7142</th>\n",
       "      <td>T0000006897</td>\n",
       "      <td>85000</td>\n",
       "      <td>2019-07-31 23:39:35</td>\n",
       "      <td>TS624738</td>\n",
       "      <td>7142</td>\n",
       "      <td>S002</td>\n",
       "      <td>1</td>\n",
       "      <td>NaN</td>\n",
       "      <td>NaN</td>\n",
       "      <td>NaN</td>\n",
       "      <td>NaN</td>\n",
       "      <td>NaN</td>\n",
       "      <td>NaN</td>\n",
       "      <td>NaN</td>\n",
       "      <td>PC-B</td>\n",
       "      <td>85000</td>\n",
       "    </tr>\n",
       "    <tr>\n",
       "      <th>7143</th>\n",
       "      <td>T0000006898</td>\n",
       "      <td>85000</td>\n",
       "      <td>2019-07-31 23:41:38</td>\n",
       "      <td>AS834214</td>\n",
       "      <td>7143</td>\n",
       "      <td>S002</td>\n",
       "      <td>1</td>\n",
       "      <td>XXXXX</td>\n",
       "      <td>C01</td>\n",
       "      <td>M</td>\n",
       "      <td>2017-05-01 00:00:00</td>\n",
       "      <td>2018-05-31 00:00:00</td>\n",
       "      <td>CA1</td>\n",
       "      <td>1.0</td>\n",
       "      <td>PC-B</td>\n",
       "      <td>85000</td>\n",
       "    </tr>\n",
       "  </tbody>\n",
       "</table>\n",
       "</div>"
      ],
      "text/plain": [
       "     transaction_id   price         payment_date customer_id  detail_id  \\\n",
       "7139    T0000006894  180000  2019-07-31 21:20:44    HI400734       7139   \n",
       "7140    T0000006895   85000  2019-07-31 21:52:48    AS339451       7140   \n",
       "7141    T0000006896  100000  2019-07-31 23:35:25    OA027325       7141   \n",
       "7142    T0000006897   85000  2019-07-31 23:39:35    TS624738       7142   \n",
       "7143    T0000006898   85000  2019-07-31 23:41:38    AS834214       7143   \n",
       "\n",
       "     item_id  quantity   name class gender           start_date  \\\n",
       "7139    S004         1    NaN   NaN    NaN                  NaN   \n",
       "7140    S002         1  XXXXX   C01      M  2016-07-01 00:00:00   \n",
       "7141    S001         2     XX   C03      F  2018-12-02 00:00:00   \n",
       "7142    S002         1    NaN   NaN    NaN                  NaN   \n",
       "7143    S002         1  XXXXX   C01      M  2017-05-01 00:00:00   \n",
       "\n",
       "                 end_date campaign_id  is_deleted item_name  item_price  \n",
       "7139                  NaN         NaN         NaN      PC-D      180000  \n",
       "7140                  NaN         CA2         0.0      PC-B       85000  \n",
       "7141                  NaN         CA3         0.0      PC-A       50000  \n",
       "7142                  NaN         NaN         NaN      PC-B       85000  \n",
       "7143  2018-05-31 00:00:00         CA1         1.0      PC-B       85000  "
      ]
     },
     "execution_count": 62,
     "metadata": {},
     "output_type": "execute_result"
    }
   ],
   "source": [
    "df.tail(5)"
   ]
  },
  {
   "cell_type": "markdown",
   "metadata": {},
   "source": [
    "1. payment_date컬럼의 데이터의 타입을 시계열로 변경\n",
    "2. gender컬럼의 데이터를 M -> 남자, F -> 여자 로 데이터를 변경\n",
    "3. 시계열에서 데이터에서 년도-월 따로 추출해서 payment_month 생성"
   ]
  },
  {
   "cell_type": "code",
   "execution_count": 64,
   "metadata": {},
   "outputs": [],
   "source": [
    "# 시계열로 데이터의 타입을 변경 \n",
    "df['payment_date'] = \\\n",
    "     pd.to_datetime(df['payment_date'], format= \"%Y-%m-%d %H:%M:%S\")"
   ]
  },
  {
   "cell_type": "code",
   "execution_count": null,
   "metadata": {},
   "outputs": [],
   "source": [
    "df.info()"
   ]
  },
  {
   "cell_type": "code",
   "execution_count": 71,
   "metadata": {},
   "outputs": [],
   "source": [
    "for_df = df.copy()"
   ]
  },
  {
   "cell_type": "code",
   "execution_count": 73,
   "metadata": {},
   "outputs": [
    {
     "data": {
      "text/plain": [
       "남자     3268\n",
       "여자     2801\n",
       "무응답    1075\n",
       "Name: gender, dtype: int64"
      ]
     },
     "execution_count": 73,
     "metadata": {},
     "output_type": "execute_result"
    }
   ],
   "source": [
    "# 성별의 데이터가 존재하지 않으면 무응답 \n",
    "# F -> 여자, M -> 남자\n",
    "\n",
    "\n",
    "# case1(조건문 사용)\n",
    "for_df['gender']\n",
    "\n",
    "# for문 이용해서 인덱스만큼 반복 \n",
    "for i in for_df.index:\n",
    "    # gender항목들은 하나씩 출력 \n",
    "    # print(df.loc[i, 'gender'])\n",
    "    gender = for_df.loc[i, 'gender']\n",
    "    if gender == \"M\":\n",
    "        result = '남자'\n",
    "    elif gender == \"F\":\n",
    "        result = '여자'\n",
    "    else:\n",
    "        result = '무응답'\n",
    "    \n",
    "    for_df.loc[i, 'gender'] = result\n",
    "\n",
    "for_df['gender'].value_counts()\n"
   ]
  },
  {
   "cell_type": "code",
   "execution_count": 78,
   "metadata": {},
   "outputs": [],
   "source": [
    "apply_df = df.copy()"
   ]
  },
  {
   "cell_type": "code",
   "execution_count": 79,
   "metadata": {},
   "outputs": [
    {
     "data": {
      "text/plain": [
       "남자     3268\n",
       "여자     2801\n",
       "무응답    1075\n",
       "Name: gender, dtype: int64"
      ]
     },
     "execution_count": 79,
     "metadata": {},
     "output_type": "execute_result"
    }
   ],
   "source": [
    "# case2 (apply + 일반함수)\n",
    "def change(x):\n",
    "    if x == 'M':\n",
    "        result = '남자'\n",
    "    elif x == 'F':\n",
    "        result = '여자'\n",
    "    else:\n",
    "        result = '무응답'\n",
    "    \n",
    "    return result\n",
    "\n",
    "apply_df['gender'] = apply_df['gender'].apply(change)\n",
    "\n",
    "apply_df['gender'].value_counts()"
   ]
  },
  {
   "cell_type": "code",
   "execution_count": 80,
   "metadata": {},
   "outputs": [],
   "source": [
    "lambda_df = df.copy()"
   ]
  },
  {
   "cell_type": "code",
   "execution_count": 82,
   "metadata": {},
   "outputs": [
    {
     "data": {
      "text/plain": [
       "남자     3268\n",
       "여자     2801\n",
       "무응답    1075\n",
       "Name: gender, dtype: int64"
      ]
     },
     "execution_count": 82,
     "metadata": {},
     "output_type": "execute_result"
    }
   ],
   "source": [
    "# case3 (apply + lambda)\n",
    "\n",
    "lambda_df['gender'] = lambda_df['gender'].apply(\n",
    "    lambda x : \\\n",
    "        \"남자\" if (x == \"M\") else \\\n",
    "        (\"여자\" if (x == \"F\") else \"무응답\") \n",
    ")\n",
    "\n",
    "lambda_df['gender'].value_counts()"
   ]
  },
  {
   "cell_type": "code",
   "execution_count": 83,
   "metadata": {},
   "outputs": [],
   "source": [
    "loc_df = df.copy()"
   ]
  },
  {
   "cell_type": "code",
   "execution_count": 87,
   "metadata": {},
   "outputs": [
    {
     "data": {
      "text/plain": [
       "남자     3268\n",
       "여자     2801\n",
       "무응답    1075\n",
       "Name: gender, dtype: int64"
      ]
     },
     "execution_count": 87,
     "metadata": {},
     "output_type": "execute_result"
    }
   ],
   "source": [
    "# case4 (loc를 이용)\n",
    "\n",
    "# gender가 M인 인덱스를 조건으로 gender라는 컬럼을 선택해서 해당하는 값들을 변경\n",
    "loc_df.loc[loc_df['gender'] == \"M\", 'gender'] = '남자'\n",
    "# gender가 F인 인덱스를 조건으로 gender라는 컬럼을 선택해서 해당하는 값들을 변경\n",
    "loc_df.loc[loc_df['gender'] == 'F', 'gender'] = '여자'\n",
    "# gender가 결측치인 인덱스를 조건으로 gender라는 컬럼을 선택해서 해당하는 값들을 변경\n",
    "loc_df.loc[loc_df['gender'].isna(), 'gender'] = '무응답'\n",
    "\n",
    "loc_df['gender'].value_counts()"
   ]
  },
  {
   "cell_type": "code",
   "execution_count": 88,
   "metadata": {},
   "outputs": [],
   "source": [
    "df2 = loc_df.copy()"
   ]
  },
  {
   "cell_type": "code",
   "execution_count": 100,
   "metadata": {},
   "outputs": [],
   "source": [
    "# payment_month 파생변수 생성\n",
    "# payment_date에 있는 시계열 데이터에서 년도-월 추출해서 대입\n",
    "df2['payment_month'] = df2['payment_date'].dt.strftime(\"%m/%Y\")"
   ]
  },
  {
   "cell_type": "code",
   "execution_count": 94,
   "metadata": {},
   "outputs": [
    {
     "name": "stdout",
     "output_type": "stream",
     "text": [
      "2023-8-\n",
      "2023-8\n"
     ]
    }
   ],
   "source": [
    "a = \"2023-8-10 15:12:00\"\n",
    "# \"2023-08\" 부분만 출력하려면?\n",
    "print(a[:7])\n",
    "# split() : 특정한 문자열을 가지고 문자열데이터를 잘라준다.\n",
    "print(a.split('-')[0] +\"-\"+a.split('-')[1])"
   ]
  },
  {
   "cell_type": "code",
   "execution_count": null,
   "metadata": {},
   "outputs": [],
   "source": [
    "df2.info()"
   ]
  },
  {
   "cell_type": "code",
   "execution_count": 107,
   "metadata": {},
   "outputs": [],
   "source": [
    "# 1. df2의 transaction_id를 기준으로 그룹화 price, payment_month의 최소값으로 되어있는 데이터프레임을 생성\n",
    "group_data = \\\n",
    "df2[['transaction_id', 'price', 'payment_month']].groupby('transaction_id').min()\n",
    "# 2. 1번 작업에서 만들어진 데이터프레임에서 월별 price의 평균과 합계를 출력\n",
    "month_data = group_data.groupby('payment_month').agg(['mean', 'sum'])"
   ]
  },
  {
   "cell_type": "code",
   "execution_count": 108,
   "metadata": {},
   "outputs": [],
   "source": [
    "import matplotlib.pyplot as plt"
   ]
  },
  {
   "cell_type": "markdown",
   "metadata": {},
   "source": [
    "### subplot()\n",
    "- 한 화면에 여러 그래프를 그리는 방법\n",
    "- subplot(행의수, 열의수, 그래프의 위치)"
   ]
  },
  {
   "cell_type": "code",
   "execution_count": 109,
   "metadata": {},
   "outputs": [
    {
     "data": {
      "image/png": "[encoded data removed]",
      "text/plain": [
       "<Figure size 640x480 with 2 Axes>"
      ]
     },
     "metadata": {},
     "output_type": "display_data"
    }
   ],
   "source": [
    "plt.subplot(2, 1, 1)\n",
    "plt.bar([1,2,3,4], [5,6,7,8])\n",
    "plt.subplot(2, 1, 2)\n",
    "plt.plot([4,3,6,1])\n",
    "plt.show()"
   ]
  },
  {
   "cell_type": "code",
   "execution_count": 110,
   "metadata": {},
   "outputs": [
    {
     "data": {
      "text/html": [
       "<div>\n",
       "<style scoped>\n",
       "    .dataframe tbody tr th:only-of-type {\n",
       "        vertical-align: middle;\n",
       "    }\n",
       "\n",
       "    .dataframe tbody tr th {\n",
       "        vertical-align: top;\n",
       "    }\n",
       "\n",
       "    .dataframe thead tr th {\n",
       "        text-align: left;\n",
       "    }\n",
       "\n",
       "    .dataframe thead tr:last-of-type th {\n",
       "        text-align: right;\n",
       "    }\n",
       "</style>\n",
       "<table border=\"1\" class=\"dataframe\">\n",
       "  <thead>\n",
       "    <tr>\n",
       "      <th></th>\n",
       "      <th colspan=\"2\" halign=\"left\">price</th>\n",
       "    </tr>\n",
       "    <tr>\n",
       "      <th></th>\n",
       "      <th>mean</th>\n",
       "      <th>sum</th>\n",
       "    </tr>\n",
       "    <tr>\n",
       "      <th>payment_month</th>\n",
       "      <th></th>\n",
       "      <th></th>\n",
       "    </tr>\n",
       "  </thead>\n",
       "  <tbody>\n",
       "    <tr>\n",
       "      <th>02/2019</th>\n",
       "      <td>144701.897019</td>\n",
       "      <td>160185000</td>\n",
       "    </tr>\n",
       "    <tr>\n",
       "      <th>03/2019</th>\n",
       "      <td>142424.511545</td>\n",
       "      <td>160370000</td>\n",
       "    </tr>\n",
       "    <tr>\n",
       "      <th>04/2019</th>\n",
       "      <td>142802.491103</td>\n",
       "      <td>160510000</td>\n",
       "    </tr>\n",
       "    <tr>\n",
       "      <th>05/2019</th>\n",
       "      <td>139515.260323</td>\n",
       "      <td>155420000</td>\n",
       "    </tr>\n",
       "    <tr>\n",
       "      <th>06/2019</th>\n",
       "      <td>144392.605634</td>\n",
       "      <td>164030000</td>\n",
       "    </tr>\n",
       "    <tr>\n",
       "      <th>07/2019</th>\n",
       "      <td>144715.860899</td>\n",
       "      <td>170620000</td>\n",
       "    </tr>\n",
       "  </tbody>\n",
       "</table>\n",
       "</div>"
      ],
      "text/plain": [
       "                       price           \n",
       "                        mean        sum\n",
       "payment_month                          \n",
       "02/2019        144701.897019  160185000\n",
       "03/2019        142424.511545  160370000\n",
       "04/2019        142802.491103  160510000\n",
       "05/2019        139515.260323  155420000\n",
       "06/2019        144392.605634  164030000\n",
       "07/2019        144715.860899  170620000"
      ]
     },
     "execution_count": 110,
     "metadata": {},
     "output_type": "execute_result"
    }
   ],
   "source": [
    "month_data"
   ]
  },
  {
   "cell_type": "code",
   "execution_count": 114,
   "metadata": {},
   "outputs": [
    {
     "data": {
      "text/plain": [
       "payment_month\n",
       "02/2019    144701.897019\n",
       "03/2019    142424.511545\n",
       "04/2019    142802.491103\n",
       "05/2019    139515.260323\n",
       "06/2019    144392.605634\n",
       "07/2019    144715.860899\n",
       "Name: mean, dtype: float64"
      ]
     },
     "execution_count": 114,
     "metadata": {},
     "output_type": "execute_result"
    }
   ],
   "source": [
    "month_data['price']['mean']"
   ]
  },
  {
   "cell_type": "code",
   "execution_count": 116,
   "metadata": {},
   "outputs": [
    {
     "data": {
      "image/png": "[encoded data removed]",
      "text/plain": [
       "<Figure size 1200x800 with 2 Axes>"
      ]
     },
     "metadata": {},
     "output_type": "display_data"
    }
   ],
   "source": [
    "x = month_data.index\n",
    "y1 = month_data['price']['mean']\n",
    "y2 = month_data['price']['sum']\n",
    "\n",
    "# 그래프 사이즈 변경\n",
    "plt.figure(figsize = (12, 8))\n",
    "\n",
    "plt.subplot(1, 2, 1)\n",
    "plt.bar(x, y1)\n",
    "plt.subplot(1, 2, 2)\n",
    "plt.bar(x, y2)\n",
    "plt.show()"
   ]
  },
  {
   "cell_type": "code",
   "execution_count": 123,
   "metadata": {},
   "outputs": [],
   "source": [
    "pivot_data =  pd.pivot_table(\n",
    "    group_data, \n",
    "    index = 'payment_month', \n",
    "    aggfunc = ['mean', 'max'], \n",
    "    values = 'price'\n",
    ")"
   ]
  },
  {
   "cell_type": "code",
   "execution_count": 124,
   "metadata": {},
   "outputs": [
    {
     "data": {
      "text/plain": [
       "<AxesSubplot: xlabel='payment_month'>"
      ]
     },
     "execution_count": 124,
     "metadata": {},
     "output_type": "execute_result"
    },
    {
     "data": {
      "image/png": "[encoded data removed]",
      "text/plain": [
       "<Figure size 640x480 with 1 Axes>"
      ]
     },
     "metadata": {},
     "output_type": "display_data"
    }
   ],
   "source": [
    "pivot_data.plot.bar()"
   ]
  }
 ],
 "metadata": {
  "kernelspec": {
   "display_name": "Python 3",
   "language": "python",
   "name": "python3"
  },
  "language_info": {
   "codemirror_mode": {
    "name": "ipython",
    "version": 3
   },
   "file_extension": ".py",
   "mimetype": "text/x-python",
   "name": "python",
   "nbconvert_exporter": "python",
   "pygments_lexer": "ipython3",
   "version": "3.11.1"
  },
  "orig_nbformat": 4
 },
 "nbformat": 4,
 "nbformat_minor": 2
}
