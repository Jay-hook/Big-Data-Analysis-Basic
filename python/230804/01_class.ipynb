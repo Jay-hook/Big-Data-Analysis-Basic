{
 "cells": [
  {
   "cell_type": "markdown",
   "metadata": {},
   "source": [
    "### 클래스 \n",
    "1. 변수와 함수가 합쳐져 있는 형태 \n",
    "2. ex) 음식의 레시피 : 함수, 음식에 들어가는 재료 : 변수"
   ]
  },
  {
   "cell_type": "code",
   "execution_count": 1,
   "metadata": {},
   "outputs": [],
   "source": [
    "## 클래스 선언 \n",
    "class Class_1:\n",
    "    ## 생성자 함수\n",
    "    def __init__(self, _x, _y):\n",
    "        self.x = _x\n",
    "        self.y = _y"
   ]
  },
  {
   "cell_type": "code",
   "execution_count": 2,
   "metadata": {},
   "outputs": [],
   "source": [
    "# 클래스 생성\n",
    "# 클래스 생성시 __init__ 함수가 호출\n",
    "# self 매개변수에는 클래스가 저장되는 위치(변수)\n",
    "# _x 매개변수는 Class_1()에 있는 첫번째 인자 값\n",
    "# _y 매개변수는 Class_1()에 있는 두번째 인자 값\n",
    "class_a = Class_1('test', 10)"
   ]
  },
  {
   "cell_type": "code",
   "execution_count": 3,
   "metadata": {},
   "outputs": [
    {
     "data": {
      "text/plain": [
       "'test'"
      ]
     },
     "execution_count": 3,
     "metadata": {},
     "output_type": "execute_result"
    }
   ],
   "source": [
    "class_a.x"
   ]
  },
  {
   "cell_type": "code",
   "execution_count": 4,
   "metadata": {},
   "outputs": [
    {
     "data": {
      "text/plain": [
       "10"
      ]
     },
     "execution_count": 4,
     "metadata": {},
     "output_type": "execute_result"
    }
   ],
   "source": [
    "class_a.y"
   ]
  },
  {
   "cell_type": "code",
   "execution_count": 5,
   "metadata": {},
   "outputs": [],
   "source": [
    "class_b = Class_1('test2', 20)"
   ]
  },
  {
   "cell_type": "code",
   "execution_count": 6,
   "metadata": {},
   "outputs": [
    {
     "name": "stdout",
     "output_type": "stream",
     "text": [
      "test\n",
      "test2\n"
     ]
    }
   ],
   "source": [
    "print(class_a.x)\n",
    "print(class_b.x)"
   ]
  },
  {
   "cell_type": "code",
   "execution_count": 7,
   "metadata": {},
   "outputs": [],
   "source": [
    "class Class_2:\n",
    "    def __init__(self, _x, _y):\n",
    "        self.x = _x\n",
    "        self.y = _y\n",
    "    \n",
    "    # 함수 추가 \n",
    "    def add(self):\n",
    "        self.result = self.x + self.y\n",
    "        return self.result\n",
    "    \n",
    "    def subtract(self):\n",
    "        self.result = self.x - self.y\n",
    "        return self.result"
   ]
  },
  {
   "cell_type": "code",
   "execution_count": 8,
   "metadata": {},
   "outputs": [],
   "source": [
    "class_a = Class_2(10, 2)\n",
    "class_b = Class_2(20, 1)"
   ]
  },
  {
   "cell_type": "code",
   "execution_count": 9,
   "metadata": {},
   "outputs": [
    {
     "data": {
      "text/plain": [
       "12"
      ]
     },
     "execution_count": 9,
     "metadata": {},
     "output_type": "execute_result"
    }
   ],
   "source": [
    "class_a.add()"
   ]
  },
  {
   "cell_type": "code",
   "execution_count": 10,
   "metadata": {},
   "outputs": [
    {
     "data": {
      "text/plain": [
       "21"
      ]
     },
     "execution_count": 10,
     "metadata": {},
     "output_type": "execute_result"
    }
   ],
   "source": [
    "class_b.add()"
   ]
  },
  {
   "cell_type": "code",
   "execution_count": 11,
   "metadata": {},
   "outputs": [
    {
     "name": "stdout",
     "output_type": "stream",
     "text": [
      "8\n",
      "19\n"
     ]
    }
   ],
   "source": [
    "print(class_a.subtract())\n",
    "print(class_b.subtract())"
   ]
  },
  {
   "cell_type": "code",
   "execution_count": 12,
   "metadata": {},
   "outputs": [],
   "source": [
    "# 클래스 변수가 포함 된 클래스 생성 \n",
    "class Class_3:\n",
    "    # 클래스 변수 생성\n",
    "    user_list = []\n",
    "\n",
    "    def __init__(self, _user, _age):\n",
    "        self.user = _user\n",
    "        self.age = _age\n",
    "        self.user_list.append(_user)"
   ]
  },
  {
   "cell_type": "code",
   "execution_count": 13,
   "metadata": {},
   "outputs": [],
   "source": [
    "user1 = Class_3(\"test\", 20)\n",
    "user2 = Class_3('test2', 30)"
   ]
  },
  {
   "cell_type": "code",
   "execution_count": 14,
   "metadata": {},
   "outputs": [
    {
     "name": "stdout",
     "output_type": "stream",
     "text": [
      "test 20\n",
      "test2 30\n"
     ]
    }
   ],
   "source": [
    "print(user1.user, user1.age)\n",
    "print(user2.user, user2.age)"
   ]
  },
  {
   "cell_type": "code",
   "execution_count": 15,
   "metadata": {},
   "outputs": [
    {
     "name": "stdout",
     "output_type": "stream",
     "text": [
      "['test', 'test2']\n"
     ]
    }
   ],
   "source": [
    "print(user1.user_list)"
   ]
  },
  {
   "cell_type": "code",
   "execution_count": 16,
   "metadata": {},
   "outputs": [
    {
     "name": "stdout",
     "output_type": "stream",
     "text": [
      "['test', 'test2']\n"
     ]
    }
   ],
   "source": [
    "print(user2.user_list)"
   ]
  },
  {
   "cell_type": "markdown",
   "metadata": {},
   "source": [
    "### 문제 \n",
    "- User 클래스 선언\n",
    "    1. 생성자 함수에는 유저의 정보를 입력(name, phone, birth)\n",
    "    2. info() 함수를 생성 \n",
    "        - 유저의 정보를 출력"
   ]
  },
  {
   "cell_type": "code",
   "execution_count": 17,
   "metadata": {},
   "outputs": [],
   "source": [
    "class User:\n",
    "    # 생성자 함수를 이용하여 유저의 정보를 받아오는 부분\n",
    "    def __init__(self, _name, _phone, _birth):\n",
    "        self.name = _name\n",
    "        self.phone = _phone\n",
    "        self.birth = _birth\n",
    "    \n",
    "    # 유저의 정보를 출력\n",
    "    def info(self):\n",
    "        return (self.name, self.phone, self.birth)\n"
   ]
  },
  {
   "cell_type": "code",
   "execution_count": 18,
   "metadata": {},
   "outputs": [],
   "source": [
    "user1 = User('kim', '01012345678', '900101')\n",
    "user2 = User('park', '01098765432', '950101')"
   ]
  },
  {
   "cell_type": "code",
   "execution_count": 19,
   "metadata": {},
   "outputs": [
    {
     "name": "stdout",
     "output_type": "stream",
     "text": [
      "('kim', '01012345678', '900101')\n",
      "('park', '01098765432', '950101')\n"
     ]
    }
   ],
   "source": [
    "print(user1.info())\n",
    "print(user2.info())"
   ]
  },
  {
   "cell_type": "markdown",
   "metadata": {},
   "source": [
    "### 클래스 \n",
    "- Alba 클래스를 생성\n",
    "    - 클래스의 변수 하나 생성 (시급)\n",
    "    - 생성자 함수\n",
    "        - 알바생의 정보를 입력\n",
    "        - 알바비라는 변수를 생성 (기본 값은 0)\n",
    "    - 알바생의 근무 기록 등록 하는 함수\n",
    "        - 매개변수는 시간 생성\n",
    "        - 시간을 기준으로 알바비에 시급 * 시간 누적 합\n",
    "    - 시급을 변경하는 함수 생성\n",
    "        - 매개변수는 시급\n",
    "        - 클래스 변수의 값을 변경"
   ]
  },
  {
   "cell_type": "code",
   "execution_count": 35,
   "metadata": {},
   "outputs": [],
   "source": [
    "# 클래스 생성 \n",
    "class Alba:\n",
    "    # 시급 클래스 변수 생성\n",
    "    cost = 9000\n",
    "\n",
    "    # 생성자 함수 \n",
    "    def __init__(self, _name):\n",
    "        self.name = _name\n",
    "        self.payment = 0\n",
    "    \n",
    "    # 근무 시간을 등록하는 함수 \n",
    "    def work(self, _time):\n",
    "        self.pay = _time * Alba.cost\n",
    "        self.payment = self.payment + self.pay\n",
    "        # self.payment += self.pay\n",
    "        return f\"{_time}시간만큼 근무하였습니다.\"\n",
    "    # 시급을 변경하는 함수\n",
    "    def change_cost(self, _cost):\n",
    "        Alba.cost = _cost\n",
    "        return f\"{_cost}로 시급을 변경하였습니다.\"\n"
   ]
  },
  {
   "cell_type": "code",
   "execution_count": 36,
   "metadata": {},
   "outputs": [],
   "source": [
    "alba1 = Alba('kim')\n",
    "alba2 = Alba('park')"
   ]
  },
  {
   "cell_type": "code",
   "execution_count": 37,
   "metadata": {},
   "outputs": [
    {
     "name": "stdout",
     "output_type": "stream",
     "text": [
      "0\n",
      "0\n"
     ]
    }
   ],
   "source": [
    "# 알바비 출력\n",
    "print(alba1.payment)\n",
    "print(alba2.payment)"
   ]
  },
  {
   "cell_type": "code",
   "execution_count": 38,
   "metadata": {},
   "outputs": [
    {
     "data": {
      "text/plain": [
       "'6시간만큼 근무하였습니다.'"
      ]
     },
     "execution_count": 38,
     "metadata": {},
     "output_type": "execute_result"
    }
   ],
   "source": [
    "# 1번 알바생 8시간 근무\n",
    "alba1.work(8)\n",
    "# 2번 알바생 6시간 근무\n",
    "alba2.work(6)"
   ]
  },
  {
   "cell_type": "code",
   "execution_count": 39,
   "metadata": {},
   "outputs": [
    {
     "data": {
      "text/plain": [
       "'10000로 시급을 변경하였습니다.'"
      ]
     },
     "execution_count": 39,
     "metadata": {},
     "output_type": "execute_result"
    }
   ],
   "source": [
    "# 시급 변경\n",
    "alba1.change_cost(10000)"
   ]
  },
  {
   "cell_type": "code",
   "execution_count": 45,
   "metadata": {},
   "outputs": [],
   "source": [
    "class Alba:\n",
    "    def __init__(self, _name):\n",
    "        self.name = _name\n",
    "        self.payment = 0\n",
    "        self.cost = 9000\n",
    "\n",
    "    def work(self, _time):\n",
    "        self.pay = self.cost * _time\n",
    "        self.payment += self.pay\n",
    "        return f\"{_time}시간만큼 근무하였습니다.\"\n",
    "\n",
    "    def chage_cost(self, _cost):\n",
    "        self.cost = _cost\n",
    "        return f\"{_cost}원으로 시급이 변경되었습니다\""
   ]
  },
  {
   "cell_type": "code",
   "execution_count": 46,
   "metadata": {},
   "outputs": [],
   "source": [
    "alba1 = Alba('kim')\n",
    "alba2 = Alba('park')"
   ]
  },
  {
   "cell_type": "code",
   "execution_count": 47,
   "metadata": {},
   "outputs": [
    {
     "name": "stdout",
     "output_type": "stream",
     "text": [
      "0\n",
      "0\n"
     ]
    }
   ],
   "source": [
    "print(alba1.payment)\n",
    "print(alba2.payment)"
   ]
  },
  {
   "cell_type": "code",
   "execution_count": 48,
   "metadata": {},
   "outputs": [
    {
     "name": "stdout",
     "output_type": "stream",
     "text": [
      "9000\n",
      "9000\n"
     ]
    }
   ],
   "source": [
    "print(alba1.cost)\n",
    "print(alba2.cost)"
   ]
  },
  {
   "cell_type": "code",
   "execution_count": 49,
   "metadata": {},
   "outputs": [
    {
     "data": {
      "text/plain": [
       "'5시간만큼 근무하였습니다.'"
      ]
     },
     "execution_count": 49,
     "metadata": {},
     "output_type": "execute_result"
    }
   ],
   "source": [
    "alba1.work(5)"
   ]
  },
  {
   "cell_type": "code",
   "execution_count": 50,
   "metadata": {},
   "outputs": [
    {
     "data": {
      "text/plain": [
       "'6시간만큼 근무하였습니다.'"
      ]
     },
     "execution_count": 50,
     "metadata": {},
     "output_type": "execute_result"
    }
   ],
   "source": [
    "alba2.work(6)"
   ]
  },
  {
   "cell_type": "code",
   "execution_count": 51,
   "metadata": {},
   "outputs": [
    {
     "name": "stdout",
     "output_type": "stream",
     "text": [
      "45000\n",
      "54000\n"
     ]
    }
   ],
   "source": [
    "# 각각의 payment 다시 확인\n",
    "print(alba1.payment)\n",
    "print(alba2.payment)"
   ]
  },
  {
   "cell_type": "code",
   "execution_count": 52,
   "metadata": {},
   "outputs": [
    {
     "data": {
      "text/plain": [
       "'10000원으로 시급이 변경되었습니다'"
      ]
     },
     "execution_count": 52,
     "metadata": {},
     "output_type": "execute_result"
    }
   ],
   "source": [
    "alba1.chage_cost(10000)"
   ]
  },
  {
   "cell_type": "code",
   "execution_count": 53,
   "metadata": {},
   "outputs": [
    {
     "name": "stdout",
     "output_type": "stream",
     "text": [
      "10000\n",
      "9000\n"
     ]
    }
   ],
   "source": [
    "print(alba1.cost)\n",
    "print(alba2.cost)"
   ]
  },
  {
   "cell_type": "code",
   "execution_count": 54,
   "metadata": {},
   "outputs": [
    {
     "data": {
      "text/plain": [
       "'5시간만큼 근무하였습니다.'"
      ]
     },
     "execution_count": 54,
     "metadata": {},
     "output_type": "execute_result"
    }
   ],
   "source": [
    "alba1.work(5)"
   ]
  },
  {
   "cell_type": "code",
   "execution_count": 55,
   "metadata": {},
   "outputs": [
    {
     "data": {
      "text/plain": [
       "'6시간만큼 근무하였습니다.'"
      ]
     },
     "execution_count": 55,
     "metadata": {},
     "output_type": "execute_result"
    }
   ],
   "source": [
    "alba2.work(6)"
   ]
  },
  {
   "cell_type": "code",
   "execution_count": 56,
   "metadata": {},
   "outputs": [
    {
     "name": "stdout",
     "output_type": "stream",
     "text": [
      "95000\n",
      "108000\n"
     ]
    }
   ],
   "source": [
    "print(alba1.payment)\n",
    "print(alba2.payment)"
   ]
  },
  {
   "cell_type": "markdown",
   "metadata": {},
   "source": [
    "- Class 생성 \n",
    "    1. User 클래스 생성\n",
    "        - 생성자 함수는 유저의 정보를 입력(이름, 나이, 휴대폰번호)\n",
    "        - ```__call__```함수를 이용하여 유저의 정보를 출력 \n",
    "        - info() 함수를 만들어서 유저의 이름을 출력\n",
    "    2. Wallet 클래스 생성 \n",
    "        - User 클래스를 상속\n",
    "        - 생성자 함수 User 클래스의 정보와 지갑의 잔액을 등록\n",
    "        - work_select() 함수를 생성\n",
    "            - 일의 종류를 선택하여 시급을 지정\n",
    "        - work() 함수를 생성하여 근무 시간만큼 지갑의 잔액에 더해준다. \n",
    "        - wallet_info() 함수를 생성하여 지갑 소유자의 이름과 지갑의 잔액을 출력 "
   ]
  },
  {
   "cell_type": "code",
   "execution_count": 60,
   "metadata": {},
   "outputs": [],
   "source": [
    "class User():\n",
    "    def __init__(self, _name, _age, _phone):\n",
    "        self.name = _name\n",
    "        self.age = _age\n",
    "        self.phone = _phone\n",
    "\n",
    "    def __call__(self):\n",
    "        return (self.name, self.age, self.phone)\n",
    "\n",
    "    def info(self):\n",
    "        return f\"이름 : {self.name}, 나이 : {self.age}, 번호 : {self.phone}\""
   ]
  },
  {
   "cell_type": "code",
   "execution_count": 61,
   "metadata": {},
   "outputs": [],
   "source": [
    "user1 = User('Lee', 20, '01012345678')"
   ]
  },
  {
   "cell_type": "code",
   "execution_count": 62,
   "metadata": {},
   "outputs": [
    {
     "data": {
      "text/plain": [
       "'이름 : Lee, 나이 : 20, 번호 : 01012345678'"
      ]
     },
     "execution_count": 62,
     "metadata": {},
     "output_type": "execute_result"
    }
   ],
   "source": [
    "user1.info()"
   ]
  },
  {
   "cell_type": "code",
   "execution_count": 65,
   "metadata": {},
   "outputs": [
    {
     "data": {
      "text/plain": [
       "('Lee', 20, '01012345678')"
      ]
     },
     "execution_count": 65,
     "metadata": {},
     "output_type": "execute_result"
    }
   ],
   "source": [
    "user1()"
   ]
  },
  {
   "cell_type": "code",
   "execution_count": 169,
   "metadata": {},
   "outputs": [],
   "source": [
    "class Wallet(User):\n",
    "\n",
    "    # 생성자 함수\n",
    "    def __init__(self, _name, _age, _phone, _balance = 0):\n",
    "        self.balance = _balance\n",
    "        super().__init__(_name, _age, _phone)\n",
    "\n",
    "    def work_select(self, _type):\n",
    "        if _type == 'Serving':\n",
    "            self.cost = 10000\n",
    "        elif _type == 'Coding':\n",
    "            self.cost = 50000\n",
    "        elif _type == 'Cooking':\n",
    "            self.cost = 30000\n",
    "        else: \n",
    "            self.cost = 0\n",
    "            return '일의 타입이 맞지 않습니다.'\n",
    "        return f'{_type}이 선택되었습니다.'\n",
    "    \n",
    "    # work() 함수를 생성 -> 매개변수 1개 (self)\n",
    "    def work(self):\n",
    "        # 지갑의 잔액에 cost만큼 누적 합\n",
    "        self.balance += self.cost\n",
    "        # self.balance = self.balance + self.cost\n",
    "        # return은 현재 지갑의 잔액 출력\n",
    "        return f\"현재 잔액은 {self.balance}입니다\"\n",
    "    \n",
    "    def wallet_info(self):\n",
    "        return f\"지갑의 소유자는 {self.name}, 잔액은 {self.balance}입니다.\"\n",
    "    \n",
    "    # 오버라이드 함수를 생성\n",
    "    # 오버라이드는 기존의 함수를 변경해준다.\n",
    "    def info(self):\n",
    "        return f\"\"\"이름 : {self.name}, 나이 : {self.age}, \n",
    "번호 : {self.phone}, 잔액 : {self.balance}\"\"\" \n",
    "        \n",
    "        "
   ]
  },
  {
   "cell_type": "code",
   "execution_count": 170,
   "metadata": {},
   "outputs": [],
   "source": [
    "wallet1 = Wallet('kim', 20, \"01012345678\")\n",
    "wallet2 = Wallet('Lee', 30, \"01012345671\", 100)"
   ]
  },
  {
   "cell_type": "code",
   "execution_count": 171,
   "metadata": {},
   "outputs": [
    {
     "data": {
      "text/plain": [
       "'Serving이 선택되었습니다.'"
      ]
     },
     "execution_count": 171,
     "metadata": {},
     "output_type": "execute_result"
    }
   ],
   "source": [
    "wallet1.work_select('Serving')"
   ]
  },
  {
   "cell_type": "code",
   "execution_count": 172,
   "metadata": {},
   "outputs": [
    {
     "data": {
      "text/plain": [
       "'Coding이 선택되었습니다.'"
      ]
     },
     "execution_count": 172,
     "metadata": {},
     "output_type": "execute_result"
    }
   ],
   "source": [
    "wallet2.work_select('Coding')"
   ]
  },
  {
   "cell_type": "code",
   "execution_count": 173,
   "metadata": {},
   "outputs": [
    {
     "data": {
      "text/plain": [
       "'현재 잔액은 10000입니다'"
      ]
     },
     "execution_count": 173,
     "metadata": {},
     "output_type": "execute_result"
    }
   ],
   "source": [
    "wallet1.work()"
   ]
  },
  {
   "cell_type": "code",
   "execution_count": 174,
   "metadata": {},
   "outputs": [
    {
     "data": {
      "text/plain": [
       "'현재 잔액은 50100입니다'"
      ]
     },
     "execution_count": 174,
     "metadata": {},
     "output_type": "execute_result"
    }
   ],
   "source": [
    "wallet2.work()"
   ]
  },
  {
   "cell_type": "code",
   "execution_count": 175,
   "metadata": {},
   "outputs": [
    {
     "name": "stdout",
     "output_type": "stream",
     "text": [
      "지갑의 소유자는 kim, 잔액은 10000입니다.\n",
      "지갑의 소유자는 Lee, 잔액은 50100입니다.\n"
     ]
    }
   ],
   "source": [
    "print(wallet1.wallet_info())\n",
    "print(wallet2.wallet_info())"
   ]
  },
  {
   "cell_type": "code",
   "execution_count": 176,
   "metadata": {},
   "outputs": [
    {
     "name": "stdout",
     "output_type": "stream",
     "text": [
      "이름 : kim, 나이 : 20, \n",
      "번호 : 01012345678, 잔액 : 10000\n",
      "이름 : Lee, 나이 : 30, \n",
      "번호 : 01012345671, 잔액 : 50100\n"
     ]
    }
   ],
   "source": [
    "print(wallet1.info())\n",
    "print(wallet2.info())"
   ]
  },
  {
   "cell_type": "code",
   "execution_count": 166,
   "metadata": {},
   "outputs": [
    {
     "name": "stdout",
     "output_type": "stream",
     "text": [
      "10000\n",
      "50000\n"
     ]
    }
   ],
   "source": [
    "print(wallet1.cost)\n",
    "print(wallet2.cost)"
   ]
  },
  {
   "cell_type": "code",
   "execution_count": 115,
   "metadata": {},
   "outputs": [
    {
     "data": {
      "text/plain": [
       "'Cooking이 선택되었습니다.'"
      ]
     },
     "execution_count": 115,
     "metadata": {},
     "output_type": "execute_result"
    }
   ],
   "source": [
    "wallet1.work_select('Cooking')"
   ]
  },
  {
   "cell_type": "code",
   "execution_count": 116,
   "metadata": {},
   "outputs": [
    {
     "name": "stdout",
     "output_type": "stream",
     "text": [
      "30000\n"
     ]
    }
   ],
   "source": [
    "print(wallet1.cost)"
   ]
  },
  {
   "cell_type": "code",
   "execution_count": 111,
   "metadata": {},
   "outputs": [
    {
     "name": "stdout",
     "output_type": "stream",
     "text": [
      "20 0 kim 01012345678\n",
      "30 100 Lee 01012345671\n"
     ]
    }
   ],
   "source": [
    "print(wallet1.age, wallet1.balance, wallet1.name, wallet1.phone)\n",
    "print(wallet2.age, wallet2.balance, wallet2.name, wallet2.phone)"
   ]
  },
  {
   "cell_type": "code",
   "execution_count": 94,
   "metadata": {},
   "outputs": [],
   "source": [
    "class A:\n",
    "\n",
    "    def __init__(self, _x, _y):\n",
    "        self.a = _x\n",
    "        self.b = _y\n",
    "\n",
    "    def add(self):\n",
    "        return self.a / self.b"
   ]
  },
  {
   "cell_type": "code",
   "execution_count": 83,
   "metadata": {},
   "outputs": [],
   "source": [
    "a = A(3, 2)"
   ]
  },
  {
   "cell_type": "code",
   "execution_count": 84,
   "metadata": {},
   "outputs": [
    {
     "data": {
      "text/plain": [
       "5"
      ]
     },
     "execution_count": 84,
     "metadata": {},
     "output_type": "execute_result"
    }
   ],
   "source": [
    "a.add()"
   ]
  },
  {
   "cell_type": "code",
   "execution_count": 99,
   "metadata": {},
   "outputs": [],
   "source": [
    "class B(A):\n",
    "\n",
    "    def __init__(self, _x, _y):\n",
    "        # A 클래스의 생성자 함수를 호출\n",
    "        # super() : 부모 클래스\n",
    "        super().__init__(_x, _y)\n",
    "        self.x = _x\n",
    "        self.y = _y\n",
    "\n",
    "    def subtract(self):\n",
    "        return self.x - self.y"
   ]
  },
  {
   "cell_type": "code",
   "execution_count": 100,
   "metadata": {},
   "outputs": [],
   "source": [
    "b = B(5,2)"
   ]
  },
  {
   "cell_type": "code",
   "execution_count": 101,
   "metadata": {},
   "outputs": [
    {
     "data": {
      "text/plain": [
       "3"
      ]
     },
     "execution_count": 101,
     "metadata": {},
     "output_type": "execute_result"
    }
   ],
   "source": [
    "b.subtract()"
   ]
  },
  {
   "cell_type": "code",
   "execution_count": 102,
   "metadata": {},
   "outputs": [
    {
     "data": {
      "text/plain": [
       "2.5"
      ]
     },
     "execution_count": 102,
     "metadata": {},
     "output_type": "execute_result"
    }
   ],
   "source": [
    "b.add()"
   ]
  },
  {
   "cell_type": "code",
   "execution_count": 177,
   "metadata": {},
   "outputs": [
    {
     "name": "stdout",
     "output_type": "stream",
     "text": [
      "<class 'str'>\n"
     ]
    }
   ],
   "source": [
    "a = \"Hello\"\n",
    "print(type(a))"
   ]
  },
  {
   "cell_type": "code",
   "execution_count": null,
   "metadata": {},
   "outputs": [],
   "source": []
  }
 ],
 "metadata": {
  "kernelspec": {
   "display_name": "Python 3",
   "language": "python",
   "name": "python3"
  },
  "language_info": {
   "codemirror_mode": {
    "name": "ipython",
    "version": 3
   },
   "file_extension": ".py",
   "mimetype": "text/x-python",
   "name": "python",
   "nbconvert_exporter": "python",
   "pygments_lexer": "ipython3",
   "version": "3.11.1"
  },
  "orig_nbformat": 4
 },
 "nbformat": 4,
 "nbformat_minor": 2
}
