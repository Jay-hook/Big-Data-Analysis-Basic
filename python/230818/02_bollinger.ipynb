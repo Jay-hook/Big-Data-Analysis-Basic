{
 "cells": [
  {
   "cell_type": "markdown",
   "metadata": {},
   "source": [
    "### 볼린저 밴드 \n",
    "1. 주식 데이터 로드 \n",
    "2. 결측치와 이상치를 제거 \n",
    "3. 시간, 종가로 이루어진 데이터프레임 변경\n",
    "4. 이동 평균선 : 데이터의 20개의 평균을 구해서 새로운 파생변수 대입\n",
    "5. 상단 밴드 : 이동 평균선 + (2 * 데이터 20개의 표준편차)\n",
    "6. 하단 밴드 : 이동 평균전 - (2 * 데이터 20개의 표준편차)\n",
    "7. 구매 상태를 확인하는 파생변수 생성\n",
    "8. 구매 상태를 입력\n",
    "9. 수익율 계산"
   ]
  },
  {
   "cell_type": "code",
   "execution_count": null,
   "metadata": {},
   "outputs": [],
   "source": [
    "import pandas as pd \n",
    "import numpy as np\n",
    "import matplotlib.pyplot as plt"
   ]
  },
  {
   "cell_type": "code",
   "execution_count": null,
   "metadata": {},
   "outputs": [],
   "source": [
    "df = pd.read_csv(\"../../csv/AMZN.csv\", index_col='Date')\n",
    "df.head(1)"
   ]
  },
  {
   "cell_type": "code",
   "execution_count": null,
   "metadata": {},
   "outputs": [],
   "source": [
    "# 데이터프레임에서 수정종가만 있는 데이터프레임으로 변환\n",
    "price_df = df[['Adj Close']]"
   ]
  },
  {
   "cell_type": "code",
   "execution_count": null,
   "metadata": {},
   "outputs": [],
   "source": [
    "# 결측치, 무한대값 제거 \n",
    "# ~ 연산자 : True와 False 반대로 표시 \n",
    "flag = ~price_df.isin([np.nan, np.inf, -np.inf]).any(axis=1)\n",
    "price_df = price_df.loc[flag]"
   ]
  },
  {
   "cell_type": "code",
   "execution_count": null,
   "metadata": {},
   "outputs": [],
   "source": [
    "# 이동 평균선 생성 \n",
    "# 종가 데이터의 20개의 평균\n",
    "price_df['center'] = 0\n",
    "for i in range(20, len(price_df)):\n",
    "    # 반복문에서 i는 ? -> 데이터프레임의 인덱스 위치\n",
    "    # 20개 데이터의 평균을 구한다.\n",
    "    center_data = price_df.iloc[i-20:i-1, 0].mean()\n",
    "    price_df.iloc[i, 1] = center_data\n",
    "price_df.iloc[19:25]"
   ]
  },
  {
   "cell_type": "code",
   "execution_count": null,
   "metadata": {},
   "outputs": [],
   "source": [
    "# 이동 평균선 : 20개의 데이터의 평균\n",
    "price_df['center'] = price_df['Adj Close'].rolling(20).mean()"
   ]
  },
  {
   "cell_type": "code",
   "execution_count": null,
   "metadata": {},
   "outputs": [],
   "source": [
    "# 상단 밴드, 하단 밴드 \n",
    "# 상단밴드 \n",
    "price_df['ub'] = price_df['center'] + (2 * price_df['Adj Close'].rolling(20).std())\n",
    "# 하단밴드 \n",
    "price_df['lb'] = price_df['center'] - (2 * price_df['Adj Close'].rolling(20).std())"
   ]
  },
  {
   "cell_type": "code",
   "execution_count": null,
   "metadata": {},
   "outputs": [],
   "source": [
    "price_df.iloc[19:22]"
   ]
  },
  {
   "cell_type": "code",
   "execution_count": null,
   "metadata": {},
   "outputs": [],
   "source": [
    "price_df.tail(100).drop('Adj Close', axis=1).plot()"
   ]
  },
  {
   "cell_type": "code",
   "execution_count": null,
   "metadata": {},
   "outputs": [],
   "source": [
    "# 인덱스를 시계열로 변경 \n",
    "price_df.index  = pd.to_datetime(price_df.index, format='%Y-%m-%d')"
   ]
  },
  {
   "cell_type": "code",
   "execution_count": null,
   "metadata": {},
   "outputs": [],
   "source": [
    "from datetime import datetime"
   ]
  },
  {
   "cell_type": "code",
   "execution_count": null,
   "metadata": {},
   "outputs": [],
   "source": [
    "start = '20100101'\n",
    "\n",
    "start = datetime.strptime(start, '%Y%m%d').isoformat()\n",
    "\n",
    "test_df = price_df.loc[start:]"
   ]
  },
  {
   "cell_type": "code",
   "execution_count": null,
   "metadata": {},
   "outputs": [],
   "source": [
    "test_df.head(2)"
   ]
  },
  {
   "cell_type": "code",
   "execution_count": null,
   "metadata": {},
   "outputs": [],
   "source": [
    "# 거래내역 파생변수 하나 생성\n",
    "test_df['trade'] = \"\""
   ]
  },
  {
   "cell_type": "code",
   "execution_count": null,
   "metadata": {},
   "outputs": [],
   "source": [
    "test_df.head(2)"
   ]
  },
  {
   "cell_type": "markdown",
   "metadata": {},
   "source": [
    "### 구매 내역 추가 \n",
    "- 조건 \n",
    "    - 상단밴드보다 종가가 높은 경우\n",
    "        - 현재 구매 상태이면 \n",
    "            - 매도 (trade=\"\")\n",
    "        - 현재 구매 상태가 아니면\n",
    "            - 아무 행동도 하지 않는다 (trade=\"\")\n",
    "    - 하단밴드보다 종가가 낮은 경우\n",
    "        - 현재 구매 상태이면\n",
    "            - 아무 행동도 하지 않는다. (trade='buy')\n",
    "        - 현재 구매 상태가 아니면 \n",
    "            - 매수 (trade='buy')\n",
    "    - 종가가 하단밴드와 상단밴드 사이에 있는 경우\n",
    "        - 현재 구매 상태이면 \n",
    "            - 아무 행동도 하지 않는다 (trade='buy')\n",
    "        - 현재 구매 상태가 아니면 \n",
    "            - 아무 행동도 하지 않는다. (trade='')"
   ]
  },
  {
   "cell_type": "code",
   "execution_count": null,
   "metadata": {},
   "outputs": [],
   "source": [
    "for i in test_df.index:\n",
    "    # i는 ? -> test_df.index 값들이 하나씩 대입하여 반복\n",
    "    \n",
    "    # 상단 밴드보다 종가가 높은 경우\n",
    "    if test_df.loc[i, 'Adj Close'] > test_df.loc[i, 'ub']:\n",
    "        # 현재 구매상태인지 ?\n",
    "        if test_df.shift(1).loc[i, 'trade'] == 'buy':\n",
    "            test_df.loc[i, 'trade'] = ''\n",
    "        else:\n",
    "            test_df.loc[i, 'trade'] = ''\n",
    "    # 하단 밴드보다 종가가 낮은 경우\n",
    "    elif test_df.loc[i, 'Adj Close'] < test_df.loc[i, 'lb']:\n",
    "        # 현재 구매상태라면?\n",
    "        if test_df.shift(1).loc[i, 'trade'] == 'buy':\n",
    "            test_df.loc[i, 'trade'] = 'buy'\n",
    "        else:\n",
    "            test_df.loc[i, 'trade'] = 'buy'\n",
    "    # 밴드 사이에 종가가 존재하는 경우?\n",
    "    else:\n",
    "        # 현재 구매상태라면?\n",
    "        if test_df.shift(1).loc[i, 'trade'] == 'buy':\n",
    "            test_df.loc[i, 'trade'] = 'buy'\n",
    "        else:\n",
    "            test_df.loc[i, 'trade'] = ''"
   ]
  },
  {
   "cell_type": "code",
   "execution_count": null,
   "metadata": {},
   "outputs": [],
   "source": [
    "test_df['trade'].value_counts()"
   ]
  },
  {
   "cell_type": "markdown",
   "metadata": {},
   "source": [
    "### 수익율 계산\n",
    "- 구매한 날의 종가\n",
    "    - 전날의 trade가 \"\" 오늘의 trade가 'buy' 인 날짜의 종가 \n",
    "- 판매한 날의 종가\n",
    "    - 전날의 trade가 'buy' 이고 오늘의 trade가 ''인 날자의 종가\n",
    "- 수익율 계산\n",
    "    - (판매 가격 - 구매 가격) / 구매 가격  + 1\n",
    "- 구매 가격과 판매 가격을 초기화\n",
    "- 여러개의 수익율이 생성\n",
    "- 수익율을 누적 곱 -> 누적 수익율\n"
   ]
  },
  {
   "cell_type": "code",
   "execution_count": null,
   "metadata": {},
   "outputs": [],
   "source": [
    "rtn = 1.0\n",
    "buy = 0.0\n",
    "sell = 0.0\n",
    "\n",
    "# 수익율 파생변수 생성\n",
    "test_df['return'] = 1\n",
    "\n",
    "for i in test_df.index:\n",
    "    # 구매가를 대입 \n",
    "    if (test_df.shift(1).loc[i, 'trade'] == '') and \\\n",
    "        (test_df.loc[i, 'trade'] == 'buy'):\n",
    "        buy = test_df.loc[i, 'Adj Close']\n",
    "        print('매수 일 :', i, '매수가 :', buy)\n",
    "    # 판매가를 대입\n",
    "    elif (test_df.shift(1).loc[i, 'trade'] == 'buy') and \\\n",
    "        (test_df.loc[i, 'trade'] == ''):\n",
    "        sell = test_df.loc[i, 'Adj Close']\n",
    "        # 수익율 계산\n",
    "        rtn = (sell - buy) / buy + 1\n",
    "        test_df.loc[i, 'return'] = rtn\n",
    "        print('매도 일 :', i, \"매도가 :\", sell, \"수익율 :\", rtn)\n",
    "\n",
    "    # 구매가, 판매가 초기화\n",
    "    if test_df.loc[i, 'trade'] == '' :\n",
    "        buy = 0.0\n",
    "        sell = 0.0"
   ]
  },
  {
   "cell_type": "code",
   "execution_count": null,
   "metadata": {},
   "outputs": [],
   "source": [
    "# 누적 수익율 계산\n",
    "acc_rtn = 1.0\n",
    "\n",
    "for i in test_df.index:\n",
    "    rtn = test_df.loc[i, 'return']\n",
    "    # acc_rtn = acc_rtn * rtn\n",
    "    acc_rtn *= rtn\n",
    "    test_df.loc[i, 'acc_rtn'] = acc_rtn\n",
    "\n",
    "print('누적 수익율 :', acc_rtn)"
   ]
  },
  {
   "cell_type": "markdown",
   "metadata": {},
   "source": [
    "### 볼린저밴드 함수화\n",
    "1. 첫 번째 함수 매개변수 4개(데이터프레임, 선택 컬럼, 시작시간, 종료시간)\n",
    "    - 인덱스가 Date인지 확인 후 아니라면 인덱스를 Date로 변경\n",
    "    - 인덱스를 시계열로 변경\n",
    "    - 선택 컬럼만 두고 나머지 컬럼들을 모두 삭제  \n",
    "    - 결측치, 이상치(무한대) 값들을 제거 \n",
    "    - 이동평균선, 상단밴드, 하단밴드 파생변수 생성\n",
    "    - 시작시간과 종료시간으로 데이터를 필터링\n",
    "    - 결과를 리턴\n",
    "2. 두 번째 함수 생성 매개변수 1개(데이터프레임(1번 함수에서 나온 결과), 선택 컬럼)\n",
    "    - 거래 내역이라는 파생 변수 생성 (데이터는 \"\")\n",
    "    - 볼린저 밴드를 이용하여 거래 내역 추가&출력(print)\n",
    "    - 결과를 리턴\n",
    "3. 세 번째 함수 생성 매개 변수 1개 (데이터프레임(2번 함수에서 나온 결과))\n",
    "    - 수익율 파생 변수 생성 (데이터는 1)\n",
    "    - 판매를 한 날의 수익율 변경\n",
    "    - 누적 수익율을 계산하여 새로운 파생변수에 대입 \n",
    "    - 최종 수익율을 출력(print)\n",
    "    - 결과를 리턴"
   ]
  },
  {
   "cell_type": "code",
   "execution_count": null,
   "metadata": {},
   "outputs": [],
   "source": [
    "# 첫번째 함수 생성\n",
    "def create_band(df, col = 'Close', start = '20100101', end = '20230818'):\n",
    "    # 컬럼에 Date가 존재한다면\n",
    "    if 'Date' in df.columns:\n",
    "        # Date를 인덱스로 변경\n",
    "        df = df.set_index('Date')\n",
    "    # 인덱스를 시계열 변경\n",
    "    df.index = pd.to_datetime(df.index, format='%Y-%m-%d')\n",
    "    # 선택한 컬럼을 제외한 나머지 컬럼은 삭제 -> 선택한 컬럼만 출력\n",
    "    df = df[[col]]\n",
    "    # 결측치, 무한대가 아닌 인덱스의 조건식\n",
    "    flag = ~df.isin([np.nan, np.inf, -np.inf]).any(axis=1)\n",
    "    # 인덱스 조건식을 df에 넣어준다. \n",
    "    df = df.loc[flag]\n",
    "    # 이동 평균선 생성\n",
    "    df['center'] = df[col].rolling(20).mean()\n",
    "    # 상단 밴드 생성\n",
    "    df['ub'] = df['center'] + (2 * df[col].rolling(20).std())\n",
    "    # 하단 밴드 생성\n",
    "    df['lb'] = df['center'] - (2 * df[col].rolling(20).std())\n",
    "    # 시작 시간과 종료시간으로 필터링\n",
    "    start = datetime.strptime(start, '%Y%m%d').isoformat()\n",
    "    end = datetime.strptime(end, '%Y%m%d').isoformat()\n",
    "    df = df.loc[start:end]\n",
    "    return df"
   ]
  },
  {
   "cell_type": "code",
   "execution_count": null,
   "metadata": {},
   "outputs": [],
   "source": [
    "df2 = pd.read_csv('../../csv/BND.csv')"
   ]
  },
  {
   "cell_type": "code",
   "execution_count": null,
   "metadata": {},
   "outputs": [],
   "source": [
    "result = create_band(df2, 'Close', '20100101', '20230818')"
   ]
  },
  {
   "cell_type": "code",
   "execution_count": null,
   "metadata": {},
   "outputs": [],
   "source": [
    "# 두 번째 함수 생성\n",
    "# 매개변수 2개(데이터프레임, 컬럼)\n",
    "def add_trade(df):\n",
    "    col = df.columns[0]\n",
    "    # 거래 내역이라는 파생 변수를 생성\n",
    "    df['trade'] = \"\"\n",
    "    # 거래 내역을 추가\n",
    "    for i in df.index:\n",
    "        # 상단밴드보다 종가가 높은 경우\n",
    "        if df.loc[i, col] > df.loc[i, 'ub']:\n",
    "            df.loc[i, 'trade'] = ''\n",
    "        # 종가가 하단밴드보다 낮은 경우\n",
    "        elif df.loc[i, col] < df.loc[i, 'lb']:\n",
    "            df.loc[i, 'trade'] = 'buy'\n",
    "            # 구매 날짜에 출력\n",
    "            if df.shift(1).loc[i, 'trade'] == '':\n",
    "                print('구매일 :', i)\n",
    "        # 종가가 밴드 사이에 있는 경우\n",
    "        else:\n",
    "            # 현재 구매상태라면?\n",
    "            if df.shift(1).loc[i, 'trade'] == 'buy':\n",
    "                df.loc[i, 'trade'] = 'buy'\n",
    "            else:\n",
    "                df.loc[i, 'trade'] = ''\n",
    "    \n",
    "    return df\n",
    "        "
   ]
  },
  {
   "cell_type": "code",
   "execution_count": null,
   "metadata": {},
   "outputs": [],
   "source": [
    "result = add_trade(result)"
   ]
  },
  {
   "cell_type": "code",
   "execution_count": null,
   "metadata": {},
   "outputs": [],
   "source": [
    "# 세 번째 함수\n",
    "def add_rtn(df):\n",
    "    # 기준이 되는 종가\n",
    "    col = df.columns[0]\n",
    "    # 수익율 파생변수 생성(데이터 1)\n",
    "    df['return'] = 1\n",
    "    # 수익율, 구매가, 판매가 변수 생성\n",
    "    rtn = 1.0\n",
    "    buy = 0.0\n",
    "    sell = 0.0\n",
    "\n",
    "    # 수익율 대입 \n",
    "    for i in df.index:\n",
    "        # 매수가를 입력\n",
    "        if (df.shift(1).loc[i, 'trade'] == '') and \\\n",
    "            (df.loc[i, 'trade'] == 'buy'):\n",
    "            buy = df.loc[i, col]\n",
    "            print('매수일 :', i, '매수가 :', buy)\n",
    "        # 매도가, 수익율을 입력\n",
    "        elif (df.shift(1).loc[i, 'trade'] == 'buy') and \\\n",
    "            (df.loc[i, 'trade'] == ''):\n",
    "            sell = df.loc[i, col]\n",
    "            # 수익율 계산\n",
    "            # buy -> 100, sell -> 120  수익율 +20% / 120%\n",
    "            # (120 - 100) / 100 + 1 -> 1.2\n",
    "            rtn = (sell - buy) / buy + 1\n",
    "            # 수익율을 데이터프레임에 대입\n",
    "            df.loc[i, 'return'] = rtn\n",
    "            print('매도일 :', i, '매도가 :', sell, '수익율 :', rtn)\n",
    "        \n",
    "    # 누적 수익율 계산\n",
    "\n",
    "    # 누적 수익율 기본값 생성\n",
    "    acc_rtn = 1.0\n",
    "\n",
    "    for i in df.index:\n",
    "        rtn = df.loc[i, 'return']\n",
    "        acc_rtn *= rtn\n",
    "        df.loc[i, 'acc_rtn'] = acc_rtn\n",
    "    \n",
    "    # 누적 수익율을 출력\n",
    "    print(\"누적 수익율 :\",acc_rtn)\n",
    "\n",
    "    return df"
   ]
  },
  {
   "cell_type": "code",
   "execution_count": null,
   "metadata": {},
   "outputs": [],
   "source": [
    "add_rtn(result)"
   ]
  },
  {
   "cell_type": "code",
   "execution_count": null,
   "metadata": {},
   "outputs": [],
   "source": [
    "result['trade'].value_counts()"
   ]
  },
  {
   "cell_type": "code",
   "execution_count": null,
   "metadata": {},
   "outputs": [],
   "source": [
    "import bollinger"
   ]
  },
  {
   "cell_type": "code",
   "execution_count": null,
   "metadata": {},
   "outputs": [],
   "source": [
    "df = pd.read_csv('../../csv/AAPL.csv')"
   ]
  },
  {
   "cell_type": "code",
   "execution_count": null,
   "metadata": {},
   "outputs": [],
   "source": [
    "# 밴드 생성 함수 호출\n",
    "result = bollinger.create_band(df, start = '20130101')"
   ]
  },
  {
   "cell_type": "code",
   "execution_count": null,
   "metadata": {},
   "outputs": [],
   "source": [
    "result.head(3)"
   ]
  },
  {
   "cell_type": "code",
   "execution_count": null,
   "metadata": {},
   "outputs": [],
   "source": [
    "# 거래 내역 추가 함수 호출\n",
    "result = bollinger.add_trade(result)\n",
    "result.head(3)"
   ]
  },
  {
   "cell_type": "code",
   "execution_count": null,
   "metadata": {},
   "outputs": [],
   "source": [
    "# 수익율 추가, 수익율 계산 하는 함수 호출\n",
    "result = bollinger.add_rtn(result)\n",
    "result.tail(3)"
   ]
  },
  {
   "cell_type": "code",
   "execution_count": null,
   "metadata": {},
   "outputs": [],
   "source": []
  }
 ],
 "metadata": {
  "kernelspec": {
   "display_name": "Python 3",
   "language": "python",
   "name": "python3"
  },
  "language_info": {
   "codemirror_mode": {
    "name": "ipython",
    "version": 3
   },
   "file_extension": ".py",
   "mimetype": "text/x-python",
   "name": "python",
   "nbconvert_exporter": "python",
   "pygments_lexer": "ipython3",
   "version": "3.11.1"
  },
  "orig_nbformat": 4
 },
 "nbformat": 4,
 "nbformat_minor": 2
}
