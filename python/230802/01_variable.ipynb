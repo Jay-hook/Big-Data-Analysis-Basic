{
 "cells": [
  {
   "cell_type": "code",
   "execution_count": null,
   "metadata": {},
   "outputs": [],
   "source": [
    "# 변수 생성\n",
    "\n",
    "a = 10 \n",
    "b = 'test'"
   ]
  },
  {
   "cell_type": "code",
   "execution_count": null,
   "metadata": {},
   "outputs": [],
   "source": [
    "print(a)"
   ]
  },
  {
   "cell_type": "code",
   "execution_count": null,
   "metadata": {},
   "outputs": [],
   "source": [
    "b"
   ]
  },
  {
   "cell_type": "code",
   "execution_count": null,
   "metadata": {},
   "outputs": [],
   "source": [
    "c = \"10\""
   ]
  },
  {
   "cell_type": "code",
   "execution_count": null,
   "metadata": {},
   "outputs": [],
   "source": [
    "print(type(c))"
   ]
  },
  {
   "cell_type": "markdown",
   "metadata": {},
   "source": [
    "# title1\n",
    "## title2\n",
    "### title3\n",
    "\n",
    "1. 순서형 리스트1\n",
    "    1. 자식 리스트1\n",
    "    2. 자식 리스트2\n",
    "2. 순서형 리스트2\n",
    "3. 순서형 리스트3\n",
    "\n",
    "- 비순서형 리스트1\n",
    "    - 자식 리스트1\n",
    "    - 자식 리스트2\n",
    "- 비순서형 리스트2\n",
    "- 비순서형 리스트3"
   ]
  },
  {
   "cell_type": "markdown",
   "metadata": {},
   "source": [
    "### 조건문 \n",
    "\n",
    "1. if문 "
   ]
  },
  {
   "cell_type": "code",
   "execution_count": null,
   "metadata": {},
   "outputs": [],
   "source": [
    "a = 15\n",
    "\n",
    "if a < 10 :\n",
    "    print('a는 10보다 작다')"
   ]
  },
  {
   "cell_type": "code",
   "execution_count": null,
   "metadata": {},
   "outputs": [],
   "source": [
    "# 여러 개의 조건식을 이용하여 출력을 여러 가지로 지정 \n",
    "score = int(input(\"점수를 입력하시오 :\"))\n",
    "\n",
    "if score >= 90 :\n",
    "    print('A')\n",
    "elif score >= 80:\n",
    "    print('B')\n",
    "elif score >= 70:\n",
    "    print('C')\n",
    "else :\n",
    "    print('D')"
   ]
  },
  {
   "cell_type": "markdown",
   "metadata": {},
   "source": [
    "### 반복문 \n",
    "1. for문 \n",
    "2. while문"
   ]
  },
  {
   "cell_type": "code",
   "execution_count": null,
   "metadata": {},
   "outputs": [],
   "source": [
    "list(range(1, 11, 1))"
   ]
  },
  {
   "cell_type": "code",
   "execution_count": null,
   "metadata": {},
   "outputs": [],
   "source": [
    "for i in range(1, 6, 1):\n",
    "    print(i)"
   ]
  },
  {
   "cell_type": "code",
   "execution_count": null,
   "metadata": {},
   "outputs": [],
   "source": [
    "_list = [10, 4, 7, 20]\n",
    "for i in _list:\n",
    "    print(i)"
   ]
  },
  {
   "cell_type": "code",
   "execution_count": null,
   "metadata": {},
   "outputs": [],
   "source": [
    "for i in range(len(_list)):\n",
    "    print(_list[i])"
   ]
  },
  {
   "cell_type": "code",
   "execution_count": null,
   "metadata": {},
   "outputs": [],
   "source": [
    "_list2 = ['test2', 'test', 'test4']\n",
    "\n",
    "for i in _list2:\n",
    "    print(i)"
   ]
  },
  {
   "cell_type": "code",
   "execution_count": null,
   "metadata": {},
   "outputs": [],
   "source": [
    "# 1부터 10까지의 합계를 구한다. \n",
    "\n",
    "# 초기 합계 변수를 0으로 생성\n",
    "result = 0\n",
    "\n",
    "for i in range(1, 11, 1):\n",
    "    # result = result + i\n",
    "    result += i\n",
    "print(result)"
   ]
  },
  {
   "cell_type": "code",
   "execution_count": null,
   "metadata": {},
   "outputs": [],
   "source": [
    "# 1부터 100까지의 짝수들의 합계\n",
    "result = 0\n",
    "for i in range(1, 101, 1):\n",
    "    if i % 2 == 0:\n",
    "        result += i\n",
    "\n",
    "print(result)"
   ]
  },
  {
   "cell_type": "code",
   "execution_count": null,
   "metadata": {},
   "outputs": [],
   "source": [
    "result = 0\n",
    "for i in range(1, 101, 1):\n",
    "    if i % 2 == 1 :\n",
    "        continue\n",
    "    result += i\n",
    "print(result)"
   ]
  },
  {
   "cell_type": "code",
   "execution_count": null,
   "metadata": {},
   "outputs": [],
   "source": [
    "result = 0 \n",
    "for i in range(2, 101, 2):\n",
    "    result += i\n",
    "\n",
    "print(result)"
   ]
  },
  {
   "cell_type": "code",
   "execution_count": null,
   "metadata": {},
   "outputs": [],
   "source": [
    "# while문 \n",
    "\n",
    "# 합계 변수\n",
    "result = 0 \n",
    "# 초기값\n",
    "i = 1 \n",
    "\n",
    "while i <= 10:\n",
    "    # result += i\n",
    "    result = result + i \n",
    "    i += 1\n",
    "\n",
    "print(result)\n"
   ]
  },
  {
   "cell_type": "markdown",
   "metadata": {},
   "source": [
    "- 2개의 주사위를 굴려서 두 주사위의 합이 5의 배수인 경우를 출력하시오\n",
    "    1. 첫번째 주사위의 경우의 수 (반복문)\n",
    "    2. 첫번째 반복문 안에서 두번째 주사위의 경우의 수 \n",
    "    3. 두 주사위의 합이 5의 배수인 경우 -> print() "
   ]
  },
  {
   "cell_type": "code",
   "execution_count": null,
   "metadata": {},
   "outputs": [],
   "source": [
    "# 첫번째 주사위의 경우의 수\n",
    "for i in range(1, 7, 1):\n",
    "    # 두번째 주사위의 경우의 수\n",
    "    for j in range(1, 7, 1):\n",
    "        add_dice = i + j\n",
    "        if add_dice % 5 == 0:\n",
    "            print(i, j)"
   ]
  },
  {
   "cell_type": "markdown",
   "metadata": {},
   "source": [
    "### 문제 \n",
    "- 페르마의 마지막 정리를 증명하시오 \n",
    "    > a<sup>n</sup> + b<sup>n</sup> = c<sup>n</sup> 이 수식에서 n의 값이 2보다 큰 자연수이면 a, b, c의 자연수 값이 존재하지 않는다. \n",
    "    \n",
    "    > n의 값이 3인 경우 a, b, c가 1부터 10까지 이 정리가 사실임을 증명하시오\n",
    "- 다중 for문과 if문을 사용"
   ]
  },
  {
   "cell_type": "code",
   "execution_count": null,
   "metadata": {},
   "outputs": [],
   "source": [
    "n = 3\n",
    "start = 1\n",
    "end = 11\n",
    "\n",
    "for a in range(start, end, 1):\n",
    "    for b in range(start, end, 1):\n",
    "        for c in range(start, end, 1):\n",
    "            if a**n + b**n == c**n:\n",
    "                print(a, b, c)\n",
    "\n",
    "print('증명 작업 종료')"
   ]
  },
  {
   "cell_type": "code",
   "execution_count": null,
   "metadata": {},
   "outputs": [],
   "source": [
    "def func_1(n, start, end):\n",
    "    for a in range(start, end, 1):\n",
    "        for b in range(start, end, 1):\n",
    "            for c in range(start, end, 1):\n",
    "                if a**n + b**n == c**n:\n",
    "                    print(a, b, c)\n",
    "\n",
    "    print('증명 작업 종료')"
   ]
  },
  {
   "cell_type": "code",
   "execution_count": null,
   "metadata": {},
   "outputs": [],
   "source": [
    "func_1(4, 5, 16)"
   ]
  },
  {
   "cell_type": "code",
   "execution_count": null,
   "metadata": {},
   "outputs": [],
   "source": [
    "# continue \n",
    "\n",
    "for i in range(1, 11, 1):\n",
    "    print(i)\n",
    "    if i < 3:\n",
    "        continue"
   ]
  },
  {
   "cell_type": "code",
   "execution_count": null,
   "metadata": {},
   "outputs": [],
   "source": [
    "# break \n",
    "for i in range(1, 101, 1):\n",
    "    print(i)\n",
    "    if i > 10:\n",
    "        break"
   ]
  },
  {
   "cell_type": "markdown",
   "metadata": {},
   "source": [
    "### 문제 \n",
    "- 1부터 1000까지의 합계를 구하는 중 합계가 1200이 넘어가는 최초의 숫자를 무엇인가?\n",
    "    1. 합계라는 변수를 생성하여 0을 대입 \n",
    "    2. for, while문을 이용하여 1부터 1000까지의 합계\n",
    "    3. 합계가 1200이 넘어가는 순간 반복을 종료\n",
    "    4. 종료되었을때의 합계와 i의 값을 출력"
   ]
  },
  {
   "cell_type": "code",
   "execution_count": null,
   "metadata": {},
   "outputs": [],
   "source": [
    "# for 문\n",
    "\n",
    "result = 0\n",
    "\n",
    "for i in range(1, 1001, 1):\n",
    "    result += i\n",
    "    if result > 1200:\n",
    "        break\n",
    "\n",
    "print(result)\n",
    "print(i)"
   ]
  },
  {
   "cell_type": "code",
   "execution_count": null,
   "metadata": {},
   "outputs": [],
   "source": [
    "result  = 0 \n",
    "for i in range(1, 51, 1):\n",
    "    result += i\n",
    "\n",
    "print(result)"
   ]
  },
  {
   "cell_type": "code",
   "execution_count": null,
   "metadata": {},
   "outputs": [],
   "source": [
    "# while \n",
    "\n",
    "result = 0\n",
    "\n",
    "i = 1\n",
    "\n",
    "while i <= 1000:\n",
    "    result += i\n",
    "    if result > 1200:\n",
    "        break\n",
    "    i += 1\n",
    "\n",
    "print(result)\n",
    "print(i)"
   ]
  },
  {
   "cell_type": "markdown",
   "metadata": {},
   "source": [
    "### 자료형 데이터 \n",
    "1. 튜플 \n",
    "    - 가장 기본적인 자료형 데이터 \n",
    "    - 내부의 원소들의 수정이 불가능\n",
    "2. 리스트 \n",
    "    - 튜플과 다르게 내부의 원소들의 수정이 가능\n",
    "    - 내장 함수를 가지고 있어 데이터의 추가, 삭제, 수정들이 용이 \n",
    "3. 딕셔너리 \n",
    "    - 사전형 데이터를 의미한다. \n",
    "    - R에서 리스트의 형태와 흡사\n",
    "    - key : value의 형태로 이루어져있다. "
   ]
  },
  {
   "cell_type": "code",
   "execution_count": null,
   "metadata": {},
   "outputs": [],
   "source": [
    "# 튜플 \n",
    "a = (1, 'Hello')\n",
    "b = (3, 3.14)\n",
    "\n",
    "# 튜플 끼리의 합 2개의 튜플이 연결\n",
    "c = a + b\n",
    "d = a * 3\n",
    "\n",
    "print(c)\n",
    "print(d)"
   ]
  },
  {
   "cell_type": "code",
   "execution_count": null,
   "metadata": {},
   "outputs": [],
   "source": [
    "# 튜플에서 각 원소들을 추출 하려면? \n",
    "# 튜플명[위치값]\n",
    "\n",
    "print(a[0])"
   ]
  },
  {
   "cell_type": "code",
   "execution_count": null,
   "metadata": {},
   "outputs": [],
   "source": [
    "print(a[1][0])"
   ]
  },
  {
   "cell_type": "code",
   "execution_count": null,
   "metadata": {},
   "outputs": [],
   "source": [
    "a = (10, 20, 30, 40)\n",
    "\n",
    "# 2번째 원소부터 3번째 원소까지 출력하려면?\n",
    "print(a[1:3])\n",
    "\n",
    "# 가장 마지막 원소를 출력하려면?\n",
    "print(a[-1])"
   ]
  },
  {
   "cell_type": "code",
   "execution_count": null,
   "metadata": {},
   "outputs": [],
   "source": [
    "## 리스트 \n",
    "a = [20, 10, 40, 30]\n",
    "b = [10, 20, 40, 30]"
   ]
  },
  {
   "cell_type": "code",
   "execution_count": null,
   "metadata": {},
   "outputs": [],
   "source": [
    "# 리스트의 원소들을 오름차순 정렬\n",
    "a.sort()"
   ]
  },
  {
   "cell_type": "code",
   "execution_count": null,
   "metadata": {},
   "outputs": [],
   "source": [
    "print(a)"
   ]
  },
  {
   "cell_type": "code",
   "execution_count": null,
   "metadata": {},
   "outputs": [],
   "source": [
    "## 리스트의 원소들을 내림차순 정렬\n",
    "# case1\n",
    "# a.sort(reverse=True)\n",
    "# case2\n",
    "a.sort()\n",
    "a.reverse()"
   ]
  },
  {
   "cell_type": "code",
   "execution_count": null,
   "metadata": {},
   "outputs": [],
   "source": [
    "print(a)"
   ]
  },
  {
   "cell_type": "code",
   "execution_count": null,
   "metadata": {},
   "outputs": [],
   "source": [
    "# 리스트의 마지막 원소를 삭제 \n",
    "a.pop()\n",
    "print(a)"
   ]
  },
  {
   "cell_type": "code",
   "execution_count": null,
   "metadata": {},
   "outputs": [],
   "source": [
    "# 리스트의 마지막에 원소를 추가\n",
    "b.append(22)\n",
    "print(b)"
   ]
  },
  {
   "cell_type": "code",
   "execution_count": null,
   "metadata": {},
   "outputs": [],
   "source": [
    "# 리스트는 0개 이상의 리스트를 생성\n",
    "result = []\n",
    "\n",
    "for i in range(1, 11, 1):\n",
    "    if i % 2 == 0:\n",
    "        result.append(i)\n",
    "\n",
    "print(result)"
   ]
  },
  {
   "cell_type": "code",
   "execution_count": null,
   "metadata": {},
   "outputs": [],
   "source": [
    "result = [] \n",
    "\n",
    "for i in range(1, 7, 1):\n",
    "    for j in range(1, 7, 1):\n",
    "        if (i + j) % 5 == 0:\n",
    "            result.append((i, j))\n",
    "\n",
    "print(result)"
   ]
  },
  {
   "cell_type": "code",
   "execution_count": null,
   "metadata": {},
   "outputs": [],
   "source": [
    "## 딕셔너리 \n",
    "# 사전형 데이터 \n",
    "dict = {\n",
    "    'name' : 'test', \n",
    "    'age' : 20, \n",
    "    'phone' : '01012345678'\n",
    "}"
   ]
  },
  {
   "cell_type": "code",
   "execution_count": null,
   "metadata": {},
   "outputs": [],
   "source": [
    "# test 라는 문자열을 출력하려면\n",
    "print(dict['name'])"
   ]
  },
  {
   "cell_type": "code",
   "execution_count": null,
   "metadata": {},
   "outputs": [],
   "source": [
    "## 새로운 키값에 데이터를 대입 \n",
    "dict['area'] = 'Seoul'\n",
    "print(dict)"
   ]
  },
  {
   "cell_type": "code",
   "execution_count": null,
   "metadata": {},
   "outputs": [],
   "source": [
    "# DB에서 python을 이용하여 데이터를 로드 할때의 데이터의 형태\n",
    "# [{}, {}, {}, ...]\n",
    "test_data = [\n",
    "    {\n",
    "        'id' : 'test', \n",
    "        'password' : '1234'\n",
    "    }, \n",
    "    {\n",
    "        'id' : 'test2', \n",
    "        'password' : '1111'\n",
    "    }\n",
    "]"
   ]
  },
  {
   "cell_type": "code",
   "execution_count": null,
   "metadata": {},
   "outputs": [],
   "source": [
    "type(test_data)"
   ]
  },
  {
   "cell_type": "code",
   "execution_count": null,
   "metadata": {},
   "outputs": [],
   "source": [
    "print(test_data[1])"
   ]
  },
  {
   "cell_type": "code",
   "execution_count": null,
   "metadata": {},
   "outputs": [],
   "source": [
    "print(test_data[1]['id'])"
   ]
  },
  {
   "cell_type": "code",
   "execution_count": null,
   "metadata": {},
   "outputs": [],
   "source": [
    "for i in test_data:\n",
    "    print(type(i))\n",
    "    print(i['id'])"
   ]
  },
  {
   "cell_type": "code",
   "execution_count": null,
   "metadata": {},
   "outputs": [],
   "source": [
    "## test_data에 있는 id 값들만 추출하여 새로운 리스트를 생성\n",
    "\n",
    "print(test_data[0]['id'])\n",
    "print(test_data[1]['id'])\n"
   ]
  },
  {
   "cell_type": "code",
   "execution_count": null,
   "metadata": {},
   "outputs": [],
   "source": [
    "# 새로운 리스트 생성 \n",
    "result = []\n",
    "\n",
    "for i in test_data:\n",
    "    result.append(i['id'])\n",
    "\n",
    "print(result)"
   ]
  },
  {
   "cell_type": "code",
   "execution_count": null,
   "metadata": {},
   "outputs": [],
   "source": [
    "test_data = [\n",
    "    {\n",
    "        'name' : 'test', \n",
    "        'age' : 20\n",
    "    }, \n",
    "    {\n",
    "        'name' : 'test2', \n",
    "        'age' : 25\n",
    "    }, \n",
    "    {\n",
    "        'name' : 'test3', \n",
    "        'age' : 30\n",
    "    }\n",
    "]"
   ]
  },
  {
   "cell_type": "markdown",
   "metadata": {},
   "source": [
    "### 문제 \n",
    "- test_data에서 연령대가 20대인 사람의 이름을 리스트 출력하시오\n",
    "    1. 비어있는 새로운 리스트 하나 생성\n",
    "    2. test_data의 항목들을 반복문을 이용하여 출력\n",
    "    3. 각 항목들의 나이를 출력\n",
    "    4. 조건문을 생성하여 연령대가 20대인 항목들을 출력\n",
    "    5. 연령대가 20대인 이름 값들만 출력\n",
    "    6. 5번 과정에서 이름 값들을 새로운 리스트에 추가 \n",
    "    7. 리스트 출력"
   ]
  },
  {
   "cell_type": "code",
   "execution_count": 63,
   "metadata": {},
   "outputs": [
    {
     "name": "stdout",
     "output_type": "stream",
     "text": [
      "['test', 'test2']\n"
     ]
    }
   ],
   "source": [
    "# 1. 비어있는 리스트 생성\n",
    "result = []\n",
    "\n",
    "# case1\n",
    "for i in test_data:\n",
    "    # i의 데이터의 형태가 dict(리스트의 항목들의 데이터)\n",
    "    # print(i['age'])\n",
    "    # 연령대가 20대인 조건식 \n",
    "    if (i['age'] >= 20) & (i['age'] < 30):\n",
    "        # print(i['name'])\n",
    "        result.append(i['name'])\n",
    "print(result)"
   ]
  },
  {
   "cell_type": "code",
   "execution_count": 65,
   "metadata": {},
   "outputs": [
    {
     "name": "stdout",
     "output_type": "stream",
     "text": [
      "['test', 'test2']\n"
     ]
    }
   ],
   "source": [
    "result = []\n",
    "\n",
    "for i in range(0, len(test_data), 1):\n",
    "    # i의 데이터의 형태가 int(인덱스값)\n",
    "    # test_data[i] -> dict 형태의 데이터\n",
    "    # print(test_data[i]['age'])\n",
    "\n",
    "    if test_data[i]['age'] // 10 == 2:\n",
    "        # print(test_data[i]['name'])\n",
    "        result.append(test_data[i]['name'])\n",
    "print(result)"
   ]
  }
 ],
 "metadata": {
  "kernelspec": {
   "display_name": "Python 3",
   "language": "python",
   "name": "python3"
  },
  "language_info": {
   "codemirror_mode": {
    "name": "ipython",
    "version": 3
   },
   "file_extension": ".py",
   "mimetype": "text/x-python",
   "name": "python",
   "nbconvert_exporter": "python",
   "pygments_lexer": "ipython3",
   "version": "3.11.1"
  },
  "orig_nbformat": 4
 },
 "nbformat": 4,
 "nbformat_minor": 2
}
