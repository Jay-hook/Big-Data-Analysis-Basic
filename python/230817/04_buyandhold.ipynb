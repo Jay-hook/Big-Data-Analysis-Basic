{
 "cells": [
  {
   "cell_type": "markdown",
   "metadata": {},
   "source": [
    "### Buy and Hold\n",
    "1. 구매 후 일정 기간이 지나면 판매"
   ]
  },
  {
   "cell_type": "code",
   "execution_count": null,
   "metadata": {},
   "outputs": [],
   "source": [
    "import pandas as pd\n",
    "import numpy as np"
   ]
  },
  {
   "cell_type": "code",
   "execution_count": null,
   "metadata": {},
   "outputs": [],
   "source": [
    "df = pd.read_csv('../../csv/AAPL.csv', index_col='Date')\n",
    "df.head(1)"
   ]
  },
  {
   "cell_type": "code",
   "execution_count": null,
   "metadata": {},
   "outputs": [],
   "source": [
    "# 결측치와 무한대 값들이 존재하는가?\n",
    "df.isin([np.nan, np.inf, -np.inf]).any(axis=0)"
   ]
  },
  {
   "cell_type": "code",
   "execution_count": null,
   "metadata": {},
   "outputs": [],
   "source": [
    "df.loc[:, (df.isin([np.nan, np.inf, -np.inf]).any(axis=0))]"
   ]
  },
  {
   "cell_type": "code",
   "execution_count": null,
   "metadata": {},
   "outputs": [],
   "source": [
    "# 결측치와 무한대의 값을 제외한 데이터\n",
    "df = df.loc[~(df.isin([np.nan, np.inf, -np.inf]).any(axis=1))]"
   ]
  },
  {
   "cell_type": "code",
   "execution_count": null,
   "metadata": {},
   "outputs": [],
   "source": [
    "# 수정종가를 기준으로 구매와 판매를 하여 수익율 계산\n",
    "price_df = df[['Adj Close']]"
   ]
  },
  {
   "cell_type": "code",
   "execution_count": null,
   "metadata": {},
   "outputs": [],
   "source": [
    "price_df.plot()"
   ]
  },
  {
   "cell_type": "code",
   "execution_count": null,
   "metadata": {},
   "outputs": [],
   "source": [
    "# 일별 수익율\n",
    "# (오늘의 종가 - 전날의 종가) / 전날의 종가\n",
    "# case1\n",
    "(price_df['Adj Close'] - price_df['Adj Close'].shift(1)) \\\n",
    "    / price_df['Adj Close'].shift(1)\n",
    "# case2\n",
    "price_df['Adj Close'].diff() / price_df['Adj Close'].shift()\n",
    "# case3 \n",
    "price_df['daily_rtn'] = price_df['Adj Close'].pct_change()"
   ]
  },
  {
   "cell_type": "code",
   "execution_count": null,
   "metadata": {},
   "outputs": [],
   "source": [
    "price_df.head(4)"
   ]
  },
  {
   "cell_type": "code",
   "execution_count": null,
   "metadata": {},
   "outputs": [],
   "source": [
    "test_df = price_df.iloc[6000:8000]"
   ]
  },
  {
   "cell_type": "code",
   "execution_count": null,
   "metadata": {},
   "outputs": [],
   "source": [
    "# 수익율 계산\n",
    "test_df.iloc[-1, 0] / test_df.iloc[0, 0]"
   ]
  },
  {
   "cell_type": "code",
   "execution_count": null,
   "metadata": {},
   "outputs": [],
   "source": [
    "# 일별 수익율 가지고 수익율 계산\n",
    "\n",
    "# 초기 수익율 1로 지정\n",
    "rtn = 1\n",
    "\n",
    "# (일별 수익율 + 1) * rtn -> 수익율\n",
    "for i in range(len(test_df)):\n",
    "    # i는 인덱스의 위치값\n",
    "    # rtn = (test_df.iloc[i, 1] + 1) * rtn\n",
    "    rtn *= (test_df.iloc[i, 1] + 1)\n",
    "print(rtn)"
   ]
  },
  {
   "cell_type": "code",
   "execution_count": null,
   "metadata": {},
   "outputs": [],
   "source": [
    "# 누적곱을 구하는 함수\n",
    "(1 + test_df['daily_rtn']).cumprod()"
   ]
  }
 ],
 "metadata": {
  "kernelspec": {
   "display_name": "Python 3",
   "language": "python",
   "name": "python3"
  },
  "language_info": {
   "codemirror_mode": {
    "name": "ipython",
    "version": 3
   },
   "file_extension": ".py",
   "mimetype": "text/x-python",
   "name": "python",
   "nbconvert_exporter": "python",
   "pygments_lexer": "ipython3",
   "version": "3.11.1"
  },
  "orig_nbformat": 4
 },
 "nbformat": 4,
 "nbformat_minor": 2
}
