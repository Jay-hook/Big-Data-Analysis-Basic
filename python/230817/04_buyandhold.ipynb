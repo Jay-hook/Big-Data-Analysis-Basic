{
 "cells": [
  {
   "cell_type": "markdown",
   "metadata": {},
   "source": [
    "### Buy and Hold\n",
    "1. 구매 후 일정 기간이 지나면 판매"
   ]
  },
  {
   "cell_type": "code",
   "execution_count": null,
   "metadata": {},
   "outputs": [],
   "source": [
    "import pandas as pd\n",
    "import numpy as np"
   ]
  },
  {
   "cell_type": "code",
   "execution_count": null,
   "metadata": {},
   "outputs": [],
   "source": [
    "df = pd.read_csv('../../csv/AAPL.csv', index_col='Date')\n",
    "df.head(1)"
   ]
  },
  {
   "cell_type": "code",
   "execution_count": null,
   "metadata": {},
   "outputs": [],
   "source": [
    "# 결측치와 무한대 값들이 존재하는가?\n",
    "df.isin([np.nan, np.inf, -np.inf]).any(axis=0)"
   ]
  },
  {
   "cell_type": "code",
   "execution_count": null,
   "metadata": {},
   "outputs": [],
   "source": [
    "df.loc[:, (df.isin([np.nan, np.inf, -np.inf]).any(axis=0))]"
   ]
  },
  {
   "cell_type": "code",
   "execution_count": null,
   "metadata": {},
   "outputs": [],
   "source": [
    "# 결측치와 무한대의 값을 제외한 데이터\n",
    "df = df.loc[~(df.isin([np.nan, np.inf, -np.inf]).any(axis=1))]"
   ]
  },
  {
   "cell_type": "code",
   "execution_count": null,
   "metadata": {},
   "outputs": [],
   "source": [
    "# 수정종가를 기준으로 구매와 판매를 하여 수익율 계산\n",
    "price_df = df[['Adj Close']]"
   ]
  },
  {
   "cell_type": "code",
   "execution_count": null,
   "metadata": {},
   "outputs": [],
   "source": [
    "price_df.plot()"
   ]
  },
  {
   "cell_type": "code",
   "execution_count": null,
   "metadata": {},
   "outputs": [],
   "source": [
    "# 일별 수익율\n",
    "# (오늘의 종가 - 전날의 종가) / 전날의 종가\n",
    "# case1\n",
    "(price_df['Adj Close'] - price_df['Adj Close'].shift(1)) \\\n",
    "    / price_df['Adj Close'].shift(1)\n",
    "# case2\n",
    "price_df['Adj Close'].diff() / price_df['Adj Close'].shift()\n",
    "# case3 \n",
    "price_df['daily_rtn'] = price_df['Adj Close'].pct_change()"
   ]
  },
  {
   "cell_type": "code",
   "execution_count": null,
   "metadata": {},
   "outputs": [],
   "source": [
    "price_df.head(4)"
   ]
  },
  {
   "cell_type": "code",
   "execution_count": null,
   "metadata": {},
   "outputs": [],
   "source": [
    "test_df = price_df.iloc[6000:8000]"
   ]
  },
  {
   "cell_type": "code",
   "execution_count": null,
   "metadata": {},
   "outputs": [],
   "source": [
    "# 수익율 계산\n",
    "test_df.iloc[-1, 0] / test_df.iloc[0, 0]"
   ]
  },
  {
   "cell_type": "code",
   "execution_count": null,
   "metadata": {},
   "outputs": [],
   "source": [
    "# 일별 수익율 가지고 수익율 계산\n",
    "\n",
    "# 초기 수익율 1로 지정\n",
    "rtn = 1\n",
    "\n",
    "# (일별 수익율 + 1) * rtn -> 수익율\n",
    "for i in range(len(test_df)):\n",
    "    # i는 인덱스의 위치값\n",
    "    # rtn = (test_df.iloc[i, 1] + 1) * rtn\n",
    "    rtn *= (test_df.iloc[i, 1] + 1)\n",
    "print(rtn)"
   ]
  },
  {
   "cell_type": "code",
   "execution_count": null,
   "metadata": {},
   "outputs": [],
   "source": [
    "# 누적곱을 구하는 함수\n",
    "test_df['st_rtn'] = (1 + test_df['daily_rtn']).cumprod()"
   ]
  },
  {
   "cell_type": "code",
   "execution_count": 31,
   "metadata": {},
   "outputs": [
    {
     "data": {
      "text/plain": [
       "<AxesSubplot: xlabel='Date'>"
      ]
     },
     "execution_count": 31,
     "metadata": {},
     "output_type": "execute_result"
    },
    {
     "data": {
      "image/png": "[encoded data removed]",
      "text/plain": [
       "<Figure size 640x480 with 1 Axes>"
      ]
     },
     "metadata": {},
     "output_type": "display_data"
    }
   ],
   "source": [
    "# back testing \n",
    "\n",
    "# 최대낙폭\n",
    "\n",
    "# 기준 값에서 최고가를 저장\n",
    "historical_max = test_df['Adj Close'].cummax()\n",
    "daily_drawdown = test_df['Adj Close'] / historical_max - 1.0\n",
    "\n",
    "historical_min = daily_drawdown.cummin()\n",
    "historical_min.plot()"
   ]
  },
  {
   "cell_type": "code",
   "execution_count": 32,
   "metadata": {},
   "outputs": [],
   "source": [
    "# CAGR, MDD, VOL, sharpe 출력\n",
    "# CAGR : 일별 date 사용 -> \n",
    "# 전체 연도를 계산하는 경우에는 영업일 기간을 252일 기준으로 나눈 역수 제곱한 후 -1\n",
    "# MDD : 최대 낙폭\n",
    "# VOL : 연 주가 수익율 표준편차 = 일별 주가 수익율 * 252일 제곱근\n",
    "# sharpe : 총 위험 1단위당 초과 수익율\n",
    "CAGR = test_df.iloc[-1, 2] ** (252/len(test_df)) - 1\n",
    "MDD = historical_min.min()\n",
    "VOL = np.std(test_df['daily_rtn']) * np.sqrt(252)\n",
    "sharpe = np.mean(test_df['daily_rtn']) \\\n",
    "    / np.std(test_df['daily_rtn'])*np.sqrt(252)"
   ]
  },
  {
   "cell_type": "code",
   "execution_count": 33,
   "metadata": {},
   "outputs": [
    {
     "name": "stdout",
     "output_type": "stream",
     "text": [
      "CAGR : 57.42 %\n",
      "Sharpe : 1.38\n",
      "VOL : 38.04 %\n",
      "MDD : 60.87 %\n"
     ]
    }
   ],
   "source": [
    "print('CAGR :', round(CAGR*100, 2), '%')\n",
    "print('Sharpe :', round(sharpe, 2))\n",
    "print('VOL :', round(VOL*100, 2), '%')\n",
    "print('MDD :', round(-1*MDD*100, 2), '%')"
   ]
  },
  {
   "cell_type": "markdown",
   "metadata": {},
   "source": [
    "## Buy and Hold 함수화\n",
    "1. 매개변수 1개(데이터프레임)\n",
    "2. 결측치, 무한대의 값을 제거 \n",
    "3. 수정종가만 있는 데이터프레임으로 변경\n",
    "4. 일별 수익율 파생변수 생성\n",
    "5. 누적 수익율 파생변수 생성\n",
    "6. 데이터프레임 리턴"
   ]
  },
  {
   "cell_type": "code",
   "execution_count": 67,
   "metadata": {},
   "outputs": [],
   "source": [
    "def buyandhold(df, col = 'Close' , start = '20100101', end = \"20230818\"):\n",
    "    # 인덱스가 Date인가?\n",
    "    # 인덱스가 Date가 아니면 Date를 인덱스로 변경\n",
    "    if 'Date' in df.columns:\n",
    "        # 컬럼에 Date가 포함되어있으면 Date를 인덱스로 변경\n",
    "        df = df.set_index('Date')\n",
    "    # 인덱스를 시계열 데이터 변경\n",
    "    df.index = pd.to_datetime(df.index, format='%Y-%m-%d')\n",
    "    # 수정 종가만으로 이루어진 데이터프레임으로 변경\n",
    "    df = df[[col]]\n",
    "    # start, end로 인덱스 필터링\n",
    "    start = datetime.strptime(start, '%Y%m%d').isoformat()\n",
    "    end = datetime.strptime(end, '%Y%m%d').isoformat()\n",
    "    df = df.loc[start:end]\n",
    "    # 결측치, 무한대의 값을 제거 \n",
    "    # 인덱스의 조건식\n",
    "    flag = ~df.isin([np.nan, np.inf, -np.inf]).any(axis=1)\n",
    "    df = df.loc[flag]\n",
    "    # 일별 수익율 파생변수 생성\n",
    "    df['daily_rtn'] = df[col].pct_change()\n",
    "    # 누적 수익율 파생변수 생성\n",
    "    df['st_rtn'] = (1 + df['daily_rtn']).cumprod()\n",
    "    # 데이터프레임을 리턴\n",
    "    return df"
   ]
  },
  {
   "cell_type": "code",
   "execution_count": 60,
   "metadata": {},
   "outputs": [],
   "source": [
    "df2 = pd.read_csv(\"../../csv/AMZN.csv\", index_col = 'Date')"
   ]
  },
  {
   "cell_type": "code",
   "execution_count": 61,
   "metadata": {},
   "outputs": [
    {
     "data": {
      "text/html": [
       "<div>\n",
       "<style scoped>\n",
       "    .dataframe tbody tr th:only-of-type {\n",
       "        vertical-align: middle;\n",
       "    }\n",
       "\n",
       "    .dataframe tbody tr th {\n",
       "        vertical-align: top;\n",
       "    }\n",
       "\n",
       "    .dataframe thead th {\n",
       "        text-align: right;\n",
       "    }\n",
       "</style>\n",
       "<table border=\"1\" class=\"dataframe\">\n",
       "  <thead>\n",
       "    <tr style=\"text-align: right;\">\n",
       "      <th></th>\n",
       "      <th>Adj Close</th>\n",
       "      <th>daily_rtn</th>\n",
       "      <th>st_rtn</th>\n",
       "    </tr>\n",
       "    <tr>\n",
       "      <th>Date</th>\n",
       "      <th></th>\n",
       "      <th></th>\n",
       "      <th></th>\n",
       "    </tr>\n",
       "  </thead>\n",
       "  <tbody>\n",
       "    <tr>\n",
       "      <th>2010-01-04</th>\n",
       "      <td>133.899994</td>\n",
       "      <td>NaN</td>\n",
       "      <td>NaN</td>\n",
       "    </tr>\n",
       "    <tr>\n",
       "      <th>2010-01-05</th>\n",
       "      <td>134.690002</td>\n",
       "      <td>0.005900</td>\n",
       "      <td>1.005900</td>\n",
       "    </tr>\n",
       "    <tr>\n",
       "      <th>2010-01-06</th>\n",
       "      <td>132.250000</td>\n",
       "      <td>-0.018116</td>\n",
       "      <td>0.987677</td>\n",
       "    </tr>\n",
       "    <tr>\n",
       "      <th>2010-01-07</th>\n",
       "      <td>130.000000</td>\n",
       "      <td>-0.017013</td>\n",
       "      <td>0.970874</td>\n",
       "    </tr>\n",
       "    <tr>\n",
       "      <th>2010-01-08</th>\n",
       "      <td>133.520004</td>\n",
       "      <td>0.027077</td>\n",
       "      <td>0.997162</td>\n",
       "    </tr>\n",
       "    <tr>\n",
       "      <th>...</th>\n",
       "      <td>...</td>\n",
       "      <td>...</td>\n",
       "      <td>...</td>\n",
       "    </tr>\n",
       "    <tr>\n",
       "      <th>2015-12-24</th>\n",
       "      <td>662.789978</td>\n",
       "      <td>-0.001371</td>\n",
       "      <td>4.949888</td>\n",
       "    </tr>\n",
       "    <tr>\n",
       "      <th>2015-12-28</th>\n",
       "      <td>675.200012</td>\n",
       "      <td>0.018724</td>\n",
       "      <td>5.042569</td>\n",
       "    </tr>\n",
       "    <tr>\n",
       "      <th>2015-12-29</th>\n",
       "      <td>693.969971</td>\n",
       "      <td>0.027799</td>\n",
       "      <td>5.182748</td>\n",
       "    </tr>\n",
       "    <tr>\n",
       "      <th>2015-12-30</th>\n",
       "      <td>689.070007</td>\n",
       "      <td>-0.007061</td>\n",
       "      <td>5.146154</td>\n",
       "    </tr>\n",
       "    <tr>\n",
       "      <th>2015-12-31</th>\n",
       "      <td>675.890015</td>\n",
       "      <td>-0.019127</td>\n",
       "      <td>5.047723</td>\n",
       "    </tr>\n",
       "  </tbody>\n",
       "</table>\n",
       "<p>1510 rows × 3 columns</p>\n",
       "</div>"
      ],
      "text/plain": [
       "             Adj Close  daily_rtn    st_rtn\n",
       "Date                                       \n",
       "2010-01-04  133.899994        NaN       NaN\n",
       "2010-01-05  134.690002   0.005900  1.005900\n",
       "2010-01-06  132.250000  -0.018116  0.987677\n",
       "2010-01-07  130.000000  -0.017013  0.970874\n",
       "2010-01-08  133.520004   0.027077  0.997162\n",
       "...                ...        ...       ...\n",
       "2015-12-24  662.789978  -0.001371  4.949888\n",
       "2015-12-28  675.200012   0.018724  5.042569\n",
       "2015-12-29  693.969971   0.027799  5.182748\n",
       "2015-12-30  689.070007  -0.007061  5.146154\n",
       "2015-12-31  675.890015  -0.019127  5.047723\n",
       "\n",
       "[1510 rows x 3 columns]"
      ]
     },
     "execution_count": 61,
     "metadata": {},
     "output_type": "execute_result"
    }
   ],
   "source": [
    "buyandhold(df2, '20100101', '20151231')"
   ]
  },
  {
   "cell_type": "code",
   "execution_count": 44,
   "metadata": {},
   "outputs": [],
   "source": [
    "# index를 시계열 데이터로 변경\n",
    "df2.index = pd.to_datetime(df2.index, format=\"%Y-%m-%d\")"
   ]
  },
  {
   "cell_type": "code",
   "execution_count": null,
   "metadata": {},
   "outputs": [],
   "source": [
    "df2.index"
   ]
  },
  {
   "cell_type": "code",
   "execution_count": 46,
   "metadata": {},
   "outputs": [],
   "source": [
    "from datetime import datetime"
   ]
  },
  {
   "cell_type": "code",
   "execution_count": 51,
   "metadata": {},
   "outputs": [],
   "source": [
    "a = '20100101'\n",
    "b = '20121231'\n",
    "start = datetime.strptime(a, '%Y%m%d').isoformat()\n",
    "end = datetime.strptime(b, '%Y%m%d').isoformat()"
   ]
  },
  {
   "cell_type": "code",
   "execution_count": null,
   "metadata": {},
   "outputs": [],
   "source": [
    "df2.loc[start:end]"
   ]
  },
  {
   "cell_type": "code",
   "execution_count": 62,
   "metadata": {},
   "outputs": [],
   "source": [
    "df3 = pd.read_csv('../../csv/BND.csv')"
   ]
  },
  {
   "cell_type": "code",
   "execution_count": 58,
   "metadata": {},
   "outputs": [
    {
     "data": {
      "text/html": [
       "<div>\n",
       "<style scoped>\n",
       "    .dataframe tbody tr th:only-of-type {\n",
       "        vertical-align: middle;\n",
       "    }\n",
       "\n",
       "    .dataframe tbody tr th {\n",
       "        vertical-align: top;\n",
       "    }\n",
       "\n",
       "    .dataframe thead th {\n",
       "        text-align: right;\n",
       "    }\n",
       "</style>\n",
       "<table border=\"1\" class=\"dataframe\">\n",
       "  <thead>\n",
       "    <tr style=\"text-align: right;\">\n",
       "      <th></th>\n",
       "      <th>Date</th>\n",
       "      <th>Open</th>\n",
       "      <th>High</th>\n",
       "      <th>Low</th>\n",
       "      <th>Close</th>\n",
       "      <th>Adj Close</th>\n",
       "      <th>Volume</th>\n",
       "    </tr>\n",
       "  </thead>\n",
       "  <tbody>\n",
       "    <tr>\n",
       "      <th>0</th>\n",
       "      <td>2007-04-10</td>\n",
       "      <td>75.07</td>\n",
       "      <td>75.260002</td>\n",
       "      <td>75.0</td>\n",
       "      <td>75.239998</td>\n",
       "      <td>51.523693</td>\n",
       "      <td>35000</td>\n",
       "    </tr>\n",
       "  </tbody>\n",
       "</table>\n",
       "</div>"
      ],
      "text/plain": [
       "         Date   Open       High   Low      Close  Adj Close  Volume\n",
       "0  2007-04-10  75.07  75.260002  75.0  75.239998  51.523693   35000"
      ]
     },
     "execution_count": 58,
     "metadata": {},
     "output_type": "execute_result"
    }
   ],
   "source": [
    "df3.head(1)"
   ]
  },
  {
   "cell_type": "code",
   "execution_count": 65,
   "metadata": {},
   "outputs": [
    {
     "data": {
      "text/html": [
       "<div>\n",
       "<style scoped>\n",
       "    .dataframe tbody tr th:only-of-type {\n",
       "        vertical-align: middle;\n",
       "    }\n",
       "\n",
       "    .dataframe tbody tr th {\n",
       "        vertical-align: top;\n",
       "    }\n",
       "\n",
       "    .dataframe thead th {\n",
       "        text-align: right;\n",
       "    }\n",
       "</style>\n",
       "<table border=\"1\" class=\"dataframe\">\n",
       "  <thead>\n",
       "    <tr style=\"text-align: right;\">\n",
       "      <th></th>\n",
       "      <th>Adj Close</th>\n",
       "      <th>daily_rtn</th>\n",
       "      <th>st_rtn</th>\n",
       "    </tr>\n",
       "    <tr>\n",
       "      <th>Date</th>\n",
       "      <th></th>\n",
       "      <th></th>\n",
       "      <th></th>\n",
       "    </tr>\n",
       "  </thead>\n",
       "  <tbody>\n",
       "    <tr>\n",
       "      <th>2010-01-04</th>\n",
       "      <td>60.611969</td>\n",
       "      <td>NaN</td>\n",
       "      <td>NaN</td>\n",
       "    </tr>\n",
       "    <tr>\n",
       "      <th>2010-01-05</th>\n",
       "      <td>60.789135</td>\n",
       "      <td>0.002923</td>\n",
       "      <td>1.002923</td>\n",
       "    </tr>\n",
       "    <tr>\n",
       "      <th>2010-01-06</th>\n",
       "      <td>60.766037</td>\n",
       "      <td>-0.000380</td>\n",
       "      <td>1.002542</td>\n",
       "    </tr>\n",
       "    <tr>\n",
       "      <th>2010-01-07</th>\n",
       "      <td>60.719822</td>\n",
       "      <td>-0.000761</td>\n",
       "      <td>1.001779</td>\n",
       "    </tr>\n",
       "    <tr>\n",
       "      <th>2010-01-08</th>\n",
       "      <td>60.781410</td>\n",
       "      <td>0.001014</td>\n",
       "      <td>1.002796</td>\n",
       "    </tr>\n",
       "    <tr>\n",
       "      <th>...</th>\n",
       "      <td>...</td>\n",
       "      <td>...</td>\n",
       "      <td>...</td>\n",
       "    </tr>\n",
       "    <tr>\n",
       "      <th>2014-12-24</th>\n",
       "      <td>73.073853</td>\n",
       "      <td>0.000366</td>\n",
       "      <td>1.205601</td>\n",
       "    </tr>\n",
       "    <tr>\n",
       "      <th>2014-12-26</th>\n",
       "      <td>73.136253</td>\n",
       "      <td>0.000854</td>\n",
       "      <td>1.206631</td>\n",
       "    </tr>\n",
       "    <tr>\n",
       "      <th>2014-12-29</th>\n",
       "      <td>73.260918</td>\n",
       "      <td>0.001705</td>\n",
       "      <td>1.208687</td>\n",
       "    </tr>\n",
       "    <tr>\n",
       "      <th>2014-12-30</th>\n",
       "      <td>73.314362</td>\n",
       "      <td>0.000730</td>\n",
       "      <td>1.209569</td>\n",
       "    </tr>\n",
       "    <tr>\n",
       "      <th>2014-12-31</th>\n",
       "      <td>73.367821</td>\n",
       "      <td>0.000729</td>\n",
       "      <td>1.210451</td>\n",
       "    </tr>\n",
       "  </tbody>\n",
       "</table>\n",
       "<p>1258 rows × 3 columns</p>\n",
       "</div>"
      ],
      "text/plain": [
       "            Adj Close  daily_rtn    st_rtn\n",
       "Date                                      \n",
       "2010-01-04  60.611969        NaN       NaN\n",
       "2010-01-05  60.789135   0.002923  1.002923\n",
       "2010-01-06  60.766037  -0.000380  1.002542\n",
       "2010-01-07  60.719822  -0.000761  1.001779\n",
       "2010-01-08  60.781410   0.001014  1.002796\n",
       "...               ...        ...       ...\n",
       "2014-12-24  73.073853   0.000366  1.205601\n",
       "2014-12-26  73.136253   0.000854  1.206631\n",
       "2014-12-29  73.260918   0.001705  1.208687\n",
       "2014-12-30  73.314362   0.000730  1.209569\n",
       "2014-12-31  73.367821   0.000729  1.210451\n",
       "\n",
       "[1258 rows x 3 columns]"
      ]
     },
     "execution_count": 65,
     "metadata": {},
     "output_type": "execute_result"
    }
   ],
   "source": [
    "buyandhold(df3, '20100101', '20150101')"
   ]
  }
 ],
 "metadata": {
  "kernelspec": {
   "display_name": "Python 3",
   "language": "python",
   "name": "python3"
  },
  "language_info": {
   "codemirror_mode": {
    "name": "ipython",
    "version": 3
   },
   "file_extension": ".py",
   "mimetype": "text/x-python",
   "name": "python",
   "nbconvert_exporter": "python",
   "pygments_lexer": "ipython3",
   "version": "3.11.1"
  },
  "orig_nbformat": 4
 },
 "nbformat": 4,
 "nbformat_minor": 2
}
