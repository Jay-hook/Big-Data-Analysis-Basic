{
 "cells": [
  {
   "cell_type": "code",
   "execution_count": null,
   "metadata": {},
   "outputs": [],
   "source": [
    "import requests"
   ]
  },
  {
   "cell_type": "code",
   "execution_count": null,
   "metadata": {},
   "outputs": [],
   "source": [
    "url = 'https://www.naver.com'"
   ]
  },
  {
   "cell_type": "code",
   "execution_count": null,
   "metadata": {},
   "outputs": [],
   "source": [
    "responese = requests.get(url)"
   ]
  },
  {
   "cell_type": "code",
   "execution_count": null,
   "metadata": {},
   "outputs": [],
   "source": [
    "from pprint import pprint"
   ]
  },
  {
   "cell_type": "code",
   "execution_count": null,
   "metadata": {},
   "outputs": [],
   "source": [
    "html_data = responese.text"
   ]
  },
  {
   "cell_type": "code",
   "execution_count": null,
   "metadata": {},
   "outputs": [],
   "source": [
    "# 문자열 데이터에서 특정 문자를 찾는 함수\n",
    "html_data.find(\"네이버\")"
   ]
  },
  {
   "cell_type": "code",
   "execution_count": null,
   "metadata": {},
   "outputs": [],
   "source": [
    "html_data[378:381]"
   ]
  },
  {
   "cell_type": "markdown",
   "metadata": {},
   "source": [
    "### BeautifulSoup\n",
    "1. HTML TAG의 형태로 이루어진 데이터를 파싱(parsing)작업하여 데이터를 쉽게 추출하기 위한 라이브러리 \n",
    "2. TAG를 기준으로 데이터를 쉽게 추출\n",
    "3. 웹의 구조를 어느정도 인지하고 사용을 하면 쉽게 데이터를 추출\n",
    "4. Parser를 활용해서 파이썬에서 접근이 쉽게 객체 형태로 제공"
   ]
  },
  {
   "cell_type": "code",
   "execution_count": null,
   "metadata": {},
   "outputs": [],
   "source": [
    "# 라이브러리 설치 \n",
    "!pip install bs4"
   ]
  },
  {
   "cell_type": "code",
   "execution_count": null,
   "metadata": {},
   "outputs": [],
   "source": [
    "# 라이브러리 로드 \n",
    "from bs4 import BeautifulSoup as bs"
   ]
  },
  {
   "cell_type": "code",
   "execution_count": null,
   "metadata": {},
   "outputs": [],
   "source": [
    "# html 태그의 문자열 데이터를 BeautifulSoup에서 사용하기 편한 데이터의 형태로 변환\n",
    "\n",
    "soup = bs(html_data, 'html.parser')"
   ]
  },
  {
   "cell_type": "code",
   "execution_count": null,
   "metadata": {},
   "outputs": [],
   "source": [
    "type(soup)"
   ]
  },
  {
   "cell_type": "markdown",
   "metadata": {},
   "source": [
    "- 태그의 이름을 기준으로 검색\n",
    "    - soup.태그명 : 해당 태그의 첫번째 정보를 출력\n",
    "    - soup.태그명.string : 첫번째 태그의 문자열이 출력\n",
    "    - soup.태그명['속성'] : 첫번째 태그의 속성의 값이 출력"
   ]
  },
  {
   "cell_type": "code",
   "execution_count": null,
   "metadata": {},
   "outputs": [],
   "source": [
    "soup.a"
   ]
  },
  {
   "cell_type": "code",
   "execution_count": null,
   "metadata": {},
   "outputs": [],
   "source": [
    "soup.a.string"
   ]
  },
  {
   "cell_type": "code",
   "execution_count": null,
   "metadata": {},
   "outputs": [],
   "source": [
    "soup.a[\"href\"]"
   ]
  },
  {
   "cell_type": "markdown",
   "metadata": {},
   "source": [
    "- find()\n",
    "    - HTML 문자열 안에서 해당 태그의 첫번째 정보 출력\n",
    "    - find(속성 = 값) : 태그들 중 해당 속성의 값과 같은 태그의 첫번째 정보를 출력\n",
    "- find_all()\n",
    "    - HTML 문자열 안에서 해당 태그의 모든 정보를 리스트의 형태로 출력\n",
    "    - limit 매개변수 : 리스트의 길이를 지정"
   ]
  },
  {
   "cell_type": "code",
   "execution_count": null,
   "metadata": {},
   "outputs": [],
   "source": [
    "soup.find('a')"
   ]
  },
  {
   "cell_type": "code",
   "execution_count": null,
   "metadata": {},
   "outputs": [],
   "source": [
    "soup.find_all('a')"
   ]
  },
  {
   "cell_type": "code",
   "execution_count": null,
   "metadata": {},
   "outputs": [],
   "source": [
    "soup.find(id = 'footer')"
   ]
  },
  {
   "cell_type": "code",
   "execution_count": null,
   "metadata": {},
   "outputs": [],
   "source": [
    "soup.find('a').get_text()"
   ]
  },
  {
   "cell_type": "code",
   "execution_count": null,
   "metadata": {},
   "outputs": [],
   "source": [
    "soup.find_all('a').get_text()"
   ]
  },
  {
   "cell_type": "code",
   "execution_count": null,
   "metadata": {},
   "outputs": [],
   "source": [
    "type(soup.find('a'))"
   ]
  },
  {
   "cell_type": "code",
   "execution_count": null,
   "metadata": {},
   "outputs": [],
   "source": [
    "soup.find_all('a')[0].get_text()"
   ]
  },
  {
   "cell_type": "code",
   "execution_count": null,
   "metadata": {},
   "outputs": [],
   "source": [
    "# soup.find_all('a')의 결과는 list\n",
    "# 해당하는 list에서 content의 텍스트만 추출하여 새로운 리스트\n",
    "a_list = soup.find_all('a')\n",
    "# a_list\n",
    "# 비어있는 리스트 생성 \n",
    "a_res = []\n",
    "for i in a_list:\n",
    "    # 해당하는 반복문에서 i는? -> \n",
    "    # print(i.get_text())\n",
    "    a_res.append(i.get_text())\n",
    "a_res"
   ]
  },
  {
   "cell_type": "code",
   "execution_count": null,
   "metadata": {},
   "outputs": [],
   "source": [
    "url = \"https://finance.naver.com/sise/\"\n",
    "\n",
    "# requests을 이용하여 html_data를 받아온다. \n",
    "response = requests.get(url)"
   ]
  },
  {
   "cell_type": "code",
   "execution_count": null,
   "metadata": {},
   "outputs": [],
   "source": [
    "html_data = response.content.decode('euc-kr', 'replace')"
   ]
  },
  {
   "cell_type": "code",
   "execution_count": null,
   "metadata": {},
   "outputs": [],
   "source": [
    "# beautifolsoup의 parsing 작업\n",
    "soup = bs(html_data, 'html.parser')"
   ]
  },
  {
   "cell_type": "code",
   "execution_count": null,
   "metadata": {},
   "outputs": [],
   "source": [
    "table_data = soup.find('table', attrs={\n",
    "    'id' : 'siselist_tab_0'\n",
    "})"
   ]
  },
  {
   "cell_type": "code",
   "execution_count": null,
   "metadata": {},
   "outputs": [],
   "source": [
    "tr_list = table_data.find_all('tr')"
   ]
  },
  {
   "cell_type": "code",
   "execution_count": null,
   "metadata": {},
   "outputs": [],
   "source": [
    "th_list = tr_list[0].find_all('th')"
   ]
  },
  {
   "cell_type": "code",
   "execution_count": null,
   "metadata": {},
   "outputs": [],
   "source": [
    "th_res = []\n",
    "\n",
    "for i in th_list:\n",
    "    th_res.append(i.get_text())\n",
    "th_res"
   ]
  },
  {
   "cell_type": "code",
   "execution_count": null,
   "metadata": {},
   "outputs": [],
   "source": [
    "# apply() -> 스리즈명.apply(함수명)\n",
    "# map() -> list(map(함수명, 리스트명))\n",
    "\n",
    "def change(x):\n",
    "    # x에 리스트의 원소들이 하나하나씩 입력된다. \n",
    "    result = x.get_text()\n",
    "    return result\n",
    "\n",
    "list(map(change, th_list))"
   ]
  },
  {
   "cell_type": "code",
   "execution_count": null,
   "metadata": {},
   "outputs": [],
   "source": [
    "list(\n",
    "    map(\n",
    "        lambda x : x.get_text(), \n",
    "        th_list\n",
    "    )\n",
    ")"
   ]
  },
  {
   "cell_type": "code",
   "execution_count": null,
   "metadata": {},
   "outputs": [],
   "source": [
    "list(map(\n",
    "    lambda x : x.get_text().replace('\\n', '').replace('\\t', '')\n",
    "    ,tr_list[2].find_all('td')\n",
    "))"
   ]
  },
  {
   "cell_type": "code",
   "execution_count": null,
   "metadata": {},
   "outputs": [],
   "source": [
    "tr_list[-1]"
   ]
  },
  {
   "cell_type": "code",
   "execution_count": null,
   "metadata": {},
   "outputs": [],
   "source": [
    "# tr_list에서 index가 2부터 시작해서 마지막 전까지의 \n",
    "# 리스트의 원소들의 텍스트 추출\n",
    "data_list = []\n",
    "for i in tr_list[2:-1]:\n",
    "    data = list(map(\n",
    "        lambda x : x.get_text().replace('\\n', '').replace('\\t', '')\n",
    "        ,i.find_all('td')\n",
    "    ))  \n",
    "    data_list.append(data)\n",
    "data_list"
   ]
  },
  {
   "cell_type": "code",
   "execution_count": null,
   "metadata": {},
   "outputs": [],
   "source": [
    "from pprint import pprint"
   ]
  },
  {
   "cell_type": "code",
   "execution_count": null,
   "metadata": {},
   "outputs": [],
   "source": [
    "data_list2 = []\n",
    "for i in range(2, len(tr_list)-1):\n",
    "    data = list(map(\n",
    "        lambda x : x.get_text().replace('\\n', '').replace('\\t', '')\n",
    "        ,tr_list[i].find_all('td')\n",
    "    ))  \n",
    "    data_list2.append(data)\n",
    "pprint(data_list2)"
   ]
  },
  {
   "cell_type": "code",
   "execution_count": null,
   "metadata": {},
   "outputs": [],
   "source": [
    "tr_list[2:]"
   ]
  },
  {
   "cell_type": "code",
   "execution_count": null,
   "metadata": {},
   "outputs": [],
   "source": [
    "td_list = tr_list[2].find_all('td')"
   ]
  },
  {
   "cell_type": "code",
   "execution_count": null,
   "metadata": {},
   "outputs": [],
   "source": [
    "td_list[1].get_text()"
   ]
  },
  {
   "cell_type": "code",
   "execution_count": null,
   "metadata": {},
   "outputs": [],
   "source": [
    "# 새로운 리스트 생성\n",
    "td_data = []\n",
    "# td_list를 반복\n",
    "for i in td_list:\n",
    "    # 각원소들 별로 텍스트를 추출하여 새로운 리스트에 추가 \n",
    "    td_data.append(i.get_text())\n",
    "td_data"
   ]
  },
  {
   "cell_type": "code",
   "execution_count": null,
   "metadata": {},
   "outputs": [],
   "source": [
    "table_data = []\n",
    "for i in tr_list[2:]:\n",
    "    # i가 의미하는건? -> tr태그 데이터\n",
    "    # td_list -> i.find_all('td')\n",
    "    td_list = i.find_all('td')\n",
    "    # 1\n",
    "    if (len(td_list) > 1):\n",
    "        td_data = []\n",
    "        # td_list를 반복\n",
    "        for j in td_list:\n",
    "            # 각원소들 별로 텍스트를 추출하여 새로운 리스트에 추가 \n",
    "            # 2\n",
    "            td_data.append(j.get_text())\n",
    "        # 3\n",
    "        table_data.append(td_data)\n",
    "table_data"
   ]
  },
  {
   "cell_type": "code",
   "execution_count": 101,
   "metadata": {},
   "outputs": [],
   "source": [
    "import pandas as pd"
   ]
  },
  {
   "cell_type": "code",
   "execution_count": 103,
   "metadata": {},
   "outputs": [],
   "source": [
    "df = pd.DataFrame(table_data, columns = th_res)"
   ]
  },
  {
   "cell_type": "code",
   "execution_count": 108,
   "metadata": {},
   "outputs": [
    {
     "data": {
      "text/html": [
       "<div>\n",
       "<style scoped>\n",
       "    .dataframe tbody tr th:only-of-type {\n",
       "        vertical-align: middle;\n",
       "    }\n",
       "\n",
       "    .dataframe tbody tr th {\n",
       "        vertical-align: top;\n",
       "    }\n",
       "\n",
       "    .dataframe thead th {\n",
       "        text-align: right;\n",
       "    }\n",
       "</style>\n",
       "<table border=\"1\" class=\"dataframe\">\n",
       "  <thead>\n",
       "    <tr style=\"text-align: right;\">\n",
       "      <th></th>\n",
       "      <th>순위</th>\n",
       "      <th>연속</th>\n",
       "      <th>누적</th>\n",
       "      <th>종목명</th>\n",
       "      <th>현재가</th>\n",
       "      <th>전일비</th>\n",
       "      <th>등락률</th>\n",
       "      <th>거래량</th>\n",
       "      <th>시가</th>\n",
       "      <th>고가</th>\n",
       "      <th>저가</th>\n",
       "    </tr>\n",
       "  </thead>\n",
       "  <tbody>\n",
       "    <tr>\n",
       "      <th>0</th>\n",
       "      <td></td>\n",
       "      <td>2</td>\n",
       "      <td>4</td>\n",
       "      <td>덕성우</td>\n",
       "      <td>10,980</td>\n",
       "      <td>\\n상한\\n\\t\\t\\t\\t2,530\\n\\t\\t\\t\\t\\n</td>\n",
       "      <td>\\n\\n\\t\\t\\t\\t+29.94%\\n\\t\\t\\t\\t\\n</td>\n",
       "      <td>242,528</td>\n",
       "      <td>9,980</td>\n",
       "      <td>10,980</td>\n",
       "      <td>9,710</td>\n",
       "    </tr>\n",
       "    <tr>\n",
       "      <th>1</th>\n",
       "      <td></td>\n",
       "      <td>1</td>\n",
       "      <td>1</td>\n",
       "      <td>인지디스플레</td>\n",
       "      <td>3,345</td>\n",
       "      <td>\\n상한\\n\\t\\t\\t\\t770\\n\\t\\t\\t\\t\\n</td>\n",
       "      <td>\\n\\n\\t\\t\\t\\t+29.90%\\n\\t\\t\\t\\t\\n</td>\n",
       "      <td>12,166,569</td>\n",
       "      <td>2,525</td>\n",
       "      <td>3,345</td>\n",
       "      <td>2,515</td>\n",
       "    </tr>\n",
       "    <tr>\n",
       "      <th>2</th>\n",
       "      <td></td>\n",
       "      <td>2</td>\n",
       "      <td>2</td>\n",
       "      <td>탑엔지니어링</td>\n",
       "      <td>11,580</td>\n",
       "      <td>\\n상한\\n\\t\\t\\t\\t2,670\\n\\t\\t\\t\\t\\n</td>\n",
       "      <td>\\n\\n\\t\\t\\t\\t+29.97%\\n\\t\\t\\t\\t\\n</td>\n",
       "      <td>3,915,691</td>\n",
       "      <td>10,410</td>\n",
       "      <td>11,580</td>\n",
       "      <td>10,400</td>\n",
       "    </tr>\n",
       "  </tbody>\n",
       "</table>\n",
       "</div>"
      ],
      "text/plain": [
       "  순위 연속 누적     종목명     현재가                            전일비    \\\n",
       "0     2  4     덕성우  10,980  \\n상한\\n\\t\\t\\t\\t2,530\\n\\t\\t\\t\\t\\n   \n",
       "1     1  1  인지디스플레   3,345    \\n상한\\n\\t\\t\\t\\t770\\n\\t\\t\\t\\t\\n   \n",
       "2     2  2  탑엔지니어링  11,580  \\n상한\\n\\t\\t\\t\\t2,670\\n\\t\\t\\t\\t\\n   \n",
       "\n",
       "                               등락률         거래량      시가      고가      저가  \n",
       "0  \\n\\n\\t\\t\\t\\t+29.94%\\n\\t\\t\\t\\t\\n     242,528   9,980  10,980   9,710  \n",
       "1  \\n\\n\\t\\t\\t\\t+29.90%\\n\\t\\t\\t\\t\\n  12,166,569   2,525   3,345   2,515  \n",
       "2  \\n\\n\\t\\t\\t\\t+29.97%\\n\\t\\t\\t\\t\\n   3,915,691  10,410  11,580  10,400  "
      ]
     },
     "execution_count": 108,
     "metadata": {},
     "output_type": "execute_result"
    }
   ],
   "source": [
    "df.head(3)"
   ]
  },
  {
   "cell_type": "code",
   "execution_count": 120,
   "metadata": {},
   "outputs": [],
   "source": [
    "df.columns = ['순위', '연속', '누적', '종목명', '현재가', '전일비', '등락률', \n",
    "'거래량', '시가', '고가', '저가']"
   ]
  },
  {
   "cell_type": "code",
   "execution_count": null,
   "metadata": {},
   "outputs": [],
   "source": [
    "df['전일비'].str.replace('\\n', '').str.replace('\\t', '')"
   ]
  },
  {
   "cell_type": "code",
   "execution_count": 125,
   "metadata": {},
   "outputs": [],
   "source": [
    "df['전일비'] =  df['전일비'].apply(\n",
    "    lambda x : x.replace('\\n', '').replace('\\t', ''))"
   ]
  },
  {
   "cell_type": "code",
   "execution_count": 127,
   "metadata": {},
   "outputs": [],
   "source": [
    "df['등락률'] = df['등락률'].apply(\n",
    "    lambda x : x.replace('\\n', '').replace('\\t', '')\n",
    ")"
   ]
  },
  {
   "cell_type": "code",
   "execution_count": 129,
   "metadata": {},
   "outputs": [
    {
     "data": {
      "text/html": [
       "<div>\n",
       "<style scoped>\n",
       "    .dataframe tbody tr th:only-of-type {\n",
       "        vertical-align: middle;\n",
       "    }\n",
       "\n",
       "    .dataframe tbody tr th {\n",
       "        vertical-align: top;\n",
       "    }\n",
       "\n",
       "    .dataframe thead th {\n",
       "        text-align: right;\n",
       "    }\n",
       "</style>\n",
       "<table border=\"1\" class=\"dataframe\">\n",
       "  <thead>\n",
       "    <tr style=\"text-align: right;\">\n",
       "      <th></th>\n",
       "      <th>순위</th>\n",
       "      <th>연속</th>\n",
       "      <th>누적</th>\n",
       "      <th>종목명</th>\n",
       "      <th>현재가</th>\n",
       "      <th>전일비</th>\n",
       "      <th>등락률</th>\n",
       "      <th>거래량</th>\n",
       "      <th>시가</th>\n",
       "      <th>고가</th>\n",
       "      <th>저가</th>\n",
       "    </tr>\n",
       "  </thead>\n",
       "  <tbody>\n",
       "    <tr>\n",
       "      <th>0</th>\n",
       "      <td></td>\n",
       "      <td>2</td>\n",
       "      <td>4</td>\n",
       "      <td>덕성우</td>\n",
       "      <td>10,980</td>\n",
       "      <td>상한2,530</td>\n",
       "      <td>+29.94%</td>\n",
       "      <td>242,528</td>\n",
       "      <td>9,980</td>\n",
       "      <td>10,980</td>\n",
       "      <td>9,710</td>\n",
       "    </tr>\n",
       "    <tr>\n",
       "      <th>1</th>\n",
       "      <td></td>\n",
       "      <td>1</td>\n",
       "      <td>1</td>\n",
       "      <td>인지디스플레</td>\n",
       "      <td>3,345</td>\n",
       "      <td>상한770</td>\n",
       "      <td>+29.90%</td>\n",
       "      <td>12,166,569</td>\n",
       "      <td>2,525</td>\n",
       "      <td>3,345</td>\n",
       "      <td>2,515</td>\n",
       "    </tr>\n",
       "    <tr>\n",
       "      <th>2</th>\n",
       "      <td></td>\n",
       "      <td>2</td>\n",
       "      <td>2</td>\n",
       "      <td>탑엔지니어링</td>\n",
       "      <td>11,580</td>\n",
       "      <td>상한2,670</td>\n",
       "      <td>+29.97%</td>\n",
       "      <td>3,915,691</td>\n",
       "      <td>10,410</td>\n",
       "      <td>11,580</td>\n",
       "      <td>10,400</td>\n",
       "    </tr>\n",
       "    <tr>\n",
       "      <th>3</th>\n",
       "      <td></td>\n",
       "      <td>1</td>\n",
       "      <td>5</td>\n",
       "      <td>신성델타테크</td>\n",
       "      <td>52,000</td>\n",
       "      <td>상한12,000</td>\n",
       "      <td>+30.00%</td>\n",
       "      <td>486,806</td>\n",
       "      <td>52,000</td>\n",
       "      <td>52,000</td>\n",
       "      <td>52,000</td>\n",
       "    </tr>\n",
       "    <tr>\n",
       "      <th>4</th>\n",
       "      <td></td>\n",
       "      <td>1</td>\n",
       "      <td>1</td>\n",
       "      <td>아퓨어스</td>\n",
       "      <td>625</td>\n",
       "      <td>상한81</td>\n",
       "      <td>+14.89%</td>\n",
       "      <td>19,653</td>\n",
       "      <td>545</td>\n",
       "      <td>625</td>\n",
       "      <td>544</td>\n",
       "    </tr>\n",
       "    <tr>\n",
       "      <th>5</th>\n",
       "      <td></td>\n",
       "      <td>1</td>\n",
       "      <td>4</td>\n",
       "      <td>코셋</td>\n",
       "      <td>2,295</td>\n",
       "      <td>상한296</td>\n",
       "      <td>+14.81%</td>\n",
       "      <td>1</td>\n",
       "      <td>2,295</td>\n",
       "      <td>2,295</td>\n",
       "      <td>2,295</td>\n",
       "    </tr>\n",
       "    <tr>\n",
       "      <th>6</th>\n",
       "      <td></td>\n",
       "      <td>1</td>\n",
       "      <td>2</td>\n",
       "      <td>에스케이씨에스</td>\n",
       "      <td>1,840</td>\n",
       "      <td>상한240</td>\n",
       "      <td>+15.00%</td>\n",
       "      <td>1</td>\n",
       "      <td>1,840</td>\n",
       "      <td>1,840</td>\n",
       "      <td>1,840</td>\n",
       "    </tr>\n",
       "    <tr>\n",
       "      <th>7</th>\n",
       "      <td></td>\n",
       "      <td>2</td>\n",
       "      <td>4</td>\n",
       "      <td>모비스</td>\n",
       "      <td>4,605</td>\n",
       "      <td>상한1,060</td>\n",
       "      <td>+29.90%</td>\n",
       "      <td>15,753,380</td>\n",
       "      <td>4,100</td>\n",
       "      <td>4,605</td>\n",
       "      <td>4,060</td>\n",
       "    </tr>\n",
       "    <tr>\n",
       "      <th>8</th>\n",
       "      <td></td>\n",
       "      <td>1</td>\n",
       "      <td>14</td>\n",
       "      <td>테크엔</td>\n",
       "      <td>232</td>\n",
       "      <td>상한30</td>\n",
       "      <td>+14.85%</td>\n",
       "      <td>61</td>\n",
       "      <td>232</td>\n",
       "      <td>232</td>\n",
       "      <td>232</td>\n",
       "    </tr>\n",
       "    <tr>\n",
       "      <th>9</th>\n",
       "      <td></td>\n",
       "      <td>2</td>\n",
       "      <td>3</td>\n",
       "      <td>이브이파킹서비스</td>\n",
       "      <td>1,370</td>\n",
       "      <td>상한178</td>\n",
       "      <td>+14.93%</td>\n",
       "      <td>37,953</td>\n",
       "      <td>1,335</td>\n",
       "      <td>1,370</td>\n",
       "      <td>1,335</td>\n",
       "    </tr>\n",
       "  </tbody>\n",
       "</table>\n",
       "</div>"
      ],
      "text/plain": [
       "  순위 연속  누적       종목명     현재가       전일비      등락률         거래량      시가      고가  \\\n",
       "0     2   4       덕성우  10,980   상한2,530  +29.94%     242,528   9,980  10,980   \n",
       "1     1   1    인지디스플레   3,345     상한770  +29.90%  12,166,569   2,525   3,345   \n",
       "2     2   2    탑엔지니어링  11,580   상한2,670  +29.97%   3,915,691  10,410  11,580   \n",
       "3     1   5    신성델타테크  52,000  상한12,000  +30.00%     486,806  52,000  52,000   \n",
       "4     1   1      아퓨어스     625      상한81  +14.89%      19,653     545     625   \n",
       "5     1   4        코셋   2,295     상한296  +14.81%           1   2,295   2,295   \n",
       "6     1   2   에스케이씨에스   1,840     상한240  +15.00%           1   1,840   1,840   \n",
       "7     2   4       모비스   4,605   상한1,060  +29.90%  15,753,380   4,100   4,605   \n",
       "8     1  14       테크엔     232      상한30  +14.85%          61     232     232   \n",
       "9     2   3  이브이파킹서비스   1,370     상한178  +14.93%      37,953   1,335   1,370   \n",
       "\n",
       "       저가  \n",
       "0   9,710  \n",
       "1   2,515  \n",
       "2  10,400  \n",
       "3  52,000  \n",
       "4     544  \n",
       "5   2,295  \n",
       "6   1,840  \n",
       "7   4,060  \n",
       "8     232  \n",
       "9   1,335  "
      ]
     },
     "execution_count": 129,
     "metadata": {},
     "output_type": "execute_result"
    }
   ],
   "source": [
    "df"
   ]
  },
  {
   "cell_type": "code",
   "execution_count": null,
   "metadata": {},
   "outputs": [],
   "source": []
  }
 ],
 "metadata": {
  "kernelspec": {
   "display_name": "Python 3",
   "language": "python",
   "name": "python3"
  },
  "language_info": {
   "codemirror_mode": {
    "name": "ipython",
    "version": 3
   },
   "file_extension": ".py",
   "mimetype": "text/x-python",
   "name": "python",
   "nbconvert_exporter": "python",
   "pygments_lexer": "ipython3",
   "version": "3.11.1"
  },
  "orig_nbformat": 4
 },
 "nbformat": 4,
 "nbformat_minor": 2
}
