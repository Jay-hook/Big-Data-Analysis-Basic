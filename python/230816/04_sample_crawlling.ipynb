{
 "cells": [
  {
   "cell_type": "code",
   "execution_count": 6,
   "metadata": {},
   "outputs": [],
   "source": [
    "from bs4 import BeautifulSoup as bs\n",
    "from selenium import webdriver\n",
    "from selenium.webdriver.common.by import By\n",
    "from selenium.webdriver.common.keys import Keys\n",
    "import time"
   ]
  },
  {
   "cell_type": "code",
   "execution_count": 14,
   "metadata": {},
   "outputs": [],
   "source": [
    "# 크롬창 오픈 \n",
    "driver = webdriver.Chrome()"
   ]
  },
  {
   "cell_type": "code",
   "execution_count": 15,
   "metadata": {},
   "outputs": [],
   "source": [
    "driver.get('https://www.sac.or.kr/site/main/program/schedule')"
   ]
  },
  {
   "cell_type": "code",
   "execution_count": 22,
   "metadata": {},
   "outputs": [],
   "source": []
  },
  {
   "cell_type": "code",
   "execution_count": null,
   "metadata": {},
   "outputs": [],
   "source": [
    "schedule_list"
   ]
  },
  {
   "cell_type": "code",
   "execution_count": 7,
   "metadata": {},
   "outputs": [],
   "source": [
    "def crawlling(schedule, btn):\n",
    "    # 공연클릭\n",
    "    schedule.click()\n",
    "    time.sleep(0.5)\n",
    "    공연 상세보기 클릭\n",
    "    btn.click()\n",
    "    time.sleep(1)\n",
    "    # 공연 화면 html을 parsing\n",
    "    soup = bs(driver.page_source, 'html.parser')\n",
    "    # dt 태그를 추출\n",
    "    dt_data = soup.find('dt')\n",
    "    # ul태그를 추출\n",
    "    ul_data = dt_data.find('ul')\n",
    "    # li태그 모두를 추출\n",
    "    li_list = ul_data.find_all('li')\n",
    "    concert_data = []\n",
    "    for i in li_list:\n",
    "        data = i.find_all('span')[1].get_text().strip()\n",
    "        concert_data.append(data)\n",
    "    return concert_data"
   ]
  },
  {
   "cell_type": "code",
   "execution_count": 19,
   "metadata": {},
   "outputs": [
    {
     "name": "stdout",
     "output_type": "stream",
     "text": [
      "<selenium.webdriver.remote.webelement.WebElement (session=\"15607296eb4646bc3820e7b047f8843f\", element=\"1EAA66C508D4D75244891D6950A388E8_element_35\")> <selenium.webdriver.remote.webelement.WebElement (session=\"15607296eb4646bc3820e7b047f8843f\", element=\"1EAA66C508D4D75244891D6950A388E8_element_68\")>\n"
     ]
    },
    {
     "ename": "StaleElementReferenceException",
     "evalue": "Message: stale element reference: stale element not found\n  (Session info: chrome=115.0.5790.171); For documentation on this error, please visit: https://www.selenium.dev/documentation/webdriver/troubleshooting/errors#stale-element-reference-exception\nStacktrace:\nBacktrace:\n\tGetHandleVerifier [0x00007FF705B54A62+57106]\n\t(No symbol) [0x00007FF705ACCF52]\n\t(No symbol) [0x00007FF70599E2CB]\n\t(No symbol) [0x00007FF7059AAAF3]\n\t(No symbol) [0x00007FF7059A2649]\n\t(No symbol) [0x00007FF7059A15AA]\n\t(No symbol) [0x00007FF7059A3C5F]\n\t(No symbol) [0x00007FF7059A3D50]\n\t(No symbol) [0x00007FF7059D8FFC]\n\t(No symbol) [0x00007FF7059CEBF6]\n\t(No symbol) [0x00007FF7059F69BA]\n\t(No symbol) [0x00007FF7059CE746]\n\t(No symbol) [0x00007FF7059F6BD0]\n\t(No symbol) [0x00007FF705A0E522]\n\t(No symbol) [0x00007FF7059F6793]\n\t(No symbol) [0x00007FF7059CCE81]\n\t(No symbol) [0x00007FF7059CE064]\n\tGetHandleVerifier [0x00007FF705E04222+2873042]\n\tGetHandleVerifier [0x00007FF705E56590+3209792]\n\tGetHandleVerifier [0x00007FF705E4F3AF+3180639]\n\tGetHandleVerifier [0x00007FF705BE5F25+652245]\n\t(No symbol) [0x00007FF705AD8618]\n\t(No symbol) [0x00007FF705AD47C4]\n\t(No symbol) [0x00007FF705AD48BC]\n\t(No symbol) [0x00007FF705AC4C33]\n\tBaseThreadInitThunk [0x00007FF903C126AD+29]\n\tRtlUserThreadStart [0x00007FF905DCAA68+40]\n",
     "output_type": "error",
     "traceback": [
      "\u001b[1;31m---------------------------------------------------------------------------\u001b[0m",
      "\u001b[1;31mStaleElementReferenceException\u001b[0m            Traceback (most recent call last)",
      "Cell \u001b[1;32mIn[19], line 4\u001b[0m\n\u001b[0;32m      2\u001b[0m \u001b[39mfor\u001b[39;00m i \u001b[39min\u001b[39;00m \u001b[39mrange\u001b[39m(\u001b[39m1\u001b[39m):\n\u001b[0;32m      3\u001b[0m     \u001b[39mprint\u001b[39m(schedule_list[i], btn_list[i])\n\u001b[1;32m----> 4\u001b[0m     data \u001b[39m=\u001b[39m crawlling(schedule_list[i], btn_list[i])\n\u001b[0;32m      5\u001b[0m     concert_list\u001b[39m.\u001b[39mappend(data)\n\u001b[0;32m      6\u001b[0m     driver\u001b[39m.\u001b[39mback()\n",
      "Cell \u001b[1;32mIn[7], line 3\u001b[0m, in \u001b[0;36mcrawlling\u001b[1;34m(schedule, btn)\u001b[0m\n\u001b[0;32m      1\u001b[0m \u001b[39mdef\u001b[39;00m \u001b[39mcrawlling\u001b[39m(schedule, btn):\n\u001b[0;32m      2\u001b[0m     \u001b[39m# 공연클릭\u001b[39;00m\n\u001b[1;32m----> 3\u001b[0m     schedule\u001b[39m.\u001b[39;49mclick()\n\u001b[0;32m      4\u001b[0m     time\u001b[39m.\u001b[39msleep(\u001b[39m0.5\u001b[39m)\n\u001b[0;32m      5\u001b[0m     \u001b[39m# 공연 상세보기 클릭\u001b[39;00m\n",
      "File \u001b[1;32mc:\\Users\\moons\\AppData\\Local\\Programs\\Python\\Python311\\Lib\\site-packages\\selenium\\webdriver\\remote\\webelement.py:94\u001b[0m, in \u001b[0;36mWebElement.click\u001b[1;34m(self)\u001b[0m\n\u001b[0;32m     92\u001b[0m \u001b[39mdef\u001b[39;00m \u001b[39mclick\u001b[39m(\u001b[39mself\u001b[39m) \u001b[39m-\u001b[39m\u001b[39m>\u001b[39m \u001b[39mNone\u001b[39;00m:\n\u001b[0;32m     93\u001b[0m     \u001b[39m\"\"\"Clicks the element.\"\"\"\u001b[39;00m\n\u001b[1;32m---> 94\u001b[0m     \u001b[39mself\u001b[39;49m\u001b[39m.\u001b[39;49m_execute(Command\u001b[39m.\u001b[39;49mCLICK_ELEMENT)\n",
      "File \u001b[1;32mc:\\Users\\moons\\AppData\\Local\\Programs\\Python\\Python311\\Lib\\site-packages\\selenium\\webdriver\\remote\\webelement.py:395\u001b[0m, in \u001b[0;36mWebElement._execute\u001b[1;34m(self, command, params)\u001b[0m\n\u001b[0;32m    393\u001b[0m     params \u001b[39m=\u001b[39m {}\n\u001b[0;32m    394\u001b[0m params[\u001b[39m\"\u001b[39m\u001b[39mid\u001b[39m\u001b[39m\"\u001b[39m] \u001b[39m=\u001b[39m \u001b[39mself\u001b[39m\u001b[39m.\u001b[39m_id\n\u001b[1;32m--> 395\u001b[0m \u001b[39mreturn\u001b[39;00m \u001b[39mself\u001b[39;49m\u001b[39m.\u001b[39;49m_parent\u001b[39m.\u001b[39;49mexecute(command, params)\n",
      "File \u001b[1;32mc:\\Users\\moons\\AppData\\Local\\Programs\\Python\\Python311\\Lib\\site-packages\\selenium\\webdriver\\remote\\webdriver.py:345\u001b[0m, in \u001b[0;36mWebDriver.execute\u001b[1;34m(self, driver_command, params)\u001b[0m\n\u001b[0;32m    343\u001b[0m response \u001b[39m=\u001b[39m \u001b[39mself\u001b[39m\u001b[39m.\u001b[39mcommand_executor\u001b[39m.\u001b[39mexecute(driver_command, params)\n\u001b[0;32m    344\u001b[0m \u001b[39mif\u001b[39;00m response:\n\u001b[1;32m--> 345\u001b[0m     \u001b[39mself\u001b[39;49m\u001b[39m.\u001b[39;49merror_handler\u001b[39m.\u001b[39;49mcheck_response(response)\n\u001b[0;32m    346\u001b[0m     response[\u001b[39m\"\u001b[39m\u001b[39mvalue\u001b[39m\u001b[39m\"\u001b[39m] \u001b[39m=\u001b[39m \u001b[39mself\u001b[39m\u001b[39m.\u001b[39m_unwrap_value(response\u001b[39m.\u001b[39mget(\u001b[39m\"\u001b[39m\u001b[39mvalue\u001b[39m\u001b[39m\"\u001b[39m, \u001b[39mNone\u001b[39;00m))\n\u001b[0;32m    347\u001b[0m     \u001b[39mreturn\u001b[39;00m response\n",
      "File \u001b[1;32mc:\\Users\\moons\\AppData\\Local\\Programs\\Python\\Python311\\Lib\\site-packages\\selenium\\webdriver\\remote\\errorhandler.py:229\u001b[0m, in \u001b[0;36mErrorHandler.check_response\u001b[1;34m(self, response)\u001b[0m\n\u001b[0;32m    227\u001b[0m         alert_text \u001b[39m=\u001b[39m value[\u001b[39m\"\u001b[39m\u001b[39malert\u001b[39m\u001b[39m\"\u001b[39m]\u001b[39m.\u001b[39mget(\u001b[39m\"\u001b[39m\u001b[39mtext\u001b[39m\u001b[39m\"\u001b[39m)\n\u001b[0;32m    228\u001b[0m     \u001b[39mraise\u001b[39;00m exception_class(message, screen, stacktrace, alert_text)  \u001b[39m# type: ignore[call-arg]  # mypy is not smart enough here\u001b[39;00m\n\u001b[1;32m--> 229\u001b[0m \u001b[39mraise\u001b[39;00m exception_class(message, screen, stacktrace)\n",
      "\u001b[1;31mStaleElementReferenceException\u001b[0m: Message: stale element reference: stale element not found\n  (Session info: chrome=115.0.5790.171); For documentation on this error, please visit: https://www.selenium.dev/documentation/webdriver/troubleshooting/errors#stale-element-reference-exception\nStacktrace:\nBacktrace:\n\tGetHandleVerifier [0x00007FF705B54A62+57106]\n\t(No symbol) [0x00007FF705ACCF52]\n\t(No symbol) [0x00007FF70599E2CB]\n\t(No symbol) [0x00007FF7059AAAF3]\n\t(No symbol) [0x00007FF7059A2649]\n\t(No symbol) [0x00007FF7059A15AA]\n\t(No symbol) [0x00007FF7059A3C5F]\n\t(No symbol) [0x00007FF7059A3D50]\n\t(No symbol) [0x00007FF7059D8FFC]\n\t(No symbol) [0x00007FF7059CEBF6]\n\t(No symbol) [0x00007FF7059F69BA]\n\t(No symbol) [0x00007FF7059CE746]\n\t(No symbol) [0x00007FF7059F6BD0]\n\t(No symbol) [0x00007FF705A0E522]\n\t(No symbol) [0x00007FF7059F6793]\n\t(No symbol) [0x00007FF7059CCE81]\n\t(No symbol) [0x00007FF7059CE064]\n\tGetHandleVerifier [0x00007FF705E04222+2873042]\n\tGetHandleVerifier [0x00007FF705E56590+3209792]\n\tGetHandleVerifier [0x00007FF705E4F3AF+3180639]\n\tGetHandleVerifier [0x00007FF705BE5F25+652245]\n\t(No symbol) [0x00007FF705AD8618]\n\t(No symbol) [0x00007FF705AD47C4]\n\t(No symbol) [0x00007FF705AD48BC]\n\t(No symbol) [0x00007FF705AC4C33]\n\tBaseThreadInitThunk [0x00007FF903C126AD+29]\n\tRtlUserThreadStart [0x00007FF905DCAA68+40]\n"
     ]
    }
   ],
   "source": [
    "concert_list = []\n",
    "for i in range(1):\n",
    "    print(schedule_list[i], btn_list[i])\n",
    "    data = crawlling(schedule_list[i], btn_list[i])\n",
    "    concert_list.append(data)\n",
    "    driver.back()\n",
    "    time.sleep(1)"
   ]
  },
  {
   "cell_type": "code",
   "execution_count": 27,
   "metadata": {},
   "outputs": [],
   "source": [
    "schedule_list = driver.find_elements(By.CLASS_NAME, 'schedule_data')\n",
    "btn_list = driver.find_elements(By.CLASS_NAME, 'red-btn')\n",
    "concert_list = []\n",
    "for i in range(3):\n",
    "    schedule_list = driver.find_elements(By.CLASS_NAME, 'schedule_data')\n",
    "    btn_list = driver.find_elements(By.CLASS_NAME, 'red-btn')\n",
    "    # 공연클릭\n",
    "    schedule_list[i].click()\n",
    "    time.sleep(1)\n",
    "    # 공연 상세보기 클릭\n",
    "    btn_list[i].click()\n",
    "    time.sleep(2)\n",
    "    # 공연 화면 html을 parsing\n",
    "    soup = bs(driver.page_source, 'html.parser')\n",
    "    # dt 태그를 추출\n",
    "    dt_data = soup.find('dt')\n",
    "    # ul태그를 추출\n",
    "    ul_data = dt_data.find('ul')\n",
    "    # li태그 모두를 추출\n",
    "    li_list = ul_data.find_all('li')\n",
    "    concert_data = []\n",
    "    for i in li_list:\n",
    "        data = i.find_all('span')[1].get_text().strip()\n",
    "        concert_data.append(data)\n",
    "    concert_list.append(concert_data)\n",
    "    driver.back()\n",
    "    time.sleep(1)"
   ]
  },
  {
   "cell_type": "code",
   "execution_count": 28,
   "metadata": {},
   "outputs": [
    {
     "data": {
      "text/plain": [
       "[['2023-08-22(화)',\n",
       "  '19:30',\n",
       "  '콘서트홀',\n",
       "  '7세 이상',\n",
       "  '120',\n",
       "  'R석 90,000원 / S석 60,000원 / A석 40,000원 / B석 10,000원',\n",
       "  '예술의전당, 한국공연예술경영협회',\n",
       "  '아시아나항공',\n",
       "  '1668-1352'],\n",
       " ['2023-08-22(화)',\n",
       "  '19:30',\n",
       "  'IBK챔버홀',\n",
       "  '7세 이상',\n",
       "  '100',\n",
       "  'R석 50,000원 / S석 30,000원',\n",
       "  '예술의전당',\n",
       "  '1668-1352'],\n",
       " ['2023-08-22(화)',\n",
       "  '19:30',\n",
       "  '리사이틀홀',\n",
       "  '7세 이상',\n",
       "  '120',\n",
       "  '일반석 20,000원',\n",
       "  '예술의전당, 한국공연예술경영협회',\n",
       "  '아시아나항공',\n",
       "  '1668-1352']]"
      ]
     },
     "execution_count": 28,
     "metadata": {},
     "output_type": "execute_result"
    }
   ],
   "source": [
    "concert_list"
   ]
  }
 ],
 "metadata": {
  "kernelspec": {
   "display_name": "Python 3",
   "language": "python",
   "name": "python3"
  },
  "language_info": {
   "codemirror_mode": {
    "name": "ipython",
    "version": 3
   },
   "file_extension": ".py",
   "mimetype": "text/x-python",
   "name": "python",
   "nbconvert_exporter": "python",
   "pygments_lexer": "ipython3",
   "version": "3.11.1"
  },
  "orig_nbformat": 4
 },
 "nbformat": 4,
 "nbformat_minor": 2
}
