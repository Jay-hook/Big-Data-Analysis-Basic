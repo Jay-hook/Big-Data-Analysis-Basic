{
 "cells": [
  {
   "cell_type": "markdown",
   "metadata": {},
   "source": [
    "### 예제\n",
    "1. csv폴더 안에 drinks.csv 파일 로드 \n",
    "2. 결측치를 확인 \n",
    "3. continent 데이터에서 존재 -> 결측치를 'OT' 대체\n",
    "4. continent별 spirit_servings 컬럼의 평균, 최소, 최대, 합계 출력\n",
    "5. total_litres_of_pure_alcohol 컬럼의 평균보다 높은 continent가 어디인지 출력\n",
    "6. 국가별 술 소비량 대비 알콜 비율 컬럼을 생성"
   ]
  },
  {
   "cell_type": "code",
   "execution_count": null,
   "metadata": {},
   "outputs": [],
   "source": []
  }
 ],
 "metadata": {
  "language_info": {
   "name": "python"
  },
  "orig_nbformat": 4
 },
 "nbformat": 4,
 "nbformat_minor": 2
}
